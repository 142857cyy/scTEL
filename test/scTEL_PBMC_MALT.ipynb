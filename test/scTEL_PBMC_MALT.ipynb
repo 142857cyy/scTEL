{
 "cells": [
  {
   "cell_type": "code",
   "execution_count": null,
   "metadata": {
    "collapsed": true,
    "ExecuteTime": {
     "start_time": "2024-03-25T00:06:42.646944Z",
     "end_time": "2024-03-25T00:06:44.778724Z"
    }
   },
   "outputs": [],
   "source": [
    "%load_ext autoreload\n",
    "%autoreload 2\n",
    "\n",
    "import numpy as np\n",
    "from time import time\n",
    "import random\n",
    "import torch\n",
    "import numpy\n",
    "from scipy.stats import spearmanr\n",
    "import scanpy as sc\n",
    "import pandas as pd\n",
    "from scTEL.scTEL_API import scTEL_API\n",
    "from scTEL.scTEL_API import scTEL_API"
   ]
  },
  {
   "cell_type": "code",
   "execution_count": null,
   "outputs": [],
   "source": [
    "def setup_seed(seed):\n",
    "    torch.manual_seed(seed)\n",
    "    torch.cuda.manual_seed_all(seed)\n",
    "    numpy.random.seed(seed)\n",
    "    random.seed(seed)\n",
    "    if torch.cuda.is_available():\n",
    "        torch.cuda.manual_seed(seed)\n",
    "        torch.cuda.manual_seed_all(seed)\n",
    "\n",
    "\n",
    "setup_seed(2021)"
   ],
   "metadata": {
    "collapsed": false
   }
  },
  {
   "cell_type": "markdown",
   "source": [
    "# Data preprocessing"
   ],
   "metadata": {
    "collapsed": false
   }
  },
  {
   "cell_type": "markdown",
   "source": [
    "## Read reference dataset"
   ],
   "metadata": {
    "collapsed": false
   }
  },
  {
   "cell_type": "code",
   "execution_count": null,
   "outputs": [],
   "source": [
    "adata_protein = sc.read_h5ad('./Data/pbmc/pbmc_protein.h5ad')  # 161764,224\n",
    "adata_gene = sc.read_h5ad('./Data/pbmc/pbmc_gene.h5ad')"
   ],
   "metadata": {
    "collapsed": false,
    "ExecuteTime": {
     "start_time": "2024-03-18T20:49:36.109366Z",
     "end_time": "2024-03-18T20:49:46.369145Z"
    }
   }
  },
  {
   "cell_type": "markdown",
   "source": [
    "## Read query dataset"
   ],
   "metadata": {
    "collapsed": false
   }
  },
  {
   "cell_type": "code",
   "execution_count": null,
   "outputs": [],
   "source": [
    "adata_malt_gene = sc.read_10x_h5(\"./Data/malt_10k_protein_v3_filtered_feature_bc_matrix.h5\")  # 8412,33538\n",
    "adata_malt = sc.read(\"./Data/filtered_feature_bc_matrix/matrix.mtx\").T  # 8412,33555\n",
    "malt_features = pd.read_csv(\"./Data/filtered_feature_bc_matrix/features.tsv\", sep=\"\\t\", header=None)  # 33555,3\n",
    "adata_malt.var[\"feature_type\"] = list(malt_features[2])\n",
    "adata_malt.obs_names = adata_malt_gene.obs_names\n",
    "adata_malt.var['protein_names'] = list(malt_features[0])\n",
    "adata_malt.var_names = list(malt_features[0])\n",
    "adata_malt_protein = adata_malt[:,\n",
    "                     adata_malt.var['feature_type'] == 'Antibody Capture']  # malt cells8412，proteins17\n",
    "adata_malt_gene.var_names_make_unique()\n",
    "adata_gene_test = adata_malt_gene.copy()\n",
    "adata_protein_test = adata_malt_protein.copy()\n",
    "adata_protein_test.obs['sample'] = [1] * 8412"
   ],
   "metadata": {
    "collapsed": false,
    "ExecuteTime": {
     "start_time": "2024-03-18T20:49:46.369145Z",
     "end_time": "2024-03-18T20:49:46.863051Z"
    }
   }
  },
  {
   "cell_type": "code",
   "execution_count": null,
   "outputs": [],
   "source": [
    "adata_protein_test"
   ],
   "metadata": {
    "collapsed": false,
    "ExecuteTime": {
     "start_time": "2024-03-18T20:50:01.300418Z",
     "end_time": "2024-03-18T20:50:01.539119Z"
    }
   }
  },
  {
   "cell_type": "code",
   "execution_count": null,
   "outputs": [],
   "source": [
    "ref = set(adata_protein_test.var.index)\n",
    "prots = [] # 10\n",
    "for x in adata_protein.var.index:\n",
    "    if x in ref:\n",
    "        prots.append(x)\n",
    "adata_protein_test[:, prots].X.mean()/adata_protein[:, prots].X.mean()\n",
    "common_genes = np.intersect1d(adata_gene.var.index, adata_gene_test.var.index) # 训练集PBMC和测试集Malt相交的基因(20713)和蛋白质(10)\n",
    "common_proteins = np.intersect1d(adata_protein.var.index, adata_protein_test.var.index)"
   ],
   "metadata": {
    "collapsed": false,
    "ExecuteTime": {
     "start_time": "2024-03-18T20:50:01.543942Z",
     "end_time": "2024-03-18T20:50:01.694897Z"
    }
   }
  },
  {
   "cell_type": "markdown",
   "source": [
    "# Train scTEL model"
   ],
   "metadata": {
    "collapsed": false
   }
  },
  {
   "cell_type": "code",
   "execution_count": null,
   "outputs": [],
   "source": [
    "scTEL = scTEL_API([adata_gene], [adata_protein], adata_gene_test, train_batchkeys=['donor'], batch_size=32,\n",
    "                    min_cells=30, min_genes=200, h_size=512, h=4,drop_rate=0.15)"
   ],
   "metadata": {
    "collapsed": false,
    "ExecuteTime": {
     "start_time": "2024-03-18T20:50:02.251528Z",
     "end_time": "2024-03-18T20:52:37.843791Z"
    }
   }
  },
  {
   "cell_type": "code",
   "execution_count": null,
   "outputs": [],
   "source": [
    "start = time()\n",
    "scTEL.train(n_epochs=100, ES_max=30, decay_max=10,\n",
    "              decay_step=0.1, lr=10 ** (-3), weights_dir=\"weights_dir/pbmc_to_malt_TEL1\", load=True)\n",
    "imputed_test = scTEL.predict()\n",
    "time() - start"
   ],
   "metadata": {
    "collapsed": false,
    "ExecuteTime": {
     "start_time": "2024-03-18T10:19:09.481214Z",
     "end_time": "2024-03-18T13:52:09.581250Z"
    },
    "pycharm": {
     "is_executing": true
    }
   }
  },
  {
   "cell_type": "markdown",
   "source": [
    "## Embedding,protein prediction"
   ],
   "metadata": {
    "collapsed": false
   }
  },
  {
   "cell_type": "code",
   "execution_count": null,
   "outputs": [],
   "source": [
    "embedding = scTEL.embed()\n",
    "embedding.write(\"scTEL_maltembedding2.h5ad\")"
   ],
   "metadata": {
    "collapsed": false,
    "ExecuteTime": {
     "start_time": "2024-01-25T12:54:58.919649Z",
     "end_time": "2024-01-25T12:55:07.880244Z"
    }
   }
  },
  {
   "cell_type": "code",
   "execution_count": null,
   "outputs": [],
   "source": [
    "def corr2_coeff(A, B, pearson = True):\n",
    "    if pearson:\n",
    "        # Rowwise mean of input arrays & subtract from input arrays themeselves\n",
    "        A_mA = A - A.mean(1)[:, None]\n",
    "        B_mB = B - B.mean(1)[:, None]\n",
    "\n",
    "        # Sum of squares across rows\n",
    "        ssA = (A_mA**2).sum(1)\n",
    "        ssB = (B_mB**2).sum(1)\n",
    "\n",
    "        # Finally get corr coeff\n",
    "        corr_mat = np.dot(A_mA, B_mB.T) / np.sqrt(np.dot(ssA[:, None],ssB[None]))\n",
    "\n",
    "        return corr_mat[range(corr_mat.shape[0]), range(corr_mat.shape[0])]\n",
    "\n",
    "    else:\n",
    "        corrs = [0.] * A.shape[0]\n",
    "\n",
    "        for i in range(A.shape[0]):\n",
    "            corrs[i] = spearmanr(A[i], B[i])[0]\n",
    "\n",
    "        return corrs"
   ],
   "metadata": {
    "collapsed": false,
    "ExecuteTime": {
     "start_time": "2024-01-25T12:55:07.880244Z",
     "end_time": "2024-01-25T12:55:07.950217Z"
    }
   }
  },
  {
   "cell_type": "code",
   "execution_count": null,
   "outputs": [],
   "source": [
    "adata_protein_test.X = adata_protein_test.X.toarray()  # adata_protein_test(8412, 17)\n",
    "adata_protein_test.layers[\"raw\"] = adata_protein_test.X  #\n",
    "\n",
    "adata_protein_test = adata_protein_test[imputed_test.obs.index]  # imputed_test(8385, 224)\n",
    "\n",
    "sc.pp.normalize_total(adata_protein_test)\n",
    "sc.pp.log1p(adata_protein_test)\n",
    "sc.pp.filter_genes(adata_protein_test, min_counts = 1)\n",
    "\n",
    "common_proteins = np.intersect1d(imputed_test.var.index, adata_protein_test.var.index) # 10\n",
    "\n",
    "adata_protein_test = adata_protein_test[:, common_proteins]\n",
    "adata_protein_test.layers['imputed'] = imputed_test[:, common_proteins].X\n",
    "adata_protein_test.layers.update(imputed_test[:, common_proteins].layers)  # 8385, 10\n",
    "\n",
    "patients = np.unique(adata_protein_test.obs['sample'].values)  # 1\n",
    "\n",
    "for patient in patients:\n",
    "    indices = [x == patient for x in adata_protein_test.obs['sample']]\n",
    "    sub_adata = adata_protein_test[indices]\n",
    "\n",
    "    sc.pp.scale(sub_adata)\n",
    "    adata_protein_test[indices] = sub_adata.X"
   ],
   "metadata": {
    "collapsed": false,
    "ExecuteTime": {
     "start_time": "2024-01-25T12:55:07.950217Z",
     "end_time": "2024-01-25T12:55:08.045490Z"
    }
   }
  },
  {
   "cell_type": "code",
   "execution_count": null,
   "outputs": [],
   "source": [
    "corrs = corr2_coeff(adata_protein_test.layers[\"imputed\"].T, adata_protein_test.X.T)\n",
    "corrs = pd.DataFrame(corrs)\n",
    "corrs.index = adata_protein_test.var.index\n",
    "corrs = corrs.dropna()"
   ],
   "metadata": {
    "collapsed": false,
    "ExecuteTime": {
     "start_time": "2024-01-25T12:55:08.045490Z",
     "end_time": "2024-01-25T12:55:08.125741Z"
    }
   }
  },
  {
   "cell_type": "code",
   "execution_count": null,
   "outputs": [],
   "source": [
    "corrs.mean()"
   ],
   "metadata": {
    "collapsed": false,
    "ExecuteTime": {
     "start_time": "2024-01-25T12:55:08.125741Z",
     "end_time": "2024-01-25T12:55:08.216663Z"
    }
   }
  },
  {
   "cell_type": "code",
   "execution_count": null,
   "outputs": [],
   "source": [
    "corrs.to_csv('../corrs_results/scTEL_malt.csv')"
   ],
   "metadata": {
    "collapsed": false
   }
  },
  {
   "cell_type": "code",
   "execution_count": null,
   "outputs": [],
   "source": [
    "sq = lambda x, y: (x - y) ** 2\n",
    "sqs = sq(adata_protein_test.layers[\"imputed\"], adata_protein_test.X).mean(axis=0)\n",
    "sqs = pd.DataFrame(sqs)\n",
    "sqs.index = adata_protein_test.var.index\n",
    "print(sqs)\n",
    "print(sqs.mean())\n",
    "sqs.to_csv('./mse_results/scTEL_malt.csv')"
   ],
   "metadata": {
    "collapsed": false
   }
  },
  {
   "cell_type": "code",
   "execution_count": null,
   "outputs": [],
   "source": [
    "r95 = (adata_protein_test.X < adata_protein_test.layers['q75'])\n",
    "l95 = (adata_protein_test.X > adata_protein_test.layers['q25'])\n",
    "print(f\"Effective Coverage Probability for Nominal 50% PI: {(r95 * l95).mean():.3f}\")\n",
    "\n",
    "r95 = (adata_protein_test.X < adata_protein_test.layers['q90'])\n",
    "l95 = (adata_protein_test.X > adata_protein_test.layers['q10'])\n",
    "print(f\"Effective Coverage Probability for Nominal 80% PI: {(r95 * l95).mean():.3f}\")\n"
   ],
   "metadata": {
    "collapsed": false
   }
  },
  {
   "cell_type": "code",
   "execution_count": null,
   "outputs": [],
   "source": [
    "adata_protein_test.write(\"cover_feature/scTEL_maltfeatures.h5ad\")"
   ],
   "metadata": {
    "collapsed": false
   }
  },
  {
   "cell_type": "code",
   "execution_count": null,
   "outputs": [],
   "source": [],
   "metadata": {
    "collapsed": false
   }
  }
 ],
 "metadata": {
  "kernelspec": {
   "name": "python3",
   "language": "python",
   "display_name": "Python 3 (ipykernel)"
  },
  "language_info": {
   "codemirror_mode": {
    "name": "ipython",
    "version": 2
   },
   "file_extension": ".py",
   "mimetype": "text/x-python",
   "name": "python",
   "nbconvert_exporter": "python",
   "pygments_lexer": "ipython2",
   "version": "2.7.6"
  }
 },
 "nbformat": 4,
 "nbformat_minor": 0
}
