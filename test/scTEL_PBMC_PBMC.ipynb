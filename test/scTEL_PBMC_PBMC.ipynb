{
 "cells": [
  {
   "cell_type": "code",
   "execution_count": null,
   "metadata": {
    "ExecuteTime": {
     "start_time": "2024-03-17T22:02:38.922951Z",
     "end_time": "2024-03-17T22:02:40.886475Z"
    }
   },
   "outputs": [],
   "source": [
    "%load_ext autoreload\n",
    "%autoreload 2\n",
    "\n",
    "import numpy as np\n",
    "from scipy.stats import spearmanr\n",
    "import scanpy as sc\n",
    "import pandas as pd\n",
    "from scTEL.scTEL_API import scTEL_API\n",
    "import random,torch,numpy\n"
   ]
  },
  {
   "cell_type": "code",
   "execution_count": null,
   "outputs": [],
   "source": [
    "def setup_seed(seed):\n",
    "    torch.manual_seed(seed)\n",
    "    torch.cuda.manual_seed_all(seed)\n",
    "    numpy.random.seed(seed)\n",
    "    random.seed(seed)\n",
    "    if torch.cuda.is_available():\n",
    "        torch.cuda.manual_seed(seed)\n",
    "        torch.cuda.manual_seed_all(seed)\n",
    "\n",
    "setup_seed(2021)"
   ],
   "metadata": {
    "collapsed": false
   }
  },
  {
   "cell_type": "code",
   "execution_count": null,
   "outputs": [],
   "source": [
    "\"\"\"Read in Raw Data\"\"\"\n",
    "adata_gene = sc.read(\n",
    "    \"./Data/pbmc/pbmc_gene.h5ad\")  # CITE-seq数据集中基因表达量 161764cells,20729genes  P1-8 8名捐赠者的细胞，取三个时间点测序0，3，7\n",
    "adata_protein = sc.read(\"./Data/pbmc/pbmc_protein.h5ad\")  # CITE-seq数据集中蛋白质表达量 161764cells,224protein\n",
    "doublet_bool = (adata_gene.obs['celltype.l3'] != 'Doublet')\n",
    "adata_gene = adata_gene[doublet_bool].copy()  # 161159,20729\n",
    "adata_protein = adata_protein[doublet_bool].copy()  # 161159,224\n",
    "\n",
    "adata_gene.obs.donor.value_counts()"
   ],
   "metadata": {
    "collapsed": false,
    "ExecuteTime": {
     "start_time": "2024-03-17T22:02:40.886475Z",
     "end_time": "2024-03-17T22:02:53.704897Z"
    }
   }
  },
  {
   "cell_type": "code",
   "execution_count": null,
   "outputs": [],
   "source": [
    "train_donors = ['P1', 'P3', 'P4', 'P7']\n",
    "train_bools = [x in train_donors for x in adata_gene.obs['donor']]  # train_bools\n",
    "test_bools = np.invert(train_bools)\n",
    "\n",
    "adata_gene = adata_gene[train_bools].copy() # 用于训练集的基因表达量75496,20729\n",
    "adata_protein = adata_protein[train_bools].copy() # 训练集\n",
    "\n",
    "adata_gene_test = adata_gene[test_bools].copy() # 测试集中基因表达85663,20729\n",
    "adata_protein_test = adata_protein[test_bools].copy() # 测试集中蛋白质表达"
   ],
   "metadata": {
    "collapsed": false,
    "ExecuteTime": {
     "start_time": "2024-03-17T22:02:53.704897Z",
     "end_time": "2024-03-17T22:02:58.828489Z"
    }
   }
  },
  {
   "cell_type": "markdown",
   "source": [
    "Keep only relevant genes/proteins"
   ],
   "metadata": {
    "collapsed": false
   }
  },
  {
   "cell_type": "code",
   "execution_count": null,
   "outputs": [],
   "source": [
    "# Remove lowly expressed cells过滤测试集中低表达的细胞tmp_gene、tmp_protein\n",
    "cell_filter = (adata_gene_test.X > 10**(-8)).sum(axis = 1) >= 200\n",
    "tmp_gene = adata_gene_test[cell_filter].copy() # 85660,20729\n",
    "tmp_protein = adata_protein_test[cell_filter].copy() # 85660,224\n",
    "tmp_gene.X = tmp_gene.X.toarray()  # csc_matrix转换成ndarray格式\n",
    "tmp_protein.X = tmp_protein.X.toarray()"
   ],
   "metadata": {
    "collapsed": false,
    "ExecuteTime": {
     "start_time": "2024-03-17T22:02:59.001657Z",
     "end_time": "2024-03-17T22:03:02.381692Z"
    }
   }
  },
  {
   "cell_type": "code",
   "execution_count": null,
   "outputs": [],
   "source": [
    "# Cell and log normalize对训练集进常规标准化处理\n",
    "sc.pp.normalize_total(tmp_gene)\n",
    "sc.pp.log1p(tmp_gene) # uns:log1p\n",
    "sc.pp.normalize_total(tmp_protein)\n",
    "sc.pp.log1p(tmp_protein)"
   ],
   "metadata": {
    "collapsed": false,
    "ExecuteTime": {
     "start_time": "2024-03-17T22:03:02.382323Z",
     "end_time": "2024-03-17T22:03:13.056011Z"
    }
   }
  },
  {
   "cell_type": "code",
   "execution_count": null,
   "metadata": {
    "ExecuteTime": {
     "start_time": "2024-03-17T22:03:13.056011Z",
     "end_time": "2024-03-17T22:03:56.785475Z"
    }
   },
   "outputs": [],
   "source": [
    "# Z-score normalizean对训练集按照捐赠者划分单独进行标准化\n",
    "patients = pd.unique(tmp_gene.obs['donor'].values)\n",
    "for patient in patients:\n",
    "    indices = [x == patient for x in tmp_gene.obs['donor']]\n",
    "    \n",
    "    sub_adata = tmp_gene[indices].copy()\n",
    "    sc.pp.scale(sub_adata)\n",
    "    tmp_gene[indices] = sub_adata.X.copy()\n",
    "    \n",
    "    sub_adata = tmp_protein[indices].copy()\n",
    "    sc.pp.scale(sub_adata)\n",
    "    tmp_protein[indices] = sub_adata.X.copy()\n"
   ]
  },
  {
   "cell_type": "code",
   "execution_count": null,
   "metadata": {
    "scrolled": true,
    "ExecuteTime": {
     "start_time": "2024-03-13T15:16:16.344939Z",
     "end_time": "2024-03-13T21:00:31.200626Z"
    }
   },
   "outputs": [],
   "source": [
    "scTEL = scTEL_API([adata_gene], [adata_protein], adata_gene_test, train_batchkeys=['donor'], test_batchkey='donor',\n",
    "                  type_key='celltype.l3', batch_size=32,\n",
    "                  min_cells=30, min_genes=200, h_size=512, h=4, drop_rate=0.15)"
   ]
  },
  {
   "cell_type": "code",
   "execution_count": null,
   "outputs": [],
   "source": [
    "# model training\n",
    "scTEL.train(n_epochs=1000, ES_max=50, decay_max=8,\n",
    "            decay_step=0.1, lr=0.001, weights_dir=\"weights_dir/pbmc_to_pbmc_typel3_scTEL_Pro2\", load=False)"
   ],
   "metadata": {
    "collapsed": false
   }
  },
  {
   "cell_type": "code",
   "execution_count": null,
   "metadata": {
    "ExecuteTime": {
     "start_time": "2024-03-13T21:27:58.307554Z",
     "end_time": "2024-03-13T21:28:52.408613Z"
    }
   },
   "outputs": [],
   "source": [
    "predicted_test = scTEL.predict()\n",
    "acc = (predicted_test.obs['transfered cell labels'] == predicted_test.obs['celltype.l3']).mean()\n",
    "print(\"ACC:\", acc)"
   ]
  },
  {
   "cell_type": "code",
   "execution_count": null,
   "outputs": [],
   "source": [
    "\"\"\"Get test data\"\"\"\n",
    "adata_protein_test.X = adata_protein_test.X.toarray()  # 85663，224\n",
    "adata_protein_test.layers[\"raw\"] = adata_protein_test.X\n",
    "\n",
    "adata_protein_test = adata_protein_test[predicted_test.obs.index]  # 85660，224 取过滤后的细胞蛋白质表达\n",
    "sc.pp.normalize_total(adata_protein_test)\n",
    "sc.pp.log1p(adata_protein_test)\n",
    "common_proteins = np.intersect1d(predicted_test.var.index, adata_protein_test.var.index)\n",
    "adata_protein_test = adata_protein_test[:, common_proteins]\n",
    "adata_protein_test.layers['imputed'] = predicted_test[:, common_proteins].X  # 加入预测的蛋白质表达量\n",
    "adata_protein_test.layers.update(predicted_test[:, common_proteins].layers)  # 加入q10、q90、q25和q75\n",
    "patients = np.unique(adata_protein_test.obs['donor'].values)"
   ],
   "metadata": {
    "collapsed": false,
    "ExecuteTime": {
     "start_time": "2024-03-13T21:56:59.277576Z",
     "end_time": "2024-03-13T21:57:01.332856Z"
    }
   }
  },
  {
   "cell_type": "code",
   "execution_count": null,
   "metadata": {
    "ExecuteTime": {
     "start_time": "2024-03-13T21:57:12.498742Z",
     "end_time": "2024-03-13T21:57:13.346619Z"
    }
   },
   "outputs": [],
   "source": [
    "for patient in patients:\n",
    "    indices = [x == patient for x in adata_protein_test.obs['donor']]\n",
    "    sub_adata = adata_protein_test[indices]\n",
    "\n",
    "    sc.pp.scale(sub_adata)\n",
    "    adata_protein_test[indices] = sub_adata.X"
   ]
  },
  {
   "cell_type": "code",
   "execution_count": null,
   "metadata": {
    "ExecuteTime": {
     "start_time": "2024-03-13T21:57:22.138815Z",
     "end_time": "2024-03-13T21:57:22.187864Z"
    }
   },
   "outputs": [],
   "source": [
    "def corr2_coeff(A, B, pearson=True):\n",
    "    if pearson:\n",
    "        # Rowwise mean of input arrays & subtract from input arrays themeselves\n",
    "        A_mA = A - A.mean(1)[:, None]\n",
    "        B_mB = B - B.mean(1)[:, None]\n",
    "\n",
    "        # Sum of squares across rows\n",
    "        ssA = (A_mA ** 2).sum(1)\n",
    "        ssB = (B_mB ** 2).sum(1)\n",
    "\n",
    "        # Finally get corr coeff\n",
    "        corr_mat = np.dot(A_mA, B_mB.T) / np.sqrt(np.dot(ssA[:, None], ssB[None]))\n",
    "\n",
    "        return corr_mat[range(corr_mat.shape[0]), range(corr_mat.shape[0])]\n",
    "\n",
    "    else:\n",
    "        corrs = [0.] * A.shape[0]\n",
    "\n",
    "        for i in range(A.shape[0]):\n",
    "            corrs[i] = spearmanr(A[i], B[i])[0]\n",
    "\n",
    "        return corrs"
   ]
  },
  {
   "cell_type": "code",
   "execution_count": null,
   "metadata": {
    "ExecuteTime": {
     "start_time": "2024-03-13T21:57:25.832045Z",
     "end_time": "2024-03-13T21:57:25.997697Z"
    }
   },
   "outputs": [],
   "source": [
    "\"\"\"Compute correlation across patients\"\"\"\n",
    "corrs = corr2_coeff(adata_protein_test.layers[\"imputed\"].T, adata_protein_test.X.T)\n",
    "corrs = pd.DataFrame(corrs)\n",
    "corrs.index = adata_protein_test.var.index\n",
    "corrs = corrs.dropna()\n",
    "print(corrs)\n",
    "print(corrs.mean())"
   ]
  },
  {
   "cell_type": "code",
   "execution_count": null,
   "metadata": {
    "ExecuteTime": {
     "start_time": "2024-03-13T21:57:28.108795Z",
     "end_time": "2024-03-13T21:57:28.234432Z"
    }
   },
   "outputs": [],
   "source": [
    "MSEs = ((adata_protein_test.X - adata_protein_test.layers[\"imputed\"]) ** 2).mean(axis=0) ** (1 / 2)\n",
    "\n",
    "protein_table = pd.DataFrame(np.concatenate(\n",
    "    (corrs.to_numpy(), np.expand_dims(MSEs, axis=1), adata_protein_test.layers[\"raw\"].mean(axis=0, keepdims=True).T),\n",
    "    axis=1),\n",
    "                             index=corrs.index, columns=[\"Correlations\", \"RMSE\", \"Mean Expression\"])\n",
    "\n",
    "protein_table[\"Log-Mean Expression\"] = np.log(protein_table[\"Mean Expression\"])"
   ]
  },
  {
   "cell_type": "code",
   "execution_count": null,
   "metadata": {
    "ExecuteTime": {
     "start_time": "2024-03-13T21:57:29.031253Z",
     "end_time": "2024-03-13T21:57:29.079559Z"
    }
   },
   "outputs": [],
   "source": [
    "sq = lambda x, y: (x - y)**2"
   ]
  },
  {
   "cell_type": "code",
   "execution_count": null,
   "outputs": [],
   "source": [
    "\"\"\"Compute correlations within patient\"\"\"\n",
    "corrs_table = np.zeros((adata_protein_test.shape[1], len(np.unique(adata_protein_test.obs[\"donor\"]))))\n",
    "sq_table = corrs_table.copy()  # 224，4\n",
    "i = 0\n",
    "for patient in np.unique(adata_protein_test.obs[\"donor\"]):\n",
    "    truth = adata_protein_test[adata_protein_test.obs[\"donor\"] == patient].X.copy()\n",
    "    imputed = adata_protein_test.layers[\"imputed\"][adata_protein_test.obs[\"donor\"] == patient].copy()\n",
    "\n",
    "    corrs_table[:, i] = corr2_coeff(truth.T, imputed.T)\n",
    "    sq_table[:, i] = sq(truth, imputed).mean(axis=0)\n",
    "\n",
    "    i += 1\n",
    "\n",
    "\n",
    "if np.isnan(corrs_table).sum() > 0:\n",
    "    corrs_table[np.isnan(corrs_table)] = 0"
   ],
   "metadata": {
    "collapsed": false,
    "ExecuteTime": {
     "start_time": "2024-03-13T21:57:35.219942Z",
     "end_time": "2024-03-13T21:57:35.691162Z"
    }
   }
  },
  {
   "cell_type": "code",
   "execution_count": null,
   "metadata": {
    "ExecuteTime": {
     "start_time": "2024-03-13T21:57:36.048176Z",
     "end_time": "2024-03-13T21:57:36.167113Z"
    }
   },
   "outputs": [],
   "source": [
    "corrs_table = pd.DataFrame(corrs_table)\n",
    "corrs_table.index, corrs_table.columns = adata_protein_test.var.index, np.unique(adata_protein_test.obs[\"donor\"])\n",
    "\n",
    "sq_table = pd.DataFrame(sq_table)\n",
    "sq_table.index, sq_table.columns = adata_protein_test.var.index, np.unique(adata_protein_test.obs[\"donor\"])"
   ]
  },
  {
   "cell_type": "code",
   "execution_count": null,
   "metadata": {
    "ExecuteTime": {
     "start_time": "2024-03-13T21:57:40.774027Z",
     "end_time": "2024-03-13T21:57:40.993294Z"
    }
   },
   "outputs": [],
   "source": [
    "r95 = (adata_protein_test.X < adata_protein_test.layers['q75'])\n",
    "l95 = (adata_protein_test.X > adata_protein_test.layers['q25'])\n",
    "\n",
    "print(f\"Effective Coverage Probability for Nominal 50% PI: {(r95*l95).mean():.3f}\")"
   ]
  },
  {
   "cell_type": "code",
   "execution_count": null,
   "metadata": {
    "ExecuteTime": {
     "start_time": "2024-03-13T21:57:41.446905Z",
     "end_time": "2024-03-13T21:57:41.582871Z"
    }
   },
   "outputs": [],
   "source": [
    "r95 = (adata_protein_test.X < adata_protein_test.layers['q90'])\n",
    "l95 = (adata_protein_test.X > adata_protein_test.layers['q10'])\n",
    "\n",
    "print(f\"Effective Coverage Probability for Nominal 80% PI: {(r95*l95).mean():.3f}\")"
   ]
  },
  {
   "cell_type": "code",
   "execution_count": null,
   "metadata": {
    "ExecuteTime": {
     "start_time": "2024-03-13T22:01:19.049187Z",
     "end_time": "2024-03-13T22:01:21.188335Z"
    }
   },
   "outputs": [],
   "source": [
    "tmp_gene.write('gene_pbmctopbmc_scTEL.h5ad')\n",
    "adata_protein_test.write('protein_pbmctopbmc_scTEL.h5ad')"
   ]
  },
  {
   "cell_type": "code",
   "execution_count": null,
   "outputs": [],
   "source": [],
   "metadata": {
    "collapsed": false
   }
  }
 ],
 "metadata": {
  "kernelspec": {
   "name": "scipenn",
   "language": "python",
   "display_name": "sciPENN"
  },
  "language_info": {
   "codemirror_mode": {
    "name": "ipython",
    "version": 3
   },
   "file_extension": ".py",
   "mimetype": "text/x-python",
   "name": "python",
   "nbconvert_exporter": "python",
   "pygments_lexer": "ipython3",
   "version": "3.7.1"
  }
 },
 "nbformat": 4,
 "nbformat_minor": 4
}
