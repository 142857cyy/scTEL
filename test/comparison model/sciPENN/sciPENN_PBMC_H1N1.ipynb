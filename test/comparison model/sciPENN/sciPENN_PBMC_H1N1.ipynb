{
 "cells": [
  {
   "cell_type": "code",
   "execution_count": 1,
   "metadata": {
    "ExecuteTime": {
     "start_time": "2024-03-03T09:40:17.880881Z",
     "end_time": "2024-03-03T09:40:18.897678Z"
    }
   },
   "outputs": [],
   "source": [
    "%load_ext autoreload\n",
    "%autoreload 2\n",
    "\n",
    "import numpy as np\n",
    "from matplotlib import pyplot\n",
    "import os\n",
    "# os.chdir('/home/yychen/sciPENN_codes-master/Experiments')\n",
    "from copy import deepcopy\n",
    "\n",
    "from time import time\n",
    "\n",
    "from math import ceil\n",
    "from scipy.stats import spearmanr, gamma, poisson\n",
    "\n",
    "from anndata import AnnData, read_h5ad\n",
    "import scanpy as sc\n",
    "from scanpy import read\n",
    "import pandas as pd\n",
    "\n",
    "from torch.utils.data import DataLoader, TensorDataset\n",
    "from torch import tensor\n",
    "from torch.cuda import is_available\n",
    "\n",
    "from sciPENN.sciPENN_API import sciPENN_API"
   ]
  },
  {
   "cell_type": "code",
   "execution_count": 2,
   "metadata": {
    "scrolled": true,
    "ExecuteTime": {
     "start_time": "2024-03-02T22:27:53.806356Z",
     "end_time": "2024-03-02T22:30:26.345826Z"
    }
   },
   "outputs": [],
   "source": [
    "\"\"\"Read in Raw Data\"\"\"\n",
    "adata_gene = sc.read(\"../Data/pbmc/pbmc_gene.h5ad\")\n",
    "adata_protein = sc.read(\"../Data/pbmc/pbmc_protein.h5ad\")\n",
    "\n",
    "adata_gene_test = sc.read(\"../Data/H1N1/gene_data.mtx\").T\n",
    "adata_gene_test.var.index = pd.read_csv(\"../Data/H1N1/gene_names.txt\", index_col = 0).iloc[:, 0]\n",
    "adata_gene_test.obs = pd.read_csv(\"../Data/H1N1/meta_data.txt\", sep = ',', index_col = 0)"
   ]
  },
  {
   "cell_type": "code",
   "execution_count": 3,
   "outputs": [
    {
     "name": "stdout",
     "output_type": "stream",
     "text": [
      "Searching for GPU\n",
      "GPU detected, using GPU\n",
      "\n",
      "QC Filtering Training Cells\n",
      "QC Filtering Testing Cells\n",
      "\n",
      "QC Filtering Training Genes\n",
      "QC Filtering Testing Genes\n",
      "\n",
      "Normalizing Training Cells\n",
      "Normalizing Testing Cells\n",
      "\n",
      "Log-Normalizing Training Data\n",
      "Log-Normalizing Testing Data\n",
      "\n",
      "Finding HVGs\n"
     ]
    },
    {
     "name": "stderr",
     "output_type": "stream",
     "text": [
      "C:\\Users\\26074\\.conda\\envs\\sciPENN\\lib\\site-packages\\anndata\\_core\\anndata.py:1785: FutureWarning: X.dtype being converted to np.float32 from float64. In the next version of anndata (0.9) conversion will not be automatic. Pass dtype explicitly to avoid this warning. Pass `AnnData(X, dtype=X.dtype, ...)` to get the future behavour.\n",
      "  [AnnData(sparse.csr_matrix(a.shape), obs=a.obs) for a in all_adatas],\n",
      "C:\\Users\\26074\\.conda\\envs\\sciPENN\\lib\\site-packages\\pandas\\core\\indexing.py:1732: SettingWithCopyWarning: \n",
      "A value is trying to be set on a copy of a slice from a DataFrame\n",
      "\n",
      "See the caveats in the documentation: https://pandas.pydata.org/pandas-docs/stable/user_guide/indexing.html#returning-a-view-versus-a-copy\n",
      "  self._setitem_single_block(indexer, value, name)\n"
     ]
    },
    {
     "name": "stdout",
     "output_type": "stream",
     "text": [
      "\n",
      "Normalizing Gene Training Data by Batch\n"
     ]
    },
    {
     "name": "stderr",
     "output_type": "stream",
     "text": [
      "100%|██████████| 8/8 [00:09<00:00,  1.22s/it]\n"
     ]
    },
    {
     "name": "stdout",
     "output_type": "stream",
     "text": [
      "\n",
      "Normalizing Protein Training Data by Batch\n"
     ]
    },
    {
     "name": "stderr",
     "output_type": "stream",
     "text": [
      "100%|██████████| 8/8 [00:09<00:00,  1.15s/it]\n"
     ]
    },
    {
     "name": "stdout",
     "output_type": "stream",
     "text": [
      "\n",
      "Normalizing Gene Testing Data by Batch\n"
     ]
    },
    {
     "name": "stderr",
     "output_type": "stream",
     "text": [
      "100%|██████████| 20/20 [00:02<00:00,  7.88it/s]\n"
     ]
    }
   ],
   "source": [
    "sciPENN = sciPENN_API([adata_gene], [adata_protein], adata_gene_test,\n",
    "                    train_batchkeys = ['donor'], test_batchkey = 'sample')"
   ],
   "metadata": {
    "collapsed": false,
    "ExecuteTime": {
     "start_time": "2024-03-02T22:32:25.635583Z",
     "end_time": "2024-03-02T22:36:21.819572Z"
    }
   }
  },
  {
   "cell_type": "code",
   "execution_count": 4,
   "metadata": {
    "ExecuteTime": {
     "start_time": "2024-03-02T22:37:43.748780Z",
     "end_time": "2024-03-02T22:37:54.016771Z"
    }
   },
   "outputs": [],
   "source": [
    "adata_protein_test = sc.read(\"../Data/H1N1/protein_data.mtx\").T\n",
    "adata_protein_test.var.index = [x[:len(x) - 5] for x in pd.read_csv(\"../Data/H1N1/protein_names.txt\", index_col = 0).iloc[:,0]]\n",
    "adata_protein_test.obs = pd.read_csv(\"../Data/H1N1/meta_data.txt\", sep = ',', index_col = 0)"
   ]
  },
  {
   "cell_type": "code",
   "execution_count": 5,
   "metadata": {
    "ExecuteTime": {
     "start_time": "2024-03-02T22:45:23.058317Z",
     "end_time": "2024-03-03T01:29:43.148665Z"
    }
   },
   "outputs": [
    {
     "name": "stdout",
     "output_type": "stream",
     "text": [
      "Epoch 0 prediction loss = 1.398\n",
      "Epoch 1 prediction loss = 0.964\n",
      "Epoch 2 prediction loss = 0.962\n",
      "Epoch 3 prediction loss = 0.965\n",
      "Epoch 4 prediction loss = 0.980\n",
      "Epoch 5 prediction loss = 0.968\n",
      "Epoch 6 prediction loss = 0.996\n",
      "Epoch 7 prediction loss = 0.990\n",
      "Epoch 8 prediction loss = 1.008\n",
      "Decaying loss to 0.0005\n",
      "Epoch 9 prediction loss = 0.950\n",
      "Epoch 10 prediction loss = 0.943\n",
      "Epoch 11 prediction loss = 0.933\n",
      "Epoch 12 prediction loss = 0.951\n",
      "Epoch 13 prediction loss = 0.950\n",
      "Epoch 14 prediction loss = 0.940\n",
      "Epoch 15 prediction loss = 0.975\n",
      "Epoch 16 prediction loss = 0.936\n",
      "Epoch 17 prediction loss = 0.947\n",
      "Epoch 18 prediction loss = 0.978\n",
      "Decaying loss to 0.00025\n",
      "Epoch 19 prediction loss = 0.929\n",
      "Epoch 20 prediction loss = 0.931\n",
      "Epoch 21 prediction loss = 0.914\n",
      "Epoch 22 prediction loss = 0.931\n",
      "Epoch 23 prediction loss = 0.919\n",
      "Epoch 24 prediction loss = 0.936\n",
      "Epoch 25 prediction loss = 0.934\n",
      "Epoch 26 prediction loss = 0.923\n",
      "Epoch 27 prediction loss = 0.933\n",
      "Epoch 28 prediction loss = 0.920\n",
      "Decaying loss to 0.000125\n",
      "Epoch 29 prediction loss = 0.905\n",
      "Epoch 30 prediction loss = 0.912\n",
      "Epoch 31 prediction loss = 0.915\n",
      "Epoch 32 prediction loss = 0.914\n",
      "Epoch 33 prediction loss = 0.903\n",
      "Epoch 34 prediction loss = 0.909\n",
      "Epoch 35 prediction loss = 0.913\n",
      "Epoch 36 prediction loss = 0.908\n",
      "Decaying loss to 6.25e-05\n",
      "Epoch 37 prediction loss = 0.918\n",
      "Epoch 38 prediction loss = 0.917\n",
      "Epoch 39 prediction loss = 0.915\n",
      "Epoch 40 prediction loss = 0.902\n",
      "Epoch 41 prediction loss = 0.911\n"
     ]
    }
   ],
   "source": [
    "sciPENN.train(n_epochs = 10000, ES_max = 12, decay_max = 8,\n",
    "             decay_step = 0.1, lr = 10**(-3), weights_dir = \"weights_dir/pbmc_to_h1n1\",load=False)"
   ]
  },
  {
   "cell_type": "code",
   "execution_count": 8,
   "metadata": {
    "ExecuteTime": {
     "start_time": "2024-03-03T08:49:24.906824Z",
     "end_time": "2024-03-03T08:49:34.313019Z"
    }
   },
   "outputs": [
    {
     "name": "stderr",
     "output_type": "stream",
     "text": [
      "D:\\Papercode\\sciPENN_codes-master\\sciPENN_codes-master\\Experiments\\sciPENN\\Network\\Model.py:214: FutureWarning: X.dtype being converted to np.float32 from float64. In the next version of anndata (0.9) conversion will not be automatic. Pass dtype explicitly to avoid this warning. Pass `AnnData(X, dtype=X.dtype, ...)` to get the future behavour.\n",
      "  imputed_test = AnnData(zeros(shape=(len(cells), len(proteins.var))))\n"
     ]
    }
   ],
   "source": [
    "imputed_test = sciPENN.predict()"
   ]
  },
  {
   "cell_type": "code",
   "execution_count": 6,
   "metadata": {
    "ExecuteTime": {
     "start_time": "2024-03-03T08:48:09.226631Z",
     "end_time": "2024-03-03T08:48:50.448834Z"
    }
   },
   "outputs": [
    {
     "name": "stderr",
     "output_type": "stream",
     "text": [
      "D:\\Papercode\\sciPENN_codes-master\\sciPENN_codes-master\\Experiments\\sciPENN\\Network\\Model.py:181: FutureWarning: X.dtype being converted to np.float32 from float64. In the next version of anndata (0.9) conversion will not be automatic. Pass dtype explicitly to avoid this warning. Pass `AnnData(X, dtype=X.dtype, ...)` to get the future behavour.\n",
      "  embedding = AnnData(zeros(shape=(len(cells_train) + len(cells_test), 512)))\n"
     ]
    }
   ],
   "source": [
    "embedding = sciPENN.embed()\n",
    "embedding.write(\"scipenn_pbmctoh1n1embedding.h5ad\")"
   ]
  },
  {
   "cell_type": "code",
   "execution_count": 9,
   "metadata": {
    "ExecuteTime": {
     "start_time": "2024-03-03T08:49:47.211012Z",
     "end_time": "2024-03-03T08:49:52.361618Z"
    }
   },
   "outputs": [
    {
     "name": "stderr",
     "output_type": "stream",
     "text": [
      "C:\\Users\\26074\\.conda\\envs\\sciPENN\\lib\\site-packages\\scanpy\\preprocessing\\_normalization.py:155: UserWarning: Revieved a view of an AnnData. Making a copy.\n",
      "  view_to_actual(adata)\n",
      "C:\\Users\\26074\\.conda\\envs\\sciPENN\\lib\\site-packages\\scanpy\\preprocessing\\_simple.py:843: UserWarning: Revieved a view of an AnnData. Making a copy.\n",
      "  view_to_actual(adata)\n"
     ]
    }
   ],
   "source": [
    "\"\"\"Get test data\"\"\"\n",
    "\n",
    "adata_protein_test = sc.read(\"../Data/H1N1/protein_data.mtx\").T\n",
    "adata_protein_test.var.index = [x[:len(x) - 5] for x in pd.read_csv(\"../Data/H1N1/protein_names.txt\", index_col = 0).iloc[:,0]]\n",
    "adata_protein_test.obs = pd.read_csv(\"../Data/H1N1/meta_data.txt\", sep = ',', index_col = 0)\n",
    "\n",
    "adata_protein_test.X = adata_protein_test.X.toarray()\n",
    "adata_protein_test.layers[\"raw\"] = adata_protein_test.X\n",
    "\n",
    "adata_protein_test = adata_protein_test[imputed_test.obs.index]\n",
    "\n",
    "sc.pp.normalize_total(adata_protein_test)\n",
    "sc.pp.log1p(adata_protein_test)\n",
    "\n",
    "common_proteins = np.intersect1d(imputed_test.var.index, adata_protein_test.var.index)\n",
    "\n",
    "adata_protein_test = adata_protein_test[:, common_proteins]\n",
    "adata_protein_test.layers['imputed'] = imputed_test[:, common_proteins].X\n",
    "adata_protein_test.layers.update(imputed_test[:, common_proteins].layers)\n",
    "\n",
    "patients = np.unique(adata_protein_test.obs['sample'].values)\n",
    "\n",
    "for patient in patients:\n",
    "    indices = [x == patient for x in adata_protein_test.obs['sample']]\n",
    "    sub_adata = adata_protein_test[indices]\n",
    "\n",
    "    sc.pp.scale(sub_adata)\n",
    "    adata_protein_test[indices] = sub_adata.X"
   ]
  },
  {
   "cell_type": "code",
   "execution_count": 10,
   "metadata": {
    "ExecuteTime": {
     "start_time": "2024-03-03T08:49:53.806366Z",
     "end_time": "2024-03-03T08:49:53.897336Z"
    }
   },
   "outputs": [],
   "source": [
    "def corr2_coeff(A, B, pearson = True):\n",
    "    if pearson:\n",
    "        # Rowwise mean of input arrays & subtract from input arrays themeselves\n",
    "        A_mA = A - A.mean(1)[:, None]\n",
    "        B_mB = B - B.mean(1)[:, None]\n",
    "\n",
    "        # Sum of squares across rows\n",
    "        ssA = (A_mA**2).sum(1)\n",
    "        ssB = (B_mB**2).sum(1)\n",
    "\n",
    "        # Finally get corr coeff\n",
    "        corr_mat = np.dot(A_mA, B_mB.T) / np.sqrt(np.dot(ssA[:, None],ssB[None]))\n",
    "        \n",
    "        return corr_mat[range(corr_mat.shape[0]), range(corr_mat.shape[0])]\n",
    "    \n",
    "    else:\n",
    "        corrs = [0.] * A.shape[0]\n",
    "        \n",
    "        for i in range(A.shape[0]):\n",
    "            corrs[i] = spearmanr(A[i], B[i])[0]\n",
    "            \n",
    "        return corrs"
   ]
  },
  {
   "cell_type": "code",
   "execution_count": 11,
   "metadata": {
    "ExecuteTime": {
     "start_time": "2024-03-03T08:49:58.688631Z",
     "end_time": "2024-03-03T08:49:58.801675Z"
    }
   },
   "outputs": [],
   "source": [
    "\"\"\"Compute correlation across patients\"\"\"\n",
    "\n",
    "corrs = corr2_coeff(adata_protein_test.layers[\"imputed\"].T, adata_protein_test.X.T)\n",
    "corrs = pd.DataFrame(corrs)\n",
    "corrs.index = adata_protein_test.var.index\n",
    "corrs = corrs.dropna()"
   ]
  },
  {
   "cell_type": "code",
   "execution_count": 12,
   "metadata": {
    "ExecuteTime": {
     "start_time": "2024-03-03T08:50:03.302046Z",
     "end_time": "2024-03-03T08:50:03.394557Z"
    }
   },
   "outputs": [],
   "source": [
    "MSEs= ((adata_protein_test.X - adata_protein_test.layers[\"imputed\"])**2).mean(axis = 0)**(1/2)\n",
    "\n",
    "protein_table = pd.DataFrame(np.concatenate((corrs.to_numpy(), np.expand_dims(MSEs, axis = 1), adata_protein_test.layers[\"raw\"].mean(axis = 0, keepdims = True).T), axis = 1), \n",
    "                             index = corrs.index, columns = [\"Correlations\", \"RMSE\", \"Mean Expression\"])\n",
    "\n",
    "protein_table[\"Log-Mean Expression\"] = np.log(protein_table[\"Mean Expression\"])"
   ]
  },
  {
   "cell_type": "code",
   "execution_count": 13,
   "metadata": {
    "ExecuteTime": {
     "start_time": "2024-03-03T08:50:05.698733Z",
     "end_time": "2024-03-03T08:50:05.783061Z"
    }
   },
   "outputs": [],
   "source": [
    "sq = lambda x, y: (x - y)**2"
   ]
  },
  {
   "cell_type": "code",
   "execution_count": 14,
   "metadata": {
    "ExecuteTime": {
     "start_time": "2024-03-03T08:50:15.228367Z",
     "end_time": "2024-03-03T08:50:15.497700Z"
    }
   },
   "outputs": [],
   "source": [
    "\"\"\"Compute correlations within patient\"\"\"\n",
    "\n",
    "corrs_table = np.zeros((adata_protein_test.shape[1], len(np.unique(adata_protein_test.obs[\"sample\"]))))\n",
    "sq_table = corrs_table.copy()\n",
    "\n",
    "i = 0\n",
    "for patient in np.unique(adata_protein_test.obs[\"sample\"]):\n",
    "    truth = adata_protein_test[adata_protein_test.obs[\"sample\"] == patient].X.copy()\n",
    "    imputed = adata_protein_test.layers[\"imputed\"][adata_protein_test.obs[\"sample\"] == patient].copy()\n",
    "\n",
    "    corrs_table[:, i] = corr2_coeff(truth.T, imputed.T)\n",
    "    sq_table[:, i] = sq(truth, imputed).mean(axis = 0)\n",
    "    i += 1\n",
    "\n",
    "if np.isnan(corrs_table).sum() > 0:\n",
    "    corrs_table[np.isnan(corrs_table)] = 0"
   ]
  },
  {
   "cell_type": "code",
   "execution_count": 15,
   "metadata": {
    "ExecuteTime": {
     "start_time": "2024-03-03T08:50:17.325945Z",
     "end_time": "2024-03-03T08:50:17.450283Z"
    }
   },
   "outputs": [],
   "source": [
    "corrs_table = pd.DataFrame(corrs_table)\n",
    "corrs_table.index, corrs_table.columns = adata_protein_test.var.index, np.unique(adata_protein_test.obs[\"sample\"])\n",
    "\n",
    "sq_table = pd.DataFrame(sq_table)\n",
    "sq_table.index, sq_table.columns = adata_protein_test.var.index, np.unique(adata_protein_test.obs[\"sample\"])"
   ]
  },
  {
   "cell_type": "code",
   "execution_count": 16,
   "metadata": {
    "ExecuteTime": {
     "start_time": "2024-03-03T08:50:21.324325Z",
     "end_time": "2024-03-03T08:50:21.407344Z"
    }
   },
   "outputs": [
    {
     "data": {
      "text/plain": "200_d0    0.523797\n201_d0    0.490595\n205_d0    0.502941\n207_d0    0.491734\n209_d0    0.507680\n212_d0    0.503582\n215_d0    0.519087\n229_d0    0.487023\n233_d0    0.493979\n234_d0    0.528349\n236_d0    0.483877\n237_d0    0.499614\n245_d0    0.486768\n250_d0    0.503890\n256_d0    0.534520\n261_d0    0.500027\n268_d0    0.503700\n273_d0    0.469704\n277_d0    0.519644\n279_d0    0.497677\ndtype: float64"
     },
     "execution_count": 16,
     "metadata": {},
     "output_type": "execute_result"
    }
   ],
   "source": [
    "corrs_table.mean(axis = 0)"
   ]
  },
  {
   "cell_type": "code",
   "execution_count": null,
   "metadata": {
    "ExecuteTime": {
     "start_time": "2024-03-03T08:50:24.158572Z",
     "end_time": "2024-03-03T08:50:24.252250Z"
    }
   },
   "outputs": [],
   "source": [
    "corrs_table.mean().mean()"
   ]
  },
  {
   "cell_type": "code",
   "execution_count": 19,
   "metadata": {
    "ExecuteTime": {
     "start_time": "2024-03-03T08:51:24.835156Z",
     "end_time": "2024-03-03T08:51:24.919538Z"
    }
   },
   "outputs": [],
   "source": [
    "corrs_table.to_csv('corrs_results/scipenn_pbmctoh1n1.csv')"
   ]
  },
  {
   "cell_type": "code",
   "execution_count": null,
   "metadata": {
    "ExecuteTime": {
     "start_time": "2024-03-03T08:51:30.348771Z",
     "end_time": "2024-03-03T08:51:30.436726Z"
    }
   },
   "outputs": [],
   "source": [
    "sq_table.mean(axis = 0)"
   ]
  },
  {
   "cell_type": "code",
   "execution_count": 21,
   "metadata": {
    "ExecuteTime": {
     "start_time": "2024-03-03T08:51:38.274965Z",
     "end_time": "2024-03-03T08:51:38.352895Z"
    }
   },
   "outputs": [
    {
     "data": {
      "text/plain": "0.694491784375603"
     },
     "execution_count": 21,
     "metadata": {},
     "output_type": "execute_result"
    }
   ],
   "source": [
    "sq_table.mean().mean()"
   ]
  },
  {
   "cell_type": "code",
   "execution_count": 22,
   "metadata": {
    "ExecuteTime": {
     "start_time": "2024-03-03T08:51:56.376327Z",
     "end_time": "2024-03-03T08:51:56.464077Z"
    }
   },
   "outputs": [],
   "source": [
    "sq_table.to_csv('mse_results/scipenn_pbmctoh1n1.csv')"
   ]
  },
  {
   "cell_type": "code",
   "execution_count": null,
   "metadata": {
    "ExecuteTime": {
     "start_time": "2024-03-03T08:52:00.719394Z",
     "end_time": "2024-03-03T08:52:00.816841Z"
    }
   },
   "outputs": [],
   "source": [
    "r95 = (adata_protein_test.X < adata_protein_test.layers['q75'])\n",
    "l95 = (adata_protein_test.X > adata_protein_test.layers['q25'])\n",
    "\n",
    "print(f\"Effective Coverage Probability for Nominal 50% PI: {(r95*l95).mean():.3f}\")"
   ]
  },
  {
   "cell_type": "code",
   "execution_count": null,
   "metadata": {
    "ExecuteTime": {
     "start_time": "2024-03-03T08:52:03.840418Z",
     "end_time": "2024-03-03T08:52:03.927379Z"
    }
   },
   "outputs": [],
   "source": [
    "r95 = (adata_protein_test.X < adata_protein_test.layers['q90'])\n",
    "l95 = (adata_protein_test.X > adata_protein_test.layers['q10'])\n",
    "\n",
    "print(f\"Effective Coverage Probability for Nominal 80% PI: {(r95*l95).mean():.3f}\")"
   ]
  },
  {
   "cell_type": "code",
   "execution_count": 25,
   "metadata": {
    "ExecuteTime": {
     "start_time": "2024-03-03T08:52:12.141227Z",
     "end_time": "2024-03-03T08:52:12.824368Z"
    }
   },
   "outputs": [],
   "source": [
    "adata_protein_test.write(\"scipenn_pbmctoh1n1features.h5ad\")"
   ]
  },
  {
   "cell_type": "code",
   "execution_count": null,
   "outputs": [],
   "source": [],
   "metadata": {
    "collapsed": false
   }
  }
 ],
 "metadata": {
  "kernelspec": {
   "name": "python3",
   "language": "python",
   "display_name": "Python 3 (ipykernel)"
  },
  "language_info": {
   "codemirror_mode": {
    "name": "ipython",
    "version": 3
   },
   "file_extension": ".py",
   "mimetype": "text/x-python",
   "name": "python",
   "nbconvert_exporter": "python",
   "pygments_lexer": "ipython3",
   "version": "3.7.0"
  }
 },
 "nbformat": 4,
 "nbformat_minor": 4
}
