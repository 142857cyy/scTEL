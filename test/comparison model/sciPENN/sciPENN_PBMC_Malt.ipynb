{
 "cells": [
  {
   "cell_type": "code",
   "execution_count": null,
   "outputs": [],
   "source": [
    "adata_protein = sc.read_h5ad('../data/pbmc/pbmc_protein.h5ad')\n",
    "adata_gene = sc.read_h5ad('../data/pbmc/pbmc_gene.h5ad')"
   ],
   "metadata": {
    "collapsed": false
   }
  },
  {
   "cell_type": "code",
   "execution_count": null,
   "metadata": {
    "ExecuteTime": {
     "start_time": "2024-03-02T18:44:08.928725Z",
     "end_time": "2024-03-02T18:44:09.421862Z"
    }
   },
   "outputs": [],
   "source": [
    "adata_malt_gene = sc.read_10x_h5(\"../Data/malt_10k_protein_v3_filtered_feature_bc_matrix.h5\") # 8412,33538"
   ]
  },
  {
   "cell_type": "code",
   "execution_count": null,
   "metadata": {
    "ExecuteTime": {
     "start_time": "2024-03-02T18:44:10.806431Z",
     "end_time": "2024-03-02T18:44:23.727906Z"
    }
   },
   "outputs": [],
   "source": [
    "adata_malt = sc.read(\"../Data/filtered_feature_bc_matrix/matrix.mtx\").T # 8412,33555\n",
    "malt_features =  pd.read_csv(\"../Data/filtered_feature_bc_matrix/features.tsv\", sep=\"\\t\", header=None)"
   ]
  },
  {
   "cell_type": "code",
   "execution_count": null,
   "metadata": {
    "ExecuteTime": {
     "start_time": "2024-03-02T18:44:23.726905Z",
     "end_time": "2024-03-02T18:44:23.806282Z"
    }
   },
   "outputs": [],
   "source": [
    "adata_malt.var[\"feature_type\"] = list(malt_features[2])\n",
    "adata_malt.obs_names = adata_malt_gene.obs_names\n",
    "adata_malt.var['protein_names'] = list(malt_features[0])\n",
    "adata_malt.var_names = list(malt_features[0])"
   ]
  },
  {
   "cell_type": "code",
   "execution_count": null,
   "metadata": {
    "ExecuteTime": {
     "start_time": "2024-03-02T18:44:23.805282Z",
     "end_time": "2024-03-02T18:44:23.884785Z"
    }
   },
   "outputs": [],
   "source": [
    "adata_malt_protein = adata_malt[:,adata_malt.var['feature_type'] == 'Antibody Capture'] # malt 蛋白质17 cells8412，proteins17"
   ]
  },
  {
   "cell_type": "code",
   "execution_count": null,
   "metadata": {
    "ExecuteTime": {
     "start_time": "2024-03-02T18:44:23.884785Z",
     "end_time": "2024-03-02T18:44:23.962200Z"
    }
   },
   "outputs": [],
   "source": [
    "adata_malt_gene.var_names_make_unique()"
   ]
  },
  {
   "cell_type": "code",
   "execution_count": null,
   "metadata": {
    "ExecuteTime": {
     "start_time": "2024-03-02T18:44:23.963202Z",
     "end_time": "2024-03-02T18:44:24.059096Z"
    }
   },
   "outputs": [],
   "source": [
    "adata_gene_test = adata_malt_gene.copy()"
   ]
  },
  {
   "cell_type": "markdown",
   "source": [
    "Hold out the protein expression for the MALT data"
   ],
   "metadata": {
    "collapsed": false
   }
  },
  {
   "cell_type": "code",
   "execution_count": null,
   "metadata": {
    "ExecuteTime": {
     "start_time": "2024-03-02T18:44:24.062096Z",
     "end_time": "2024-03-02T18:44:24.151829Z"
    }
   },
   "outputs": [],
   "source": [
    "adata_protein_test = adata_malt_protein.copy()\n",
    "adata_protein_test.obs['sample'] = [1]*8412\n",
    "adata_protein_test"
   ]
  },
  {
   "cell_type": "markdown",
   "source": [
    "Among the 17 proteins in the MALT dataset, 10 overlapped with the proteins in the PBMC data."
   ],
   "metadata": {
    "collapsed": false
   }
  },
  {
   "cell_type": "code",
   "execution_count": null,
   "metadata": {
    "ExecuteTime": {
     "start_time": "2024-03-02T18:44:26.355236Z",
     "end_time": "2024-03-02T18:44:26.426716Z"
    }
   },
   "outputs": [],
   "source": [
    "ref = set(adata_protein_test.var.index)\n",
    "prots = [] # 10\n",
    "for x in adata_protein.var.index:\n",
    "    if x in ref:\n",
    "        prots.append(x)\n",
    "\n",
    "prots"
   ]
  },
  {
   "cell_type": "markdown",
   "source": [
    "在两个数据集中测序的蛋白质中，MALT数据集中的平均蛋白质表达比PBMC数据集中的高四倍以上，表明了这两个数据集之间的内在差异"
   ],
   "metadata": {
    "collapsed": false
   }
  },
  {
   "cell_type": "code",
   "execution_count": null,
   "metadata": {
    "ExecuteTime": {
     "start_time": "2024-03-02T18:44:30.116224Z",
     "end_time": "2024-03-02T18:44:30.254142Z"
    }
   },
   "outputs": [],
   "source": [
    "adata_protein_test[:, prots].X.mean()/adata_protein[:, prots].X.mean()"
   ]
  },
  {
   "cell_type": "code",
   "execution_count": null,
   "metadata": {
    "ExecuteTime": {
     "start_time": "2024-03-02T18:44:31.143545Z",
     "end_time": "2024-03-02T18:44:31.267319Z"
    }
   },
   "outputs": [],
   "source": [
    "common_genes = np.intersect1d(adata_gene.var.index, adata_gene_test.var.index) # 训练集PBMC和测试集Malt相交的基因(20713)和蛋白质(10)\n",
    "common_proteins = np.intersect1d(adata_protein.var.index, adata_protein_test.var.index)"
   ]
  },
  {
   "cell_type": "code",
   "execution_count": null,
   "metadata": {
    "scrolled": true,
    "ExecuteTime": {
     "start_time": "2024-03-02T18:45:04.173414Z",
     "end_time": "2024-03-02T18:46:26.795882Z"
    }
   },
   "outputs": [],
   "source": [
    "sciPENN = sciPENN_API([adata_gene], [adata_protein], adata_gene_test, train_batchkeys = ['donor'])"
   ]
  },
  {
   "cell_type": "code",
   "execution_count": null,
   "metadata": {
    "ExecuteTime": {
     "start_time": "2024-01-09T09:20:03.065256Z",
     "end_time": "2024-01-09T11:10:08.179995Z"
    }
   },
   "outputs": [],
   "source": [
    "start = time()\n",
    "sciPENN.train(n_epochs = 200, ES_max = 12, decay_max = 6,\n",
    "             decay_step = 0.1, lr = 10**(-3), weights_dir = \"weights_dir/pbmc_to_malt\", load=True)\n",
    "imputed_test = sciPENN.predict()\n",
    "time() - start"
   ]
  },
  {
   "cell_type": "code",
   "execution_count": null,
   "metadata": {
    "ExecuteTime": {
     "start_time": "2024-01-09T21:35:16.947110Z",
     "end_time": "2024-01-09T21:35:51.111662Z"
    }
   },
   "outputs": [],
   "source": [
    "embedding = sciPENN.embed()\n",
    "embedding.write(\"sciPENN_maltembedding.h5ad\")"
   ]
  },
  {
   "cell_type": "code",
   "execution_count": null,
   "metadata": {
    "ExecuteTime": {
     "start_time": "2024-01-09T21:38:59.626796Z",
     "end_time": "2024-01-09T21:38:59.693399Z"
    }
   },
   "outputs": [],
   "source": [
    "def corr2_coeff(A, B, pearson = True):\n",
    "    if pearson:\n",
    "        # Rowwise mean of input arrays & subtract from input arrays themeselves\n",
    "        A_mA = A - A.mean(1)[:, None]\n",
    "        B_mB = B - B.mean(1)[:, None]\n",
    "\n",
    "        # Sum of squares across rows\n",
    "        ssA = (A_mA**2).sum(1)\n",
    "        ssB = (B_mB**2).sum(1)\n",
    "\n",
    "        # Finally get corr coeff\n",
    "        corr_mat = np.dot(A_mA, B_mB.T) / np.sqrt(np.dot(ssA[:, None],ssB[None]))\n",
    "        \n",
    "        return corr_mat[range(corr_mat.shape[0]), range(corr_mat.shape[0])]\n",
    "    \n",
    "    else:\n",
    "        corrs = [0.] * A.shape[0]\n",
    "        \n",
    "        for i in range(A.shape[0]):\n",
    "            corrs[i] = spearmanr(A[i], B[i])[0]\n",
    "            \n",
    "        return corrs"
   ]
  },
  {
   "cell_type": "code",
   "execution_count": null,
   "metadata": {
    "ExecuteTime": {
     "start_time": "2024-01-09T22:12:36.040899Z",
     "end_time": "2024-01-09T22:12:36.118182Z"
    }
   },
   "outputs": [],
   "source": [
    "corrs = corr2_coeff(adata_protein_test.layers[\"imputed\"].T, adata_protein_test.X.T)\n",
    "corrs = pd.DataFrame(corrs)\n",
    "corrs.index = adata_protein_test.var.index\n",
    "corrs = corrs.dropna()\n",
    "corrs"
   ]
  },
  {
   "cell_type": "code",
   "execution_count": null,
   "metadata": {
    "scrolled": true,
    "ExecuteTime": {
     "start_time": "2024-01-09T22:12:48.160517Z",
     "end_time": "2024-01-09T22:12:48.239007Z"
    }
   },
   "outputs": [],
   "source": [
    "corrs.mean()"
   ]
  },
  {
   "cell_type": "code",
   "execution_count": null,
   "metadata": {
    "ExecuteTime": {
     "start_time": "2024-01-09T22:14:05.148390Z",
     "end_time": "2024-01-09T22:14:05.233894Z"
    }
   },
   "outputs": [],
   "source": [
    "sq = lambda x, y: (x - y)**2\n",
    "\n",
    "sqs = sq(adata_protein_test.layers[\"imputed\"], adata_protein_test.X).mean(axis = 0)\n",
    "sqs = pd.DataFrame(sqs)\n",
    "sqs.index = adata_protein_test.var.index"
   ]
  },
  {
   "cell_type": "code",
   "execution_count": null,
   "metadata": {
    "ExecuteTime": {
     "start_time": "2024-01-09T22:14:13.015406Z",
     "end_time": "2024-01-09T22:14:13.098055Z"
    }
   },
   "outputs": [],
   "source": [
    "sqs.mean()"
   ]
  },
  {
   "cell_type": "code",
   "execution_count": null,
   "metadata": {
    "ExecuteTime": {
     "start_time": "2024-01-08T22:41:39.213707Z",
     "end_time": "2024-01-08T22:41:39.301830Z"
    }
   },
   "outputs": [],
   "source": [
    "r95 = (adata_protein_test.X < adata_protein_test.layers['q75'])\n",
    "l95 = (adata_protein_test.X > adata_protein_test.layers['q25'])\n",
    "\n",
    "print(f\"Effective Coverage Probability for Nominal 50% PI: {(r95*l95).mean():.3f}\")"
   ]
  },
  {
   "cell_type": "code",
   "execution_count": null,
   "metadata": {
    "ExecuteTime": {
     "start_time": "2024-01-08T22:41:45.056422Z",
     "end_time": "2024-01-08T22:41:45.137423Z"
    }
   },
   "outputs": [],
   "source": [
    "r95 = (adata_protein_test.X < adata_protein_test.layers['q90'])\n",
    "l95 = (adata_protein_test.X > adata_protein_test.layers['q10'])\n",
    "\n",
    "print(f\"Effective Coverage Probability for Nominal 80% PI: {(r95*l95).mean():.3f}\")"
   ]
  },
  {
   "cell_type": "code",
   "execution_count": null,
   "outputs": [],
   "source": [],
   "metadata": {
    "collapsed": false
   }
  }
 ],
 "metadata": {
  "kernelspec": {
   "name": "scipenn",
   "language": "python",
   "display_name": "sciPENN"
  },
  "language_info": {
   "codemirror_mode": {
    "name": "ipython",
    "version": 3
   },
   "file_extension": ".py",
   "mimetype": "text/x-python",
   "name": "python",
   "nbconvert_exporter": "python",
   "pygments_lexer": "ipython3",
   "version": "3.7.1"
  }
 },
 "nbformat": 4,
 "nbformat_minor": 4
}
