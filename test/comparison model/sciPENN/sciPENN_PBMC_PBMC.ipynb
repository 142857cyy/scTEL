{
 "cells": [
  {
   "cell_type": "code",
   "execution_count": null,
   "metadata": {
    "ExecuteTime": {
     "start_time": "2024-02-29T19:22:41.116180Z",
     "end_time": "2024-02-29T19:22:43.407315Z"
    }
   },
   "outputs": [],
   "source": [
    "%load_ext autoreload\n",
    "%autoreload 2\n",
    "\n",
    "import numpy as np\n",
    "from matplotlib import pyplot\n",
    "import os\n",
    "from copy import deepcopy\n",
    "\n",
    "from time import time\n",
    "\n",
    "from math import ceil\n",
    "from scipy.stats import spearmanr, gamma, poisson\n",
    "\n",
    "from anndata import AnnData, read_h5ad\n",
    "import scanpy as sc\n",
    "from scanpy import read\n",
    "import pandas as pd\n",
    "\n",
    "from torch.utils.data import DataLoader, TensorDataset\n",
    "from torch import tensor\n",
    "from torch.cuda import is_available\n",
    "\n",
    "from sciPENN.Preprocessing import preprocess\n",
    "from sciPENN.sciPENN_API import sciPENN_API\n",
    "\n",
    "from matplotlib import colors as mcolors"
   ]
  },
  {
   "cell_type": "code",
   "execution_count": null,
   "metadata": {
    "ExecuteTime": {
     "start_time": "2024-02-29T19:23:11.967614Z",
     "end_time": "2024-02-29T19:23:30.204941Z"
    }
   },
   "outputs": [],
   "source": [
    "\"\"\"Read in Raw Data\"\"\"\n",
    "\n",
    "adata_gene = sc.read(\"../Data/pbmc/pbmc_gene.h5ad\")\n",
    "adata_protein = sc.read(\"../Data/pbmc/pbmc_protein.h5ad\")\n",
    "\n",
    "doublet_bool = (adata_gene.obs['celltype.l3'] != 'Doublet')\n",
    "\n",
    "adata_gene = adata_gene[doublet_bool].copy()\n",
    "adata_protein = adata_protein[doublet_bool].copy()\n",
    "\n",
    "train_donors = ['P1', 'P3', 'P4', 'P7']\n",
    "train_bools = [x in train_donors for x in adata_gene.obs['donor']]\n",
    "test_bools = np.invert(train_bools)\n",
    "\n",
    "adata_gene_test = adata_gene[test_bools].copy()\n",
    "adata_protein_test = adata_protein[test_bools].copy()\n",
    "\n",
    "adata_gene = adata_gene[train_bools].copy()\n",
    "adata_protein = adata_protein[train_bools].copy()"
   ]
  },
  {
   "cell_type": "code",
   "execution_count": null,
   "metadata": {
    "ExecuteTime": {
     "start_time": "2024-02-29T19:25:11.150523Z",
     "end_time": "2024-02-29T19:25:11.219317Z"
    }
   },
   "outputs": [],
   "source": [
    "# CD8 cell subpopulations\n",
    "cd8_types = ['CD8 Naive', 'CD8 Naive_2', 'CD8 TCM_1', 'CD8 TCM_2', 'CD8 TCM_3', 'CD8 TEM_3', 'CD8 TEM_1', 'CD8 TEM_2', 'CD8 TEM_4', 'CD8 TEM_5', 'CD8 TEM_6', 'CD8 Proliferating']"
   ]
  },
  {
   "cell_type": "code",
   "execution_count": null,
   "metadata": {
    "ExecuteTime": {
     "start_time": "2024-02-29T19:25:37.822210Z",
     "end_time": "2024-02-29T19:25:37.913903Z"
    }
   },
   "outputs": [],
   "source": [
    "# Keep only relevant genes/proteins\n",
    "feature_info = pd.read_csv('cd8features.csv')\n",
    "\n",
    "# Remove VTCN1\n",
    "for i_vtcn1, gene in enumerate(feature_info['gene_name']):\n",
    "    if gene == 'VTCN1':\n",
    "        break\n",
    "\n",
    "feature_info = feature_info.drop(index = i_vtcn1)\n",
    "\n",
    "proteins, genes, types = feature_info.to_numpy().T"
   ]
  },
  {
   "cell_type": "code",
   "execution_count": null,
   "metadata": {
    "ExecuteTime": {
     "start_time": "2024-02-29T19:28:14.006361Z",
     "end_time": "2024-02-29T19:28:14.081263Z"
    }
   },
   "outputs": [],
   "source": [
    "def correct(string):\n",
    "    result = []\n",
    "    for char in string:\n",
    "        if char != '`':\n",
    "            result.append(char)\n",
    "            \n",
    "    return ''.join(result)\n",
    "\n",
    "#Clean protein names so they are compatible with the data\n",
    "proteins = [correct(protein) for protein in proteins[:17]]"
   ]
  },
  {
   "cell_type": "code",
   "execution_count": null,
   "metadata": {
    "ExecuteTime": {
     "start_time": "2024-02-29T19:30:43.280762Z",
     "end_time": "2024-02-29T19:31:44.057016Z"
    }
   },
   "outputs": [],
   "source": [
    "# Remove lowly expressed cells\n",
    "cell_filter = (adata_gene_test.X > 10**(-8)).sum(axis = 1) >= 200\n",
    "tmp_gene = adata_gene_test[cell_filter].copy()\n",
    "tmp_protein = adata_protein_test[cell_filter].copy()\n",
    "tmp_gene.X = tmp_gene.X.toarray()\n",
    "tmp_protein.X = tmp_protein.X.toarray()\n",
    "\n",
    "# Cell and log normalize\n",
    "sc.pp.normalize_total(tmp_gene)\n",
    "sc.pp.log1p(tmp_gene)\n",
    "sc.pp.normalize_total(tmp_protein)\n",
    "sc.pp.log1p(tmp_protein)\n",
    "\n",
    "# Z-score normalize\n",
    "patients = pd.unique(tmp_gene.obs['donor'].values)\n",
    "for patient in patients:\n",
    "    indices = [x == patient for x in tmp_gene.obs['donor']]\n",
    "    \n",
    "    sub_adata = tmp_gene[indices].copy()\n",
    "    sc.pp.scale(sub_adata)\n",
    "    tmp_gene[indices] = sub_adata.X.copy()\n",
    "    \n",
    "    sub_adata = tmp_protein[indices].copy()\n",
    "    sc.pp.scale(sub_adata)\n",
    "    tmp_protein[indices] = sub_adata.X.copy()\n",
    "    \n",
    "# Retain only CD8 cells\n",
    "type_key = [x in cd8_types for x in tmp_gene.obs['celltype.l3']]\n",
    "tmp_gene = tmp_gene[type_key]\n",
    "tmp_protein = tmp_protein[type_key]\n",
    "\n",
    "# Full protein dataset\n",
    "tmp_protein_full = tmp_protein.copy()"
   ]
  },
  {
   "cell_type": "code",
   "execution_count": null,
   "metadata": {
    "ExecuteTime": {
     "start_time": "2024-02-29T19:33:47.652203Z",
     "end_time": "2024-02-29T19:33:48.310997Z"
    }
   },
   "outputs": [],
   "source": [
    "# Keep only relevant genes/proteins\n",
    "tmp_gene = tmp_gene[:, pd.unique(genes)].copy() # cd8 features 14332,116\n",
    "tmp_protein = tmp_protein[:, proteins].copy()  # 14332,17\n",
    "\n",
    "# Get gene data\n",
    "X, celltype = tmp_gene.X, tmp_gene.obs['celltype.l3'].to_numpy()[:, None]  # (14332,116)  celltype(14332,1)\n",
    "df_gene = pd.DataFrame(np.concatenate((X, celltype), axis = 1), columns = pd.unique(genes).tolist() + ['Celltype'])\n",
    "for i in range(len(df_gene.columns) - 1):\n",
    "    column = df_gene.columns[i]\n",
    "    df_gene[column] = pd.to_numeric(df_gene[column])\n",
    "\n",
    "# Get protein data\n",
    "X, celltype = tmp_protein.X, tmp_protein.obs['celltype.l3'].to_numpy()[:, None]\n",
    "df_protein = pd.DataFrame(np.concatenate((X, celltype), axis = 1), columns = proteins + ['Celltype'])\n",
    "for i in range(len(df_protein.columns) - 1):\n",
    "    column = df_protein.columns[i]\n",
    "    df_protein[column] = pd.to_numeric(df_protein[column])"
   ]
  },
  {
   "cell_type": "code",
   "execution_count": null,
   "metadata": {
    "ExecuteTime": {
     "start_time": "2024-02-29T19:33:52.433380Z",
     "end_time": "2024-02-29T19:33:52.533070Z"
    }
   },
   "outputs": [],
   "source": [
    "df_gene.groupby('Celltype').mean()"
   ]
  },
  {
   "cell_type": "code",
   "execution_count": null,
   "metadata": {
    "ExecuteTime": {
     "start_time": "2024-02-29T19:34:08.322023Z",
     "end_time": "2024-02-29T19:34:08.702579Z"
    }
   },
   "outputs": [],
   "source": [
    "import seaborn as sns\n",
    "from matplotlib import pyplot as plt\n",
    "\n",
    "# Heatmap for average gene expression by celltype\n",
    "fig, ax = plt.subplots(1, 1, figsize = (15, 15))\n",
    "sns.heatmap(df_gene.groupby('Celltype').mean().T, yticklabels = df_gene.columns[:-1], ax = ax, cmap = 'viridis')"
   ]
  },
  {
   "cell_type": "code",
   "execution_count": null,
   "metadata": {
    "ExecuteTime": {
     "start_time": "2024-02-29T19:34:12.059953Z",
     "end_time": "2024-02-29T19:34:12.354243Z"
    }
   },
   "outputs": [],
   "source": [
    "# Heatmap for average protein expression by celltype\n",
    "fig, ax = plt.subplots(1, 1, figsize = (15, 15))\n",
    "sns.heatmap(df_protein.groupby('Celltype').mean().T, yticklabels = df_protein.columns[:-1], ax = ax, cmap = 'viridis')"
   ]
  },
  {
   "cell_type": "code",
   "execution_count": null,
   "metadata": {
    "ExecuteTime": {
     "start_time": "2024-02-29T19:34:18.676673Z",
     "end_time": "2024-02-29T19:34:34.986534Z"
    }
   },
   "outputs": [],
   "source": [
    "sc.pp.neighbors(tmp_protein_full)\n",
    "sc.tl.umap(tmp_protein_full)\n",
    "x, y = tmp_protein_full.obsm['X_umap'].T"
   ]
  },
  {
   "cell_type": "code",
   "execution_count": null,
   "metadata": {
    "ExecuteTime": {
     "start_time": "2024-02-29T19:35:41.383351Z",
     "end_time": "2024-02-29T19:36:46.165422Z"
    }
   },
   "outputs": [],
   "source": [
    "sciPENN = sciPENN_API([adata_gene], [adata_protein], adata_gene_test,\n",
    "                     train_batchkeys = ['donor'], test_batchkey = 'donor', type_key = 'celltype.l2')\n",
    "\n",
    "sciPENN.train(n_epochs = 1000, ES_max = 12, decay_max = 6,\n",
    "              decay_step = 0.1, lr = 10**(-3), weights_dir = \"weights_dir/pbmc_to_pbmc_type\", load = True)"
   ]
  },
  {
   "cell_type": "code",
   "execution_count": null,
   "metadata": {
    "ExecuteTime": {
     "start_time": "2024-02-29T19:39:20.779310Z",
     "end_time": "2024-02-29T19:39:39.292062Z"
    }
   },
   "outputs": [],
   "source": [
    "imputed_test = sciPENN.predict()"
   ]
  },
  {
   "cell_type": "code",
   "execution_count": null,
   "metadata": {
    "ExecuteTime": {
     "end_time": "2024-01-12T09:17:47.467472Z",
     "start_time": "2024-01-12T09:17:47.330979Z"
    }
   },
   "outputs": [],
   "source": [
    "imputed_test.obs['transfered cell labels'].to_csv('seurat_to_seuratscipen.csv')"
   ]
  },
  {
   "cell_type": "code",
   "execution_count": null,
   "metadata": {
    "scrolled": true,
    "ExecuteTime": {
     "start_time": "2024-01-12T18:07:56.031616Z",
     "end_time": "2024-01-12T19:33:56.312262Z"
    }
   },
   "outputs": [],
   "source": [
    "sciPENN = sciPENN_API([adata_gene], [adata_protein], adata_gene_test, \n",
    "                    train_batchkeys = ['donor'], test_batchkey = 'donor', type_key = 'celltype.l3')\n",
    "\n",
    "sciPENN.train(n_epochs = 10000, ES_max = 12, decay_max = 6, \n",
    "             decay_step = 0.1, lr = 10**(-3), weights_dir = \"weights_dir/pbmc_to_pbmc_typel3\", load = False)"
   ]
  },
  {
   "cell_type": "code",
   "execution_count": null,
   "metadata": {
    "ExecuteTime": {
     "start_time": "2024-01-12T20:00:20.423955Z",
     "end_time": "2024-01-12T20:00:37.506326Z"
    }
   },
   "outputs": [],
   "source": [
    "imputed_test = sciPENN.predict()  # 85660,224"
   ]
  },
  {
   "cell_type": "code",
   "execution_count": null,
   "metadata": {
    "ExecuteTime": {
     "start_time": "2024-01-12T20:00:41.399925Z",
     "end_time": "2024-01-12T20:00:41.579110Z"
    }
   },
   "outputs": [],
   "source": [
    "imputed_test.obs['transfered cell labels'].to_csv('seurat_to_seuratscipenl3.csv')\n",
    "# imputed_test.obs['celltype.l2'].to_csv('true_labels.csv')\n",
    "imputed_test.obs['celltype.l3'].to_csv('true_labelsl3.csv')"
   ]
  },
  {
   "cell_type": "code",
   "execution_count": null,
   "metadata": {
    "ExecuteTime": {
     "start_time": "2024-01-12T20:16:01.416984Z",
     "end_time": "2024-01-12T20:16:03.502139Z"
    }
   },
   "outputs": [],
   "source": [
    "\"\"\"Get test data\"\"\"\n",
    "\n",
    "adata_protein_test.X = adata_protein_test.X.toarray()\n",
    "adata_protein_test.layers[\"raw\"] = adata_protein_test.X\n",
    "\n",
    "adata_protein_test = adata_protein_test[imputed_test.obs.index]\n",
    "\n",
    "sc.pp.normalize_total(adata_protein_test)\n",
    "sc.pp.log1p(adata_protein_test)\n",
    "\n",
    "common_proteins = np.intersect1d(imputed_test.var.index, adata_protein_test.var.index)\n",
    "\n",
    "adata_protein_test = adata_protein_test[:, common_proteins]\n",
    "adata_protein_test.layers['imputed'] = imputed_test[:, common_proteins].X\n",
    "adata_protein_test.layers.update(imputed_test[:, common_proteins].layers)\n",
    "\n",
    "patients = np.unique(adata_protein_test.obs['donor'].values)\n",
    "\n",
    "for patient in patients:\n",
    "    indices = [x == patient for x in adata_protein_test.obs['donor']]\n",
    "    sub_adata = adata_protein_test[indices]\n",
    "\n",
    "    sc.pp.scale(sub_adata)\n",
    "    adata_protein_test[indices] = sub_adata.X"
   ]
  },
  {
   "cell_type": "code",
   "execution_count": null,
   "metadata": {
    "ExecuteTime": {
     "start_time": "2024-01-12T20:16:23.253450Z",
     "end_time": "2024-01-12T20:16:23.334771Z"
    }
   },
   "outputs": [],
   "source": [
    "def corr2_coeff(A, B, pearson = True):\n",
    "    if pearson:\n",
    "        # Rowwise mean of input arrays & subtract from input arrays themeselves\n",
    "        A_mA = A - A.mean(1)[:, None]\n",
    "        B_mB = B - B.mean(1)[:, None]\n",
    "\n",
    "        # Sum of squares across rows\n",
    "        ssA = (A_mA**2).sum(1)\n",
    "        ssB = (B_mB**2).sum(1)\n",
    "\n",
    "        # Finally get corr coeff\n",
    "        corr_mat = np.dot(A_mA, B_mB.T) / np.sqrt(np.dot(ssA[:, None],ssB[None]))\n",
    "        \n",
    "        return corr_mat[range(corr_mat.shape[0]), range(corr_mat.shape[0])]\n",
    "    \n",
    "    else:\n",
    "        corrs = [0.] * A.shape[0]\n",
    "        \n",
    "        for i in range(A.shape[0]):\n",
    "            corrs[i] = spearmanr(A[i], B[i])[0]\n",
    "            \n",
    "        return corrs"
   ]
  },
  {
   "cell_type": "code",
   "execution_count": null,
   "metadata": {
    "ExecuteTime": {
     "start_time": "2024-01-12T20:16:37.845482Z",
     "end_time": "2024-01-12T20:16:38.289895Z"
    }
   },
   "outputs": [],
   "source": [
    "\"\"\"Compute correlation across patients\"\"\"\n",
    "corrs = corr2_coeff(adata_protein_test.layers[\"imputed\"].T, adata_protein_test.X.T)\n",
    "corrs = pd.DataFrame(corrs)\n",
    "corrs.index = adata_protein_test.var.index\n",
    "corrs = corrs.dropna()"
   ]
  },
  {
   "cell_type": "code",
   "execution_count": null,
   "metadata": {
    "ExecuteTime": {
     "start_time": "2024-01-12T20:16:49.689041Z",
     "end_time": "2024-01-12T20:16:49.836702Z"
    }
   },
   "outputs": [],
   "source": [
    "MSEs= ((adata_protein_test.X - adata_protein_test.layers[\"imputed\"])**2).mean(axis = 0)**(1/2)\n",
    "\n",
    "protein_table = pd.DataFrame(np.concatenate((corrs.to_numpy(), np.expand_dims(MSEs, axis = 1), adata_protein_test.layers[\"raw\"].mean(axis = 0, keepdims = True).T), axis = 1), \n",
    "                             index = corrs.index, columns = [\"Correlations\", \"RMSE\", \"Mean Expression\"])\n",
    "\n",
    "protein_table[\"Log-Mean Expression\"] = np.log(protein_table[\"Mean Expression\"])"
   ]
  },
  {
   "cell_type": "code",
   "execution_count": null,
   "metadata": {
    "ExecuteTime": {
     "start_time": "2024-01-12T20:16:53.429007Z",
     "end_time": "2024-01-12T20:16:53.517329Z"
    }
   },
   "outputs": [],
   "source": [
    "sq = lambda x, y: (x - y)**2"
   ]
  },
  {
   "cell_type": "code",
   "execution_count": null,
   "metadata": {
    "ExecuteTime": {
     "start_time": "2024-01-12T20:17:05.243741Z",
     "end_time": "2024-01-12T20:17:05.970565Z"
    }
   },
   "outputs": [],
   "source": [
    "\"\"\"Compute correlations within patient\"\"\"\n",
    "\n",
    "corrs_table = np.zeros((adata_protein_test.shape[1], len(np.unique(adata_protein_test.obs[\"donor\"]))))\n",
    "sq_table = corrs_table.copy()\n",
    "\n",
    "i = 0\n",
    "for patient in np.unique(adata_protein_test.obs[\"donor\"]):\n",
    "    truth = adata_protein_test[adata_protein_test.obs[\"donor\"] == patient].X.copy()\n",
    "    imputed = adata_protein_test.layers[\"imputed\"][adata_protein_test.obs[\"donor\"] == patient].copy()\n",
    "\n",
    "    corrs_table[:, i] = corr2_coeff(truth.T, imputed.T)\n",
    "    sq_table[:, i] = sq(truth, imputed).mean(axis = 0)\n",
    "    \n",
    "    i += 1\n",
    "\n",
    "if np.isnan(corrs_table).sum() > 0:\n",
    "    corrs_table[np.isnan(corrs_table)] = 0"
   ]
  },
  {
   "cell_type": "code",
   "execution_count": null,
   "metadata": {
    "ExecuteTime": {
     "start_time": "2024-01-12T20:17:09.616630Z",
     "end_time": "2024-01-12T20:17:09.752704Z"
    }
   },
   "outputs": [],
   "source": [
    "corrs_table = pd.DataFrame(corrs_table)\n",
    "corrs_table.index, corrs_table.columns = adata_protein_test.var.index, np.unique(adata_protein_test.obs[\"donor\"])\n",
    "\n",
    "sq_table = pd.DataFrame(sq_table)\n",
    "sq_table.index, sq_table.columns = adata_protein_test.var.index, np.unique(adata_protein_test.obs[\"donor\"])"
   ]
  },
  {
   "cell_type": "code",
   "execution_count": null,
   "metadata": {
    "ExecuteTime": {
     "start_time": "2024-01-12T20:17:15.239481Z",
     "end_time": "2024-01-12T20:17:15.324445Z"
    }
   },
   "outputs": [],
   "source": [
    "corrs_table.mean(axis = 0)"
   ]
  },
  {
   "cell_type": "code",
   "execution_count": null,
   "metadata": {
    "ExecuteTime": {
     "start_time": "2024-01-12T20:17:19.645667Z",
     "end_time": "2024-01-12T20:17:19.731422Z"
    }
   },
   "outputs": [],
   "source": [
    "corrs_table.mean().mean()"
   ]
  },
  {
   "cell_type": "code",
   "execution_count": null,
   "metadata": {
    "ExecuteTime": {
     "start_time": "2024-01-12T20:19:26.330340Z",
     "end_time": "2024-01-12T20:19:26.416095Z"
    }
   },
   "outputs": [],
   "source": [
    "sq_table.mean(axis = 0)"
   ]
  },
  {
   "cell_type": "code",
   "execution_count": null,
   "metadata": {
    "ExecuteTime": {
     "start_time": "2024-01-12T20:19:32.818109Z",
     "end_time": "2024-01-12T20:19:32.899965Z"
    }
   },
   "outputs": [],
   "source": [
    "sq_table.mean().mean()"
   ]
  },
  {
   "cell_type": "code",
   "execution_count": null,
   "metadata": {
    "ExecuteTime": {
     "start_time": "2024-01-12T20:19:35.743536Z",
     "end_time": "2024-01-12T20:19:35.890640Z"
    }
   },
   "outputs": [],
   "source": [
    "r95 = (adata_protein_test.X < adata_protein_test.layers['q75'])\n",
    "l95 = (adata_protein_test.X > adata_protein_test.layers['q25'])\n",
    "\n",
    "print(f\"Effective Coverage Probability for Nominal 50% PI: {(r95*l95).mean():.3f}\")"
   ]
  },
  {
   "cell_type": "code",
   "execution_count": null,
   "metadata": {
    "ExecuteTime": {
     "start_time": "2024-01-12T20:19:41.583485Z",
     "end_time": "2024-01-12T20:19:41.727717Z"
    }
   },
   "outputs": [],
   "source": [
    "r95 = (adata_protein_test.X < adata_protein_test.layers['q90'])\n",
    "l95 = (adata_protein_test.X > adata_protein_test.layers['q10'])\n",
    "\n",
    "print(f\"Effective Coverage Probability for Nominal 80% PI: {(r95*l95).mean():.3f}\")"
   ]
  },
  {
   "cell_type": "code",
   "execution_count": null,
   "metadata": {
    "ExecuteTime": {
     "start_time": "2024-01-12T20:19:47.044357Z",
     "end_time": "2024-01-12T20:19:47.143055Z"
    }
   },
   "outputs": [],
   "source": [
    "corrs_table.mean(axis = 0)\n",
    "corrs_table.mean().mean()"
   ]
  },
  {
   "cell_type": "code",
   "execution_count": null,
   "metadata": {
    "ExecuteTime": {
     "start_time": "2024-01-12T20:20:07.211602Z",
     "end_time": "2024-01-12T20:20:07.627635Z"
    },
    "scrolled": true
   },
   "outputs": [],
   "source": [
    "def extract_vector(adata, protein, truth = True):\n",
    "    tmp = adata_protein_test.copy()\n",
    "    bools = [x in ['CD14 Mono', 'CD16 Mono', 'cDC2'] for x in tmp.obs['celltype.l3'].values]\n",
    "    tmp = tmp[bools].copy()\n",
    "    \n",
    "    if truth:\n",
    "        vector = tmp[:, [protein]].X\n",
    "    else:\n",
    "        vector = tmp[:, [protein]].layers['imputed']\n",
    "    \n",
    "    out = [pd.DataFrame(x.copy()) for x in (vector, tmp.obs['celltype.l3'], tmp.obs['time'])]\n",
    "    for i in range(len(out)):\n",
    "        out[i].index = tmp.obs.index\n",
    "        \n",
    "    res = pd.concat(out, axis = 1)\n",
    "    res.columns = [\"CD169 Expression\", \"Celltype\", \"Time\"]\n",
    "    \n",
    "    return res\n",
    "    \n",
    "df = extract_vector(adata_protein_test, 'CD169')\n",
    "df"
   ]
  },
  {
   "cell_type": "code",
   "execution_count": null,
   "metadata": {
    "ExecuteTime": {
     "start_time": "2024-01-12T20:20:43.049776Z",
     "end_time": "2024-01-12T20:20:43.350625Z"
    }
   },
   "outputs": [],
   "source": [
    "import seaborn as sns\n",
    "from matplotlib import pyplot\n",
    "\n",
    "sns.set(style=\"darkgrid\")\n",
    " \n",
    "# Grouped violinplot\n",
    "sns.violinplot(x = \"Celltype\", y = \"CD169 Expression\", hue = \"Time\", data = df, palette = \"Pastel1\")\n",
    "pyplot.show()\n",
    "\n",
    "df.to_csv(\"true_CD169_l3.csv\")"
   ]
  },
  {
   "cell_type": "code",
   "execution_count": null,
   "metadata": {
    "ExecuteTime": {
     "start_time": "2024-01-12T20:21:07.902746Z",
     "end_time": "2024-01-12T20:21:08.521590Z"
    }
   },
   "outputs": [],
   "source": [
    "df = extract_vector(adata_protein_test, 'CD169', truth = False)\n",
    "\n",
    "sns.violinplot(x = \"Celltype\", y = \"CD169 Expression\", hue = \"Time\", data = df, palette = \"Pastel1\")\n",
    "pyplot.show()\n",
    "\n",
    "df.to_csv(\"scipenn_CD169_l3.csv\")"
   ]
  },
  {
   "cell_type": "code",
   "execution_count": null,
   "metadata": {
    "ExecuteTime": {
     "start_time": "2024-01-12T20:21:41.200831Z",
     "end_time": "2024-01-12T20:21:41.320950Z"
    }
   },
   "outputs": [],
   "source": [
    "(adata_protein_test.layers['imputed'] < adata_protein_test.X).mean()"
   ]
  },
  {
   "cell_type": "code",
   "execution_count": null,
   "metadata": {
    "ExecuteTime": {
     "start_time": "2024-01-12T20:21:48.894924Z",
     "end_time": "2024-01-12T20:21:49.001876Z"
    }
   },
   "outputs": [],
   "source": [
    "def get_groups(df, celltype):\n",
    "    df_sub = df[df['Celltype'] == celltype]\n",
    "    time0 = df_sub[df['Time'] == '0']\n",
    "    time3 = df_sub[df['Time'] == '3']\n",
    "    time7 = df_sub[df['Time'] == '7']\n",
    "    \n",
    "    return time0['CD169 Expression'], time3['CD169 Expression'], time7['CD169 Expression']"
   ]
  },
  {
   "cell_type": "code",
   "execution_count": null,
   "metadata": {
    "ExecuteTime": {
     "start_time": "2024-01-12T20:21:53.703654Z",
     "end_time": "2024-01-12T20:21:53.811951Z"
    },
    "scrolled": true
   },
   "outputs": [],
   "source": [
    "from scipy.stats import kruskal\n",
    "\n",
    "kruskal(*get_groups(df, 'CD14 Mono'))"
   ]
  },
  {
   "cell_type": "code",
   "execution_count": null,
   "metadata": {
    "ExecuteTime": {
     "start_time": "2024-01-12T20:21:57.159822Z",
     "end_time": "2024-01-12T20:21:57.233356Z"
    }
   },
   "outputs": [],
   "source": [
    "kruskal(*get_groups(df, 'CD16 Mono'))"
   ]
  },
  {
   "cell_type": "code",
   "execution_count": null,
   "metadata": {
    "ExecuteTime": {
     "start_time": "2024-01-12T20:22:03.130720Z",
     "end_time": "2024-01-12T20:22:03.208057Z"
    }
   },
   "outputs": [],
   "source": [
    "kruskal(*get_groups(df, 'cDC2'))"
   ]
  },
  {
   "cell_type": "code",
   "execution_count": null,
   "metadata": {
    "scrolled": true,
    "ExecuteTime": {
     "start_time": "2024-01-12T20:43:56.056403Z",
     "end_time": "2024-01-12T20:43:56.141114Z"
    }
   },
   "outputs": [],
   "source": [
    "color_keys = np.unique(tmp_protein.obs['celltype.l3'].values)\n",
    "color_map = {key: val for key, val in zip(color_keys, pd.read_csv(\"colors_pbmctypes.csv\").iloc[:, 0])}"
   ]
  },
  {
   "cell_type": "code",
   "execution_count": null,
   "metadata": {
    "ExecuteTime": {
     "start_time": "2024-01-12T20:43:58.485223Z",
     "end_time": "2024-01-12T20:43:58.862156Z"
    }
   },
   "outputs": [],
   "source": [
    "f, ax = plt.subplots(1,1)\n",
    "\n",
    "for type_ in color_map:\n",
    "    index = [t == type_ for t in tmp_protein.obs['celltype.l3'].values]\n",
    "    ax.scatter(x[index], y[index], label = type_, c = color_map[type_], marker='.', s = 30, linewidths=0)\n",
    "\n",
    "ax.legend(loc = 'right', bbox_to_anchor=(1.5, 0.5))"
   ]
  },
  {
   "cell_type": "code",
   "execution_count": null,
   "metadata": {
    "ExecuteTime": {
     "start_time": "2024-01-12T20:45:19.504138Z",
     "end_time": "2024-01-12T20:45:20.515379Z"
    }
   },
   "outputs": [],
   "source": [
    "tmp_gene.write('scipenn_gene_pbmctopbmc.h5ad')\n",
    "adata_protein_test.write('scipenn_protein_pbmctopbmc.h5ad')"
   ]
  },
  {
   "cell_type": "code",
   "execution_count": null,
   "metadata": {
    "ExecuteTime": {
     "start_time": "2024-01-12T20:45:53.369051Z",
     "end_time": "2024-01-12T20:45:53.471051Z"
    }
   },
   "outputs": [],
   "source": [
    "data = adata_protein_test[type_key]\n",
    "\n",
    "def find_best_proteins(ctypes):\n",
    "    array = data.X.copy()\n",
    "    bool_vec = np.asarray([[int(x == ctype) for x in data.obs['celltype.l3']] for ctype in ctypes]).T\n",
    "    \n",
    "    EX = array.mean(axis = 0)\n",
    "    EY = bool_vec.mean(axis = 0)\n",
    "    EXY = (array[:, :, None] * bool_vec[:, None]).mean(axis = 0)\n",
    "    EX2 = (array ** 2).mean(axis = 0)\n",
    "    \n",
    "    COV = EXY - EX[:, None] * EY[None]\n",
    "    VX = EX2 - EX**2\n",
    "    VY = EY - EY**2\n",
    "    \n",
    "    corrs = COV/(VX[:, None] * VY[None])**(0.5)\n",
    "        \n",
    "    return data.var.index[corrs.argmax(axis = 0)].tolist()"
   ]
  },
  {
   "cell_type": "code",
   "execution_count": null,
   "metadata": {
    "ExecuteTime": {
     "start_time": "2024-01-12T20:46:00.761844Z",
     "end_time": "2024-01-12T20:46:01.005167Z"
    }
   },
   "outputs": [],
   "source": [
    "ctypes = adata_protein_test[type_key].obs['celltype.l3'].value_counts().index.tolist()\n",
    "{ctype: protein for ctype, protein in zip(ctypes, find_best_proteins(ctypes))}"
   ]
  },
  {
   "cell_type": "code",
   "execution_count": null,
   "metadata": {
    "scrolled": true
   },
   "outputs": [],
   "source": [
    "plot_protein('CD45RA')"
   ]
  },
  {
   "cell_type": "code",
   "execution_count": null,
   "metadata": {},
   "outputs": [],
   "source": [
    "plot_protein('CD200',adata_protein_test)"
   ]
  },
  {
   "cell_type": "code",
   "execution_count": null,
   "metadata": {},
   "outputs": [],
   "source": [
    "plot_protein('CD44-2')"
   ]
  },
  {
   "cell_type": "code",
   "execution_count": null,
   "metadata": {},
   "outputs": [],
   "source": [
    "plot_protein('CD48')"
   ]
  },
  {
   "cell_type": "code",
   "execution_count": null,
   "metadata": {},
   "outputs": [],
   "source": [
    "plot_protein('CX3CR1')"
   ]
  },
  {
   "cell_type": "code",
   "execution_count": null,
   "metadata": {},
   "outputs": [],
   "source": [
    "plot_protein('CD31')"
   ]
  },
  {
   "cell_type": "code",
   "execution_count": null,
   "metadata": {},
   "outputs": [],
   "source": [
    "plot_protein('TIGIT')"
   ]
  },
  {
   "cell_type": "code",
   "execution_count": null,
   "metadata": {},
   "outputs": [],
   "source": [
    "gene_map = {protein: gene for protein, gene in zip(proteins, genes)}\n",
    "normalize = lambda vec: (vec - vec.min())/(vec.max() - vec.min())\n",
    "\n",
    "def plot_protein(protein):\n",
    "    gene = gene_map[protein]\n",
    "\n",
    "    f, axs = plt.subplots(1, 3, figsize = (15, 5))\n",
    "\n",
    "    expr = tmp_gene[:, gene].X[:, 0].toarray()\n",
    "    axs[0].scatter(x, y, c = normalize(expr), marker='.', s = 10, linewidths=0, cmap = 'viridis')\n",
    "    axs[0].set_title(f'RNA: {gene}')\n",
    "\n",
    "    type_key = [x in cd8_types for x in adata_protein_test.obs['celltype.l3']]\n",
    "\n",
    "    expr = adata_protein_test[type_key, protein].X[:, 0].toarray()\n",
    "    axs[1].scatter(x, y, c = normalize(expr), marker='.', s = 10, linewidths=0, cmap = 'viridis')\n",
    "    axs[1].set_title(f'True Protein: {protein}')\n",
    "\n",
    "    pred_expr = adata_protein_test[type_key, protein].layers['imputed'].reshape((-1,))\n",
    "    axs[2].scatter(x, y, c = normalize(pred_expr), marker='.', s = 10, linewidths=0, cmap = 'viridis')\n",
    "    axs[2].set_title(f'Predicted Protein: {protein}')\n",
    "\n",
    "    PCM = axs[2].get_children()[0]\n",
    "\n",
    "    cb_ax = f.add_axes([0.92, 0.1, 0.01, 0.8])\n",
    "    cbar = f.colorbar(PCM, cax=cb_ax)"
   ]
  },
  {
   "cell_type": "code",
   "execution_count": null,
   "metadata": {},
   "outputs": [],
   "source": [
    "plot_protein('CD38-1')"
   ]
  },
  {
   "cell_type": "code",
   "execution_count": null,
   "metadata": {},
   "outputs": [],
   "source": [
    "means = {prt: val for prt, val in zip(adata_protein_test.var.index, adata_protein_test.layers['raw'].mean(axis = 0))}\n",
    "\n",
    "means['CD45RA'], means['CD38-1'], means['CD71'], means['TIGIT']"
   ]
  }
 ],
 "metadata": {
  "kernelspec": {
   "display_name": "sciPENN",
   "language": "python",
   "name": "scipenn"
  },
  "language_info": {
   "codemirror_mode": {
    "name": "ipython",
    "version": 3
   },
   "file_extension": ".py",
   "mimetype": "text/x-python",
   "name": "python",
   "nbconvert_exporter": "python",
   "pygments_lexer": "ipython3",
   "version": "3.7.1"
  }
 },
 "nbformat": 4,
 "nbformat_minor": 4
}
