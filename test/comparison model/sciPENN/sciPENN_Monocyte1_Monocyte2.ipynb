{
 "cells": [
  {
   "cell_type": "code",
   "execution_count": 1,
   "outputs": [],
   "source": [
    "%load_ext autoreload\n",
    "%autoreload 2\n",
    "\n",
    "from time import time\n",
    "\n",
    "import re\n",
    "import numpy as np\n",
    "from matplotlib import pyplot\n",
    "import os\n",
    "# os.chdir('/home/yychen/sciPENN_codes-master/Experiments')\n",
    "from math import ceil\n",
    "from scipy.stats import spearmanr\n",
    "\n",
    "import scanpy as sc\n",
    "from scanpy import read\n",
    "import pandas as pd\n",
    "\n",
    "from read_monocyte_data import read_data\n",
    "from sciPENN.sciPENN_API import sciPENN_API"
   ],
   "metadata": {
    "collapsed": false,
    "ExecuteTime": {
     "start_time": "2024-03-26T17:46:35.659694Z",
     "end_time": "2024-03-26T17:46:38.388366Z"
    }
   }
  },
  {
   "cell_type": "code",
   "execution_count": 2,
   "outputs": [
    {
     "data": {
      "text/plain": "'/home/yychen/sciPENN_codes-master/Experiments'"
     },
     "execution_count": 2,
     "metadata": {},
     "output_type": "execute_result"
    }
   ],
   "source": [
    "os.getcwd()"
   ],
   "metadata": {
    "collapsed": false,
    "ExecuteTime": {
     "start_time": "2024-03-26T15:32:44.574282Z",
     "end_time": "2024-03-26T15:32:44.605524Z"
    }
   }
  },
  {
   "cell_type": "code",
   "execution_count": 3,
   "metadata": {
    "ExecuteTime": {
     "start_time": "2024-03-26T15:34:16.444989Z",
     "end_time": "2024-03-26T15:38:50.176956Z"
    }
   },
   "outputs": [
    {
     "name": "stderr",
     "output_type": "stream",
     "text": [
      "Observation names are not unique. To make them unique, call `.obs_names_make_unique`.\n",
      "Observation names are not unique. To make them unique, call `.obs_names_make_unique`.\n",
      "Observation names are not unique. To make them unique, call `.obs_names_make_unique`.\n",
      "Observation names are not unique. To make them unique, call `.obs_names_make_unique`.\n",
      "Observation names are not unique. To make them unique, call `.obs_names_make_unique`.\n",
      "Observation names are not unique. To make them unique, call `.obs_names_make_unique`.\n",
      "Observation names are not unique. To make them unique, call `.obs_names_make_unique`.\n",
      "Observation names are not unique. To make them unique, call `.obs_names_make_unique`.\n",
      "Observation names are not unique. To make them unique, call `.obs_names_make_unique`.\n",
      "Observation names are not unique. To make them unique, call `.obs_names_make_unique`.\n",
      "Observation names are not unique. To make them unique, call `.obs_names_make_unique`.\n",
      "Observation names are not unique. To make them unique, call `.obs_names_make_unique`.\n",
      "Observation names are not unique. To make them unique, call `.obs_names_make_unique`.\n",
      "Observation names are not unique. To make them unique, call `.obs_names_make_unique`.\n",
      "Observation names are not unique. To make them unique, call `.obs_names_make_unique`.\n",
      "Observation names are not unique. To make them unique, call `.obs_names_make_unique`.\n",
      "Observation names are not unique. To make them unique, call `.obs_names_make_unique`.\n",
      "Observation names are not unique. To make them unique, call `.obs_names_make_unique`.\n",
      "Observation names are not unique. To make them unique, call `.obs_names_make_unique`.\n",
      "Observation names are not unique. To make them unique, call `.obs_names_make_unique`.\n",
      "Observation names are not unique. To make them unique, call `.obs_names_make_unique`.\n",
      "Observation names are not unique. To make them unique, call `.obs_names_make_unique`.\n",
      "Observation names are not unique. To make them unique, call `.obs_names_make_unique`.\n",
      "Observation names are not unique. To make them unique, call `.obs_names_make_unique`.\n",
      "Observation names are not unique. To make them unique, call `.obs_names_make_unique`.\n",
      "Observation names are not unique. To make them unique, call `.obs_names_make_unique`.\n",
      "Observation names are not unique. To make them unique, call `.obs_names_make_unique`.\n",
      "Observation names are not unique. To make them unique, call `.obs_names_make_unique`.\n",
      "Observation names are not unique. To make them unique, call `.obs_names_make_unique`.\n",
      "Observation names are not unique. To make them unique, call `.obs_names_make_unique`.\n",
      "Observation names are not unique. To make them unique, call `.obs_names_make_unique`.\n",
      "Observation names are not unique. To make them unique, call `.obs_names_make_unique`.\n",
      "Observation names are not unique. To make them unique, call `.obs_names_make_unique`.\n",
      "Observation names are not unique. To make them unique, call `.obs_names_make_unique`.\n",
      "Observation names are not unique. To make them unique, call `.obs_names_make_unique`.\n",
      "Observation names are not unique. To make them unique, call `.obs_names_make_unique`.\n",
      "Observation names are not unique. To make them unique, call `.obs_names_make_unique`.\n",
      "Observation names are not unique. To make them unique, call `.obs_names_make_unique`.\n",
      "Observation names are not unique. To make them unique, call `.obs_names_make_unique`.\n",
      "Observation names are not unique. To make them unique, call `.obs_names_make_unique`.\n",
      "Trying to set attribute `.var` of view, copying.\n",
      "Observation names are not unique. To make them unique, call `.obs_names_make_unique`.\n",
      "Observation names are not unique. To make them unique, call `.obs_names_make_unique`.\n"
     ]
    }
   ],
   "source": [
    "adata_gene, adata_protein = read_data(cell_normalize = False, log_normalize = False, feature_normalize = False,\n",
    "                   dir_path = '../Data/monocytes_mingyao/cite_seq', subset_hvg = False)"
   ]
  },
  {
   "cell_type": "code",
   "execution_count": 10,
   "metadata": {
    "ExecuteTime": {
     "start_time": "2024-03-26T15:46:20.595774Z",
     "end_time": "2024-03-26T15:46:20.820089Z"
    }
   },
   "outputs": [
    {
     "name": "stdout",
     "output_type": "stream",
     "text": [
      "113\n"
     ]
    },
    {
     "data": {
      "text/plain": "AnnData object with n_obs × n_vars = 37112 × 113\n    obs: 'patient'\n    var: 'Common Name', 'expression_type', 'n_counts'\n    layers: 'raw'"
     },
     "execution_count": 10,
     "metadata": {},
     "output_type": "execute_result"
    }
   ],
   "source": [
    "tmp = adata_protein.copy()\n",
    "sc.pp.normalize_total(tmp)\n",
    "sc.pp.log1p(tmp)\n",
    "sums = tmp.X.sum(axis = 0) # 113个蛋白\n",
    "samples = ((tmp.X > 0.0001).sum(axis = 0))\n",
    "expression = sums/samples\n",
    "adata_protein = adata_protein[:, expression > 0.8].copy()\n",
    "adata_protein"
   ]
  },
  {
   "cell_type": "code",
   "execution_count": 11,
   "outputs": [],
   "source": [
    "train_patientset = ['RPM211A', 'RPM211B', 'RPM232A', 'RPM232B']\n",
    "test_patientset = ['RPM215A', 'RPM215B', 'RPM218A', 'RPM218B']\n",
    "train_patients = [x in train_patientset for x in adata_gene.obs['patient']]\n",
    "test_patients = [x in test_patientset for x in adata_gene.obs['patient']]\n",
    "\n",
    "adata_gene, adata_gene_test = adata_gene[train_patients], adata_gene[test_patients]\n",
    "adata_protein, adata_protein_test = adata_protein[train_patients], adata_protein[test_patients]"
   ],
   "metadata": {
    "collapsed": false,
    "ExecuteTime": {
     "start_time": "2024-03-26T15:56:31.686248Z",
     "end_time": "2024-03-26T15:56:31.761464Z"
    }
   }
  },
  {
   "cell_type": "code",
   "execution_count": 12,
   "metadata": {
    "ExecuteTime": {
     "start_time": "2024-03-26T15:57:08.084267Z",
     "end_time": "2024-03-26T15:58:27.031541Z"
    }
   },
   "outputs": [
    {
     "name": "stderr",
     "output_type": "stream",
     "text": [
      "Trying to set attribute `.obs` of view, copying.\n"
     ]
    },
    {
     "name": "stdout",
     "output_type": "stream",
     "text": [
      "Searching for GPU\n",
      "GPU detected, using GPU\n"
     ]
    },
    {
     "name": "stderr",
     "output_type": "stream",
     "text": [
      "Trying to set attribute `.obs` of view, copying.\n",
      "Trying to set attribute `.obs` of view, copying.\n"
     ]
    },
    {
     "name": "stdout",
     "output_type": "stream",
     "text": [
      "\n",
      "QC Filtering Training Cells\n",
      "QC Filtering Testing Cells\n",
      "\n",
      "QC Filtering Training Genes\n",
      "QC Filtering Testing Genes\n",
      "\n",
      "Normalizing Training Cells\n",
      "Normalizing Testing Cells\n",
      "\n",
      "Log-Normalizing Training Data\n",
      "Log-Normalizing Testing Data\n",
      "\n",
      "Finding HVGs\n"
     ]
    },
    {
     "name": "stderr",
     "output_type": "stream",
     "text": [
      "... storing 'patient' as categorical\n",
      "... storing 'batch' as categorical\n",
      "... storing 'Dataset' as categorical\n",
      "... storing 'expression_type' as categorical\n",
      "/home/yychen/.conda/envs/scipenn_env/lib/python3.7/site-packages/pandas/core/indexing.py:670: SettingWithCopyWarning: \n",
      "A value is trying to be set on a copy of a slice from a DataFrame\n",
      "\n",
      "See the caveats in the documentation: https://pandas.pydata.org/pandas-docs/stable/user_guide/indexing.html#returning-a-view-versus-a-copy\n",
      "  iloc._setitem_with_indexer(indexer, value)\n"
     ]
    },
    {
     "name": "stdout",
     "output_type": "stream",
     "text": [
      "\n",
      "Normalizing Gene Training Data by Batch\n"
     ]
    },
    {
     "name": "stderr",
     "output_type": "stream",
     "text": [
      "100%|██████████| 4/4 [00:00<00:00,  9.66it/s]\n"
     ]
    },
    {
     "name": "stdout",
     "output_type": "stream",
     "text": [
      "\n",
      "Normalizing Protein Training Data by Batch\n"
     ]
    },
    {
     "name": "stderr",
     "output_type": "stream",
     "text": [
      "100%|██████████| 4/4 [00:00<00:00, 45.03it/s]\n"
     ]
    },
    {
     "name": "stdout",
     "output_type": "stream",
     "text": [
      "\n",
      "Normalizing Gene Testing Data by Batch\n"
     ]
    },
    {
     "name": "stderr",
     "output_type": "stream",
     "text": [
      "100%|██████████| 4/4 [00:00<00:00, 13.03it/s]\n"
     ]
    }
   ],
   "source": [
    "sciPENN = sciPENN_API([adata_gene], [adata_protein], adata_gene_test, train_batchkeys = ['patient'], test_batchkey = 'patient')"
   ]
  },
  {
   "cell_type": "code",
   "execution_count": 17,
   "outputs": [
    {
     "data": {
      "text/plain": "View of AnnData object with n_obs × n_vars = 17596 × 113\n    obs: 'patient'\n    var: 'Common Name', 'expression_type', 'n_counts'\n    layers: 'raw'"
     },
     "execution_count": 17,
     "metadata": {},
     "output_type": "execute_result"
    }
   ],
   "source": [
    "adata_protein_test"
   ],
   "metadata": {
    "collapsed": false,
    "ExecuteTime": {
     "start_time": "2024-03-26T16:15:09.869817Z",
     "end_time": "2024-03-26T16:15:09.915474Z"
    }
   }
  },
  {
   "cell_type": "code",
   "execution_count": 18,
   "metadata": {
    "ExecuteTime": {
     "start_time": "2024-03-26T16:15:27.262944Z",
     "end_time": "2024-03-26T16:37:12.620221Z"
    }
   },
   "outputs": [
    {
     "name": "stdout",
     "output_type": "stream",
     "text": [
      "Epoch 0 prediction loss = 1.385\n",
      "Epoch 1 prediction loss = 1.113\n",
      "Epoch 2 prediction loss = 1.112\n",
      "Epoch 3 prediction loss = 1.100\n",
      "Epoch 4 prediction loss = 1.099\n",
      "Epoch 5 prediction loss = 1.117\n",
      "Epoch 6 prediction loss = 1.093\n",
      "Epoch 7 prediction loss = 1.099\n",
      "Epoch 8 prediction loss = 1.109\n",
      "Epoch 9 prediction loss = 1.079\n",
      "Epoch 10 prediction loss = 1.097\n",
      "Epoch 11 prediction loss = 1.105\n",
      "Epoch 12 prediction loss = 1.097\n",
      "Epoch 13 prediction loss = 1.103\n",
      "Epoch 14 prediction loss = 1.085\n",
      "Decaying loss to 0.0001\n",
      "Epoch 15 prediction loss = 1.019\n",
      "Epoch 16 prediction loss = 1.033\n",
      "Epoch 17 prediction loss = 1.033\n",
      "Epoch 18 prediction loss = 1.040\n",
      "Epoch 19 prediction loss = 1.023\n",
      "Epoch 20 prediction loss = 1.023\n",
      "Decaying loss to 1e-05\n",
      "Epoch 21 prediction loss = 1.010\n",
      "Epoch 22 prediction loss = 1.008\n",
      "Epoch 23 prediction loss = 1.018\n",
      "Epoch 24 prediction loss = 1.028\n",
      "Epoch 25 prediction loss = 1.024\n",
      "Epoch 26 prediction loss = 1.016\n",
      "Decaying loss to 1.0000000000000002e-06\n",
      "Epoch 27 prediction loss = 1.014\n",
      "Epoch 28 prediction loss = 1.035\n",
      "Epoch 29 prediction loss = 1.019\n",
      "Epoch 30 prediction loss = 1.012\n",
      "Epoch 31 prediction loss = 1.014\n",
      "Epoch 32 prediction loss = 1.026\n",
      "Decaying loss to 1.0000000000000002e-07\n",
      "Epoch 33 prediction loss = 1.017\n"
     ]
    },
    {
     "data": {
      "text/plain": "1305.30788064003"
     },
     "execution_count": 18,
     "metadata": {},
     "output_type": "execute_result"
    }
   ],
   "source": [
    "start = time()\n",
    "sciPENN.train(n_epochs=10000, weights_dir = \"weights_dir/monocyte_to_monocyte\", load=False)\n",
    "imputed_test = sciPENN.predict()\n",
    "time() - start"
   ]
  },
  {
   "cell_type": "code",
   "execution_count": 19,
   "metadata": {
    "ExecuteTime": {
     "start_time": "2024-03-26T16:37:29.176483Z",
     "end_time": "2024-03-26T16:37:37.650763Z"
    }
   },
   "outputs": [
    {
     "name": "stderr",
     "output_type": "stream",
     "text": [
      "... storing 'patient' as categorical\n",
      "... storing 'batch' as categorical\n"
     ]
    }
   ],
   "source": [
    "embedding = sciPENN.embed()\n",
    "embedding.write(\"scipenn_monocyteembedding.h5ad\")"
   ]
  },
  {
   "cell_type": "code",
   "execution_count": 21,
   "outputs": [
    {
     "data": {
      "text/plain": "AnnData object with n_obs × n_vars = 37018 × 512\n    obs: 'patient', 'batch'"
     },
     "execution_count": 21,
     "metadata": {},
     "output_type": "execute_result"
    }
   ],
   "source": [
    "embedding"
   ],
   "metadata": {
    "collapsed": false,
    "ExecuteTime": {
     "start_time": "2024-03-26T16:38:07.972630Z",
     "end_time": "2024-03-26T16:38:08.017500Z"
    }
   }
  },
  {
   "cell_type": "code",
   "execution_count": 20,
   "outputs": [
    {
     "data": {
      "text/plain": "AnnData object with n_obs × n_vars = 17519 × 113\n    obs: 'patient', 'batch', 'scale_factor'\n    layers: 'q10', 'q25', 'q75', 'q90'"
     },
     "execution_count": 20,
     "metadata": {},
     "output_type": "execute_result"
    }
   ],
   "source": [
    "imputed_test"
   ],
   "metadata": {
    "collapsed": false,
    "ExecuteTime": {
     "start_time": "2024-03-26T16:37:46.986439Z",
     "end_time": "2024-03-26T16:37:47.028449Z"
    }
   }
  },
  {
   "cell_type": "code",
   "execution_count": 22,
   "metadata": {
    "ExecuteTime": {
     "start_time": "2024-03-26T16:39:35.821708Z",
     "end_time": "2024-03-26T16:39:36.188829Z"
    }
   },
   "outputs": [
    {
     "name": "stderr",
     "output_type": "stream",
     "text": [
      "/home/yychen/.conda/envs/scipenn_env/lib/python3.7/site-packages/scanpy/preprocessing/_normalization.py:155: UserWarning: Revieved a view of an AnnData. Making a copy.\n",
      "  view_to_actual(adata)\n",
      "/home/yychen/.conda/envs/scipenn_env/lib/python3.7/site-packages/scanpy/preprocessing/_simple.py:843: UserWarning: Revieved a view of an AnnData. Making a copy.\n",
      "  view_to_actual(adata)\n"
     ]
    }
   ],
   "source": [
    "adata_protein_test = adata_protein_test[imputed_test.obs.index]\n",
    "\n",
    "sc.pp.normalize_total(adata_protein_test)\n",
    "sc.pp.log1p(adata_protein_test)\n",
    "sc.pp.filter_genes(adata_protein_test, min_counts = 1)\n",
    "\n",
    "common_proteins = np.intersect1d(imputed_test.var.index, adata_protein_test.var.index)\n",
    "\n",
    "adata_protein_test = adata_protein_test[:, common_proteins]\n",
    "adata_protein_test.layers['imputed'] = imputed_test[:, common_proteins].X\n",
    "adata_protein_test.layers.update(imputed_test[:, common_proteins].layers)\n",
    "\n",
    "patients = np.unique(adata_protein_test.obs['patient'].values)\n",
    "\n",
    "for patient in patients:\n",
    "    indices = [x == patient for x in adata_protein_test.obs['patient']]\n",
    "    sub_adata = adata_protein_test[indices]\n",
    "\n",
    "    sc.pp.scale(sub_adata)\n",
    "    adata_protein_test[indices] = sub_adata.X"
   ]
  },
  {
   "cell_type": "code",
   "execution_count": 23,
   "metadata": {
    "ExecuteTime": {
     "start_time": "2024-03-26T16:39:56.098138Z",
     "end_time": "2024-03-26T16:39:56.141623Z"
    }
   },
   "outputs": [],
   "source": [
    "def corr2_coeff(A, B, pearson = True):\n",
    "    if pearson:\n",
    "        # Rowwise mean of input arrays & subtract from input arrays themeselves\n",
    "        A_mA = A - A.mean(1)[:, None]\n",
    "        B_mB = B - B.mean(1)[:, None]\n",
    "\n",
    "        # Sum of squares across rows\n",
    "        ssA = (A_mA**2).sum(1)\n",
    "        ssB = (B_mB**2).sum(1)\n",
    "\n",
    "        # Finally get corr coeff\n",
    "        corr_mat = np.dot(A_mA, B_mB.T) / np.sqrt(np.dot(ssA[:, None],ssB[None]))\n",
    "        \n",
    "        return corr_mat[range(corr_mat.shape[0]), range(corr_mat.shape[0])]\n",
    "    \n",
    "    else:\n",
    "        corrs = [0.] * A.shape[0]\n",
    "        \n",
    "        for i in range(A.shape[0]):\n",
    "            corrs[i] = spearmanr(A[i], B[i])[0]\n",
    "            \n",
    "        return corrs"
   ]
  },
  {
   "cell_type": "code",
   "execution_count": 24,
   "metadata": {
    "ExecuteTime": {
     "start_time": "2024-03-26T16:39:57.821716Z",
     "end_time": "2024-03-26T16:39:57.898693Z"
    }
   },
   "outputs": [],
   "source": [
    "corrs = corr2_coeff(adata_protein_test.layers[\"imputed\"].T, adata_protein_test.X.T)\n",
    "corrs = pd.DataFrame(corrs)\n",
    "corrs.index = adata_protein_test.var.index\n",
    "corrs = corrs.dropna()"
   ]
  },
  {
   "cell_type": "code",
   "execution_count": 26,
   "metadata": {
    "ExecuteTime": {
     "start_time": "2024-03-26T16:40:13.675996Z",
     "end_time": "2024-03-26T16:40:13.734382Z"
    }
   },
   "outputs": [],
   "source": [
    "MSEs = ((adata_protein_test.X - adata_protein_test.layers[\"imputed\"])**2).mean(axis = 0)**(1/2)\n",
    "\n",
    "protein_table = pd.DataFrame(np.concatenate((corrs.to_numpy(), np.expand_dims(MSEs, axis = 1), adata_protein_test.layers[\"raw\"].mean(axis = 0, keepdims = True).T), axis = 1), \n",
    "                             index = corrs.index, columns = [\"Correlations\", \"RMSE\", \"Mean Expression\"])\n",
    "\n",
    "protein_table[\"Log-Mean Expression\"] = np.log(protein_table[\"Mean Expression\"])"
   ]
  },
  {
   "cell_type": "code",
   "execution_count": 27,
   "metadata": {
    "ExecuteTime": {
     "start_time": "2024-03-26T16:40:16.395569Z",
     "end_time": "2024-03-26T16:40:16.443427Z"
    }
   },
   "outputs": [],
   "source": [
    "sq = lambda x, y: (x - y)**2"
   ]
  },
  {
   "cell_type": "code",
   "execution_count": 28,
   "metadata": {
    "ExecuteTime": {
     "start_time": "2024-03-26T16:40:19.231061Z",
     "end_time": "2024-03-26T16:40:19.353402Z"
    }
   },
   "outputs": [],
   "source": [
    "corrs_table = np.zeros((adata_protein_test.shape[1], len(np.unique(adata_protein_test.obs[\"patient\"]))))\n",
    "sq_table = corrs_table.copy()\n",
    "\n",
    "i = 0\n",
    "for patient in np.unique(adata_protein_test.obs[\"patient\"]):\n",
    "    truth = adata_protein_test[adata_protein_test.obs[\"patient\"] == patient].X.copy()\n",
    "    imputed = adata_protein_test.layers[\"imputed\"][adata_protein_test.obs[\"patient\"] == patient].copy()\n",
    "\n",
    "    corrs_table[:, i] = corr2_coeff(truth.T, imputed.T)\n",
    "    sq_table[:, i] = sq(truth, imputed).mean(axis = 0)\n",
    "    i += 1\n",
    "\n",
    "if np.isnan(corrs_table).sum() > 0:\n",
    "    corrs_table[np.isnan(corrs_table)] = 0"
   ]
  },
  {
   "cell_type": "code",
   "execution_count": 29,
   "metadata": {
    "ExecuteTime": {
     "start_time": "2024-03-26T16:40:21.687930Z",
     "end_time": "2024-03-26T16:40:21.758931Z"
    }
   },
   "outputs": [],
   "source": [
    "corrs_table = pd.DataFrame(corrs_table)\n",
    "sq_table = pd.DataFrame(sq_table)\n",
    "corrs_table.index, corrs_table.columns = adata_protein_test.var.index, np.unique(adata_protein_test.obs[\"patient\"])\n",
    "sq_table.index, sq_table.columns = adata_protein_test.var.index, np.unique(adata_protein_test.obs[\"patient\"])"
   ]
  },
  {
   "cell_type": "code",
   "execution_count": 30,
   "metadata": {
    "ExecuteTime": {
     "start_time": "2024-03-26T16:40:23.407471Z",
     "end_time": "2024-03-26T16:40:23.453991Z"
    }
   },
   "outputs": [
    {
     "data": {
      "text/plain": "RPM215A    0.332600\nRPM215B    0.485638\nRPM218A    0.363333\nRPM218B    0.444243\ndtype: float64"
     },
     "execution_count": 30,
     "metadata": {},
     "output_type": "execute_result"
    }
   ],
   "source": [
    "corrs_table.mean(axis = 0)"
   ]
  },
  {
   "cell_type": "code",
   "execution_count": 31,
   "metadata": {
    "ExecuteTime": {
     "start_time": "2024-03-26T16:40:26.283771Z",
     "end_time": "2024-03-26T16:40:26.325937Z"
    }
   },
   "outputs": [
    {
     "data": {
      "text/plain": "0.4064533480918766"
     },
     "execution_count": 31,
     "metadata": {},
     "output_type": "execute_result"
    }
   ],
   "source": [
    "corrs_table.mean(axis = 0).mean()"
   ]
  },
  {
   "cell_type": "code",
   "execution_count": 32,
   "metadata": {
    "ExecuteTime": {
     "start_time": "2024-03-26T16:40:30.654233Z",
     "end_time": "2024-03-26T16:40:30.690626Z"
    }
   },
   "outputs": [],
   "source": [
    "corrs_table.to_csv('corrs_results/scipenn_monocyte.csv')"
   ]
  },
  {
   "cell_type": "code",
   "execution_count": 33,
   "metadata": {
    "ExecuteTime": {
     "start_time": "2024-03-26T16:40:35.450180Z",
     "end_time": "2024-03-26T16:40:35.495257Z"
    }
   },
   "outputs": [
    {
     "data": {
      "text/plain": "RPM215A    0.858145\nRPM215B    0.736378\nRPM218A    0.825809\nRPM218B    0.766245\ndtype: float64"
     },
     "execution_count": 33,
     "metadata": {},
     "output_type": "execute_result"
    }
   ],
   "source": [
    "sq_table.mean(axis = 0)"
   ]
  },
  {
   "cell_type": "code",
   "execution_count": 34,
   "metadata": {
    "ExecuteTime": {
     "start_time": "2024-03-26T16:40:39.076462Z",
     "end_time": "2024-03-26T16:40:39.131868Z"
    }
   },
   "outputs": [
    {
     "data": {
      "text/plain": "0.7966442524199991"
     },
     "execution_count": 34,
     "metadata": {},
     "output_type": "execute_result"
    }
   ],
   "source": [
    "sq_table.mean().mean()"
   ]
  },
  {
   "cell_type": "code",
   "execution_count": 35,
   "metadata": {
    "ExecuteTime": {
     "start_time": "2024-03-26T16:40:42.260271Z",
     "end_time": "2024-03-26T16:40:42.305197Z"
    }
   },
   "outputs": [
    {
     "data": {
      "text/plain": "RPM215A    0.256501\nRPM215B    0.245137\nRPM218A    0.273592\nRPM218B    0.281998\nName: CD16, dtype: float64"
     },
     "execution_count": 35,
     "metadata": {},
     "output_type": "execute_result"
    }
   ],
   "source": [
    "sq_table.loc['CD16']"
   ]
  },
  {
   "cell_type": "code",
   "execution_count": 36,
   "metadata": {
    "ExecuteTime": {
     "start_time": "2024-03-26T16:40:46.670572Z",
     "end_time": "2024-03-26T16:40:46.717751Z"
    }
   },
   "outputs": [],
   "source": [
    "sq_table.to_csv('mse_results/scipenn_monocyte.csv')"
   ]
  },
  {
   "cell_type": "code",
   "execution_count": 37,
   "metadata": {
    "ExecuteTime": {
     "start_time": "2024-03-26T16:40:50.705366Z",
     "end_time": "2024-03-26T16:40:50.760965Z"
    }
   },
   "outputs": [
    {
     "data": {
      "text/plain": "RPM215A    0.868187\nRPM215B    0.891583\nRPM218A    0.854823\nRPM218B    0.856301\nName: CD16, dtype: float64"
     },
     "execution_count": 37,
     "metadata": {},
     "output_type": "execute_result"
    }
   ],
   "source": [
    "corrs_table.loc['CD16']"
   ]
  },
  {
   "cell_type": "code",
   "execution_count": 38,
   "metadata": {
    "scrolled": true,
    "ExecuteTime": {
     "start_time": "2024-03-26T16:40:58.742434Z",
     "end_time": "2024-03-26T16:40:59.876189Z"
    }
   },
   "outputs": [
    {
     "data": {
      "text/plain": "<Figure size 864x864 with 1 Axes>",
      "image/png": "[encoded data removed]"
     },
     "metadata": {},
     "output_type": "display_data"
    }
   ],
   "source": [
    "gene, subject = \"CD16\", \"RPM215B\"\n",
    "\n",
    "x = (adata_protein_test.obs['patient'].values == subject).reshape(-1, 1)\n",
    "y = adata_protein_test.var.index == gene\n",
    "\n",
    "true, observed = adata_protein_test[x, y].X, adata_protein_test[x, y].layers['imputed']\n",
    "\n",
    "fig, axes = pyplot.subplots(1, 1, figsize = (12, 12))\n",
    "\n",
    "axes.scatter(true, observed)\n",
    "axes.set_title(f\"{gene} Expression for {subject}\", fontsize = 20)\n",
    "axes.set_xlabel(\"Observed\", fontsize = 15)\n",
    "axes.set_ylabel(\"Predicted\", fontsize = 15)\n",
    "fig.savefig('grantfig.jpeg', dpi = 300)"
   ]
  },
  {
   "cell_type": "code",
   "execution_count": 39,
   "metadata": {
    "ExecuteTime": {
     "start_time": "2024-03-26T16:41:08.445963Z",
     "end_time": "2024-03-26T16:41:08.512386Z"
    }
   },
   "outputs": [
    {
     "name": "stdout",
     "output_type": "stream",
     "text": [
      "Effective Coverage Probability for Nominal 50% PI: 0.448\n"
     ]
    }
   ],
   "source": [
    "r95 = (adata_protein_test.X < adata_protein_test.layers['q75'])\n",
    "l95 = (adata_protein_test.X > adata_protein_test.layers['q25'])\n",
    "\n",
    "print(f\"Effective Coverage Probability for Nominal 50% PI: {(r95*l95).mean():.3f}\")"
   ]
  },
  {
   "cell_type": "code",
   "execution_count": 40,
   "metadata": {
    "ExecuteTime": {
     "start_time": "2024-03-26T16:41:11.073791Z",
     "end_time": "2024-03-26T16:41:11.130877Z"
    }
   },
   "outputs": [
    {
     "name": "stdout",
     "output_type": "stream",
     "text": [
      "Effective Coverage Probability for Nominal 80% PI: 0.698\n"
     ]
    }
   ],
   "source": [
    "r95 = (adata_protein_test.X < adata_protein_test.layers['q90'])\n",
    "l95 = (adata_protein_test.X > adata_protein_test.layers['q10'])\n",
    "\n",
    "print(f\"Effective Coverage Probability for Nominal 80% PI: {(r95*l95).mean():.3f}\")"
   ]
  },
  {
   "cell_type": "code",
   "execution_count": 41,
   "metadata": {
    "ExecuteTime": {
     "start_time": "2024-03-26T16:41:15.122614Z",
     "end_time": "2024-03-26T16:41:15.290339Z"
    }
   },
   "outputs": [
    {
     "name": "stderr",
     "output_type": "stream",
     "text": [
      "... storing 'patient' as categorical\n",
      "... storing 'expression_type' as categorical\n"
     ]
    }
   ],
   "source": [
    "adata_protein_test.write(\"scipenn_monocytefeatures.h5ad\")"
   ]
  },
  {
   "cell_type": "code",
   "execution_count": 42,
   "metadata": {
    "ExecuteTime": {
     "start_time": "2024-03-26T16:41:17.599582Z",
     "end_time": "2024-03-26T16:41:17.648094Z"
    }
   },
   "outputs": [
    {
     "name": "stdout",
     "output_type": "stream",
     "text": [
      "Mean 50% PI: 1.08\n"
     ]
    }
   ],
   "source": [
    "lengths = adata_protein_test.layers['q75'] - adata_protein_test.layers['q25']\n",
    "print(f\"Mean 50% PI: {lengths.mean():.2f}\")"
   ]
  }
 ],
 "metadata": {
  "kernelspec": {
   "name": "python3",
   "language": "python",
   "display_name": "Python 3 (ipykernel)"
  },
  "language_info": {
   "codemirror_mode": {
    "name": "ipython",
    "version": 3
   },
   "file_extension": ".py",
   "mimetype": "text/x-python",
   "name": "python",
   "nbconvert_exporter": "python",
   "pygments_lexer": "ipython3",
   "version": "3.7.0"
  }
 },
 "nbformat": 4,
 "nbformat_minor": 4
}
