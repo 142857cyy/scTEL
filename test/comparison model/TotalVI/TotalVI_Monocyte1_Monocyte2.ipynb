{
 "cells": [
  {
   "cell_type": "markdown",
   "metadata": {},
   "source": [
    "## Import packages"
   ]
  },
  {
   "cell_type": "code",
   "execution_count": 2,
   "metadata": {
    "ExecuteTime": {
     "start_time": "2024-03-25T22:33:37.163423Z",
     "end_time": "2024-03-25T22:33:43.150333Z"
    }
   },
   "outputs": [
    {
     "name": "stderr",
     "output_type": "stream",
     "text": [
      "OMP: Info #276: omp_set_nested routine deprecated, please use omp_set_max_active_levels instead.\n"
     ]
    },
    {
     "name": "stdout",
     "output_type": "stream",
     "text": [
      "0.10.0\n"
     ]
    }
   ],
   "source": [
    "%load_ext autoreload\n",
    "%autoreload 2\n",
    "\n",
    "import sys\n",
    "import numpy as np\n",
    "import seaborn as sns\n",
    "import pandas as pd\n",
    "import pickle\n",
    "import scanpy as sc\n",
    "sc.set_figure_params(dpi=100, dpi_save=300)\n",
    "import scvi\n",
    "import anndata as ad\n",
    "from matplotlib import pyplot, cm\n",
    "import os\n",
    "from math import ceil\n",
    "from scipy.stats import spearmanr\n",
    "import math\n",
    "import time\n",
    "from sciPENN.Preprocessing import preprocess\n",
    "\n",
    "import leidenalg\n",
    "\n",
    "from anndata import AnnData\n",
    "import scanpy as sc\n",
    "from scanpy import read\n",
    "import pandas as pd\n",
    "\n",
    "from read_monocyte_data import read_data\n",
    "\n",
    "import matplotlib.pyplot as plt\n",
    "print(scvi.__version__)"
   ]
  },
  {
   "cell_type": "markdown",
   "metadata": {},
   "source": [
    "# Read data: Pbmc (train), H1N1 (test)"
   ]
  },
  {
   "cell_type": "code",
   "execution_count": 3,
   "metadata": {
    "ExecuteTime": {
     "start_time": "2024-03-25T22:33:44.683635Z",
     "end_time": "2024-03-25T22:38:01.492495Z"
    }
   },
   "outputs": [
    {
     "name": "stderr",
     "output_type": "stream",
     "text": [
      "Observation names are not unique. To make them unique, call `.obs_names_make_unique`.\n",
      "Observation names are not unique. To make them unique, call `.obs_names_make_unique`.\n",
      "Observation names are not unique. To make them unique, call `.obs_names_make_unique`.\n",
      "Observation names are not unique. To make them unique, call `.obs_names_make_unique`.\n",
      "Observation names are not unique. To make them unique, call `.obs_names_make_unique`.\n",
      "Observation names are not unique. To make them unique, call `.obs_names_make_unique`.\n",
      "Observation names are not unique. To make them unique, call `.obs_names_make_unique`.\n",
      "Observation names are not unique. To make them unique, call `.obs_names_make_unique`.\n",
      "Observation names are not unique. To make them unique, call `.obs_names_make_unique`.\n",
      "Observation names are not unique. To make them unique, call `.obs_names_make_unique`.\n",
      "Observation names are not unique. To make them unique, call `.obs_names_make_unique`.\n",
      "Observation names are not unique. To make them unique, call `.obs_names_make_unique`.\n",
      "Observation names are not unique. To make them unique, call `.obs_names_make_unique`.\n",
      "Observation names are not unique. To make them unique, call `.obs_names_make_unique`.\n",
      "Observation names are not unique. To make them unique, call `.obs_names_make_unique`.\n",
      "Observation names are not unique. To make them unique, call `.obs_names_make_unique`.\n",
      "Observation names are not unique. To make them unique, call `.obs_names_make_unique`.\n",
      "Observation names are not unique. To make them unique, call `.obs_names_make_unique`.\n",
      "Observation names are not unique. To make them unique, call `.obs_names_make_unique`.\n",
      "Observation names are not unique. To make them unique, call `.obs_names_make_unique`.\n",
      "Observation names are not unique. To make them unique, call `.obs_names_make_unique`.\n",
      "Observation names are not unique. To make them unique, call `.obs_names_make_unique`.\n",
      "Observation names are not unique. To make them unique, call `.obs_names_make_unique`.\n",
      "Observation names are not unique. To make them unique, call `.obs_names_make_unique`.\n",
      "Observation names are not unique. To make them unique, call `.obs_names_make_unique`.\n",
      "Observation names are not unique. To make them unique, call `.obs_names_make_unique`.\n",
      "Observation names are not unique. To make them unique, call `.obs_names_make_unique`.\n",
      "Observation names are not unique. To make them unique, call `.obs_names_make_unique`.\n",
      "Observation names are not unique. To make them unique, call `.obs_names_make_unique`.\n",
      "Observation names are not unique. To make them unique, call `.obs_names_make_unique`.\n",
      "Observation names are not unique. To make them unique, call `.obs_names_make_unique`.\n",
      "Observation names are not unique. To make them unique, call `.obs_names_make_unique`.\n",
      "Observation names are not unique. To make them unique, call `.obs_names_make_unique`.\n",
      "Observation names are not unique. To make them unique, call `.obs_names_make_unique`.\n",
      "Observation names are not unique. To make them unique, call `.obs_names_make_unique`.\n",
      "Observation names are not unique. To make them unique, call `.obs_names_make_unique`.\n",
      "Observation names are not unique. To make them unique, call `.obs_names_make_unique`.\n",
      "Observation names are not unique. To make them unique, call `.obs_names_make_unique`.\n",
      "Observation names are not unique. To make them unique, call `.obs_names_make_unique`.\n",
      "Observation names are not unique. To make them unique, call `.obs_names_make_unique`.\n",
      "Trying to set attribute `.var` of view, copying.\n",
      "Observation names are not unique. To make them unique, call `.obs_names_make_unique`.\n",
      "Observation names are not unique. To make them unique, call `.obs_names_make_unique`.\n"
     ]
    }
   ],
   "source": [
    "adata_gene, adata_protein = read_data(cell_normalize = False, log_normalize = False, feature_normalize = False, \n",
    "                   dir_path = '../Data/monocytes_mingyao/cite_seq', subset_hvg = False)"
   ]
  },
  {
   "cell_type": "code",
   "execution_count": 4,
   "metadata": {
    "ExecuteTime": {
     "start_time": "2024-03-25T22:38:17.810295Z",
     "end_time": "2024-03-25T22:38:18.324856Z"
    }
   },
   "outputs": [
    {
     "data": {
      "text/plain": "AnnData object with n_obs × n_vars = 37112 × 113\n    obs: 'patient'\n    var: 'Common Name', 'expression_type', 'n_counts'\n    layers: 'raw'"
     },
     "execution_count": 4,
     "metadata": {},
     "output_type": "execute_result"
    }
   ],
   "source": [
    "tmp = adata_protein.copy()\n",
    "sc.pp.normalize_total(tmp)\n",
    "sc.pp.log1p(tmp)\n",
    "\n",
    "sums = tmp.X.sum(axis = 0)\n",
    "samples = ((tmp.X > 0.0001).sum(axis = 0))\n",
    "\n",
    "expression = sums/samples\n",
    "adata_protein = adata_protein[:, expression > 0.8].copy()\n",
    "adata_protein"
   ]
  },
  {
   "cell_type": "code",
   "execution_count": 5,
   "metadata": {
    "ExecuteTime": {
     "start_time": "2024-03-25T22:38:21.593405Z",
     "end_time": "2024-03-25T22:38:21.688304Z"
    }
   },
   "outputs": [],
   "source": [
    "train_patients = ['RPM211A', 'RPM211B', 'RPM232A', 'RPM232B']\n",
    "test_patients = ['RPM215A', 'RPM215B', 'RPM218A', 'RPM218B']\n",
    "\n",
    "train_patientset = [x in train_patients for x in adata_gene.obs['patient']]\n",
    "test_patientset = [x in test_patients for x in adata_gene.obs['patient']]\n",
    "\n",
    "adata_gene, adata_gene_test = adata_gene[train_patientset], adata_gene[test_patientset]\n",
    "adata_protein, adata_protein_test = adata_protein[train_patientset], adata_protein[test_patientset]"
   ]
  },
  {
   "cell_type": "markdown",
   "metadata": {},
   "source": [
    "# Selecting highly variable genes - using gene expression measures from test data "
   ]
  },
  {
   "cell_type": "code",
   "execution_count": 6,
   "metadata": {
    "ExecuteTime": {
     "start_time": "2024-03-25T22:38:23.951324Z",
     "end_time": "2024-03-25T22:39:42.373556Z"
    }
   },
   "outputs": [
    {
     "name": "stderr",
     "output_type": "stream",
     "text": [
      "Trying to set attribute `.obs` of view, copying.\n",
      "Trying to set attribute `.obs` of view, copying.\n",
      "Trying to set attribute `.obs` of view, copying.\n"
     ]
    },
    {
     "name": "stdout",
     "output_type": "stream",
     "text": [
      "\n",
      "QC Filtering Training Cells\n",
      "QC Filtering Testing Cells\n",
      "\n",
      "QC Filtering Training Genes\n",
      "QC Filtering Testing Genes\n",
      "\n",
      "Normalizing Training Cells\n",
      "Normalizing Testing Cells\n",
      "\n",
      "Log-Normalizing Training Data\n",
      "Log-Normalizing Testing Data\n",
      "\n",
      "Finding HVGs\n"
     ]
    },
    {
     "name": "stderr",
     "output_type": "stream",
     "text": [
      "... storing 'patient' as categorical\n",
      "... storing 'batch' as categorical\n",
      "... storing 'Dataset' as categorical\n",
      "... storing 'expression_type' as categorical\n",
      "/home/yychen/.conda/envs/scipenn_env/lib/python3.7/site-packages/pandas/core/indexing.py:670: SettingWithCopyWarning: \n",
      "A value is trying to be set on a copy of a slice from a DataFrame\n",
      "\n",
      "See the caveats in the documentation: https://pandas.pydata.org/pandas-docs/stable/user_guide/indexing.html#returning-a-view-versus-a-copy\n",
      "  iloc._setitem_with_indexer(indexer, value)\n"
     ]
    },
    {
     "name": "stdout",
     "output_type": "stream",
     "text": [
      "\n",
      "Normalizing Gene Training Data by Batch\n"
     ]
    },
    {
     "name": "stderr",
     "output_type": "stream",
     "text": [
      "100%|██████████| 4/4 [00:00<00:00, 11.22it/s]\n"
     ]
    },
    {
     "name": "stdout",
     "output_type": "stream",
     "text": [
      "\n",
      "Normalizing Protein Training Data by Batch\n"
     ]
    },
    {
     "name": "stderr",
     "output_type": "stream",
     "text": [
      "100%|██████████| 4/4 [00:00<00:00, 37.78it/s]\n"
     ]
    },
    {
     "name": "stdout",
     "output_type": "stream",
     "text": [
      "\n",
      "Normalizing Gene Testing Data by Batch\n"
     ]
    },
    {
     "name": "stderr",
     "output_type": "stream",
     "text": [
      "100%|██████████| 4/4 [00:00<00:00, 12.25it/s]\n"
     ]
    }
   ],
   "source": [
    "gene_train, protein_train, gene_test, bools, train_keys, categories = preprocess([adata_gene], [adata_protein], adata_gene_test, train_batchkeys = [\"patient\"], test_batchkey = \"patient\", gene_list = [], select_hvg = True, cell_normalize = True, log_normalize = True, gene_normalize = True, min_cells = 30, min_genes = 200)"
   ]
  },
  {
   "cell_type": "code",
   "execution_count": 7,
   "metadata": {
    "ExecuteTime": {
     "start_time": "2024-03-25T22:40:25.272695Z",
     "end_time": "2024-03-25T22:40:25.350969Z"
    }
   },
   "outputs": [],
   "source": [
    "hvg = gene_test.var_names\n",
    "cells_test = gene_test.obs_names\n",
    "cells_train = gene_train.obs_names"
   ]
  },
  {
   "cell_type": "code",
   "execution_count": 8,
   "metadata": {
    "ExecuteTime": {
     "start_time": "2024-03-25T22:40:27.515582Z",
     "end_time": "2024-03-25T22:40:27.832131Z"
    }
   },
   "outputs": [
    {
     "data": {
      "text/plain": "1566"
     },
     "execution_count": 8,
     "metadata": {},
     "output_type": "execute_result"
    }
   ],
   "source": [
    "del gene_train\n",
    "del gene_test\n",
    "del protein_train\n",
    "\n",
    "import gc\n",
    "gc.collect()"
   ]
  },
  {
   "cell_type": "markdown",
   "metadata": {},
   "source": [
    "# Format data"
   ]
  },
  {
   "cell_type": "code",
   "execution_count": 9,
   "metadata": {
    "ExecuteTime": {
     "start_time": "2024-03-25T22:40:29.644803Z",
     "end_time": "2024-03-25T22:40:29.644803Z"
    }
   },
   "outputs": [],
   "source": [
    "# What proteins overlap between the test and train data?\n",
    "\n",
    "train_protein = adata_protein.var_names\n",
    "test_protein = adata_protein_test.var_names\n",
    "overlap_protein = train_protein[train_protein.isin(test_protein)]"
   ]
  },
  {
   "cell_type": "code",
   "execution_count": 10,
   "metadata": {
    "ExecuteTime": {
     "start_time": "2024-03-25T22:40:31.598867Z",
     "end_time": "2024-03-25T22:40:33.044030Z"
    }
   },
   "outputs": [],
   "source": [
    "## Subsetting the data by the HVG - pbmc\n",
    "\n",
    "adata_gene_pbmc_hvg = adata_gene[cells_train, hvg].copy()"
   ]
  },
  {
   "cell_type": "code",
   "execution_count": 11,
   "metadata": {
    "ExecuteTime": {
     "start_time": "2024-03-25T22:40:34.659132Z",
     "end_time": "2024-03-25T22:40:35.526688Z"
    }
   },
   "outputs": [],
   "source": [
    "\n",
    "## Subsetting the data by the HVG - h1n1\n",
    "\n",
    "adata_gene_h1n1_hvg = adata_gene_test[cells_test, hvg].copy()"
   ]
  },
  {
   "cell_type": "code",
   "execution_count": 12,
   "metadata": {
    "ExecuteTime": {
     "start_time": "2024-03-25T22:40:39.523119Z",
     "end_time": "2024-03-25T22:40:39.597955Z"
    }
   },
   "outputs": [
    {
     "data": {
      "text/plain": "1.0"
     },
     "execution_count": 12,
     "metadata": {},
     "output_type": "execute_result"
    }
   ],
   "source": [
    "(adata_gene_pbmc_hvg.var.index == adata_gene_h1n1_hvg.var.index).mean()"
   ]
  },
  {
   "cell_type": "code",
   "execution_count": 13,
   "metadata": {
    "ExecuteTime": {
     "start_time": "2024-03-25T22:40:41.349932Z",
     "end_time": "2024-03-25T22:40:41.445469Z"
    }
   },
   "outputs": [],
   "source": [
    "adata_protein = adata_protein[cells_train, :].copy()\n",
    "adata_protein_test = adata_protein_test[cells_test, :].copy()"
   ]
  },
  {
   "cell_type": "code",
   "execution_count": 14,
   "metadata": {
    "ExecuteTime": {
     "start_time": "2024-03-25T22:40:44.076234Z",
     "end_time": "2024-03-25T22:40:44.548380Z"
    }
   },
   "outputs": [],
   "source": [
    "## Combine data\n",
    "\n",
    "adata = ad.concat([adata_gene_pbmc_hvg.copy(), adata_gene_h1n1_hvg.copy()],\n",
    "                     join='outer')"
   ]
  },
  {
   "cell_type": "markdown",
   "metadata": {},
   "source": [
    "# Subset data based on HVGs and Hold Out Test Protein Set"
   ]
  },
  {
   "cell_type": "code",
   "execution_count": 15,
   "metadata": {
    "ExecuteTime": {
     "start_time": "2024-03-25T22:40:46.618920Z",
     "end_time": "2024-03-25T22:40:46.913804Z"
    }
   },
   "outputs": [],
   "source": [
    "adata_final = adata.copy()"
   ]
  },
  {
   "cell_type": "code",
   "execution_count": 16,
   "metadata": {
    "ExecuteTime": {
     "start_time": "2024-03-25T22:40:48.639760Z",
     "end_time": "2024-03-25T22:40:48.734867Z"
    }
   },
   "outputs": [],
   "source": [
    "held_out_proteins = adata_protein_test[cells_test, overlap_protein].copy()"
   ]
  },
  {
   "cell_type": "markdown",
   "metadata": {},
   "source": [
    "### Now we hold-out the proteins for the test patients dataset. To do so, we can replace all the values with 0s. We will store the original values to validate after training."
   ]
  },
  {
   "cell_type": "code",
   "execution_count": 17,
   "metadata": {
    "ExecuteTime": {
     "start_time": "2024-03-25T22:40:51.425381Z",
     "end_time": "2024-03-25T22:40:51.534881Z"
    }
   },
   "outputs": [],
   "source": [
    "# Modified this code cell to predict all p = 224 proteins\n",
    "\n",
    "n, p = adata_protein.shape\n",
    "n_test, p_test = adata_protein_test.shape\n",
    "\n",
    "protein_dat = pd.DataFrame(np.zeros(shape = (n + n_test, p), dtype = 'float32'), \n",
    "                           index = list(adata_protein.obs_names) + list(adata_protein_test.obs_names),\n",
    "                           columns = adata_protein.var_names)\n",
    "\n",
    "protein_dat.iloc[:n] = adata_protein.X.copy() #fill the protein training data, leave test data as 0s\n",
    "\n",
    "adata_final.obsm[\"protein_expression\"] = protein_dat"
   ]
  },
  {
   "cell_type": "markdown",
   "metadata": {},
   "source": [
    "# Remove additional data from memory:"
   ]
  },
  {
   "cell_type": "code",
   "execution_count": 18,
   "metadata": {
    "ExecuteTime": {
     "start_time": "2024-03-25T22:40:53.709212Z",
     "end_time": "2024-03-25T22:40:53.787321Z"
    }
   },
   "outputs": [],
   "source": [
    "del adata_gene\n",
    "del adata_protein\n",
    "del adata_protein_test\n",
    "del adata_gene_test\n",
    "del adata_gene_pbmc_hvg\n",
    "del adata"
   ]
  },
  {
   "cell_type": "markdown",
   "metadata": {},
   "source": [
    "# Run TotalVI"
   ]
  },
  {
   "cell_type": "code",
   "execution_count": 19,
   "metadata": {
    "ExecuteTime": {
     "start_time": "2024-03-25T22:40:55.923251Z",
     "end_time": "2024-03-25T22:40:56.142043Z"
    }
   },
   "outputs": [
    {
     "name": "stdout",
     "output_type": "stream",
     "text": [
      "\u001B[34mINFO    \u001B[0m Using batches from adata.obs\u001B[1m[\u001B[0m\u001B[32m\"patient\"\u001B[0m\u001B[1m]\u001B[0m                                             \n",
      "\u001B[34mINFO    \u001B[0m No label_key inputted, assuming all cells have same label                           \n",
      "\u001B[34mINFO    \u001B[0m Using data from adata.X                                                             \n",
      "\u001B[34mINFO    \u001B[0m Computing library size prior per batch                                              \n",
      "\u001B[34mINFO    \u001B[0m Using protein expression from adata.obsm\u001B[1m[\u001B[0m\u001B[32m'protein_expression'\u001B[0m\u001B[1m]\u001B[0m                      \n",
      "\u001B[34mINFO    \u001B[0m Using protein names from columns of adata.obsm\u001B[1m[\u001B[0m\u001B[32m'protein_expression'\u001B[0m\u001B[1m]\u001B[0m                \n",
      "\u001B[34mINFO    \u001B[0m Found batches with missing protein expression                                       \n",
      "\u001B[34mINFO    \u001B[0m Successfully registered anndata object containing \u001B[1;36m37018\u001B[0m cells, \u001B[1;36m1000\u001B[0m vars, \u001B[1;36m8\u001B[0m batches,\n",
      "         \u001B[1;36m1\u001B[0m labels, and \u001B[1;36m113\u001B[0m proteins. Also registered \u001B[1;36m0\u001B[0m extra categorical covariates and \u001B[1;36m0\u001B[0m    \n",
      "         extra continuous covariates.                                                        \n",
      "\u001B[34mINFO    \u001B[0m Please do not further modify adata until model is trained.                          \n"
     ]
    }
   ],
   "source": [
    "scvi.data.setup_anndata(adata_final, batch_key=\"patient\", \n",
    "                        protein_expression_obsm_key=\"protein_expression\")"
   ]
  },
  {
   "cell_type": "code",
   "execution_count": 20,
   "metadata": {
    "ExecuteTime": {
     "start_time": "2024-03-25T22:41:00.149898Z",
     "end_time": "2024-03-25T22:41:00.228056Z"
    }
   },
   "outputs": [
    {
     "data": {
      "text/plain": "Anndata setup with scvi-tools version \u001B[1;36m0.10\u001B[0m.\u001B[1;36m0\u001B[0m.\n",
      "text/html": "<pre style=\"white-space:pre;overflow-x:auto;line-height:normal;font-family:Menlo,'DejaVu Sans Mono',consolas,'Courier New',monospace\">Anndata setup with scvi-tools version <span style=\"color: #008080; text-decoration-color: #008080; font-weight: bold\">0.10</span>.<span style=\"color: #008080; text-decoration-color: #008080; font-weight: bold\">0</span>.\n</pre>\n"
     },
     "metadata": {},
     "output_type": "display_data"
    },
    {
     "data": {
      "text/plain": "\u001B[3m              Data Summary              \u001B[0m\n┏━━━━━━━━━━━━━━━━━━━━━━━━━━━━━━┳━━━━━━━┓\n┃\u001B[1m \u001B[0m\u001B[1m            Data            \u001B[0m\u001B[1m \u001B[0m┃\u001B[1m \u001B[0m\u001B[1mCount\u001B[0m\u001B[1m \u001B[0m┃\n┡━━━━━━━━━━━━━━━━━━━━━━━━━━━━━━╇━━━━━━━┩\n│\u001B[38;5;33m \u001B[0m\u001B[38;5;33m           Cells            \u001B[0m\u001B[38;5;33m \u001B[0m│\u001B[38;5;128m \u001B[0m\u001B[38;5;128m37018\u001B[0m\u001B[38;5;128m \u001B[0m│\n│\u001B[38;5;33m \u001B[0m\u001B[38;5;33m            Vars            \u001B[0m\u001B[38;5;33m \u001B[0m│\u001B[38;5;128m \u001B[0m\u001B[38;5;128m1000 \u001B[0m\u001B[38;5;128m \u001B[0m│\n│\u001B[38;5;33m \u001B[0m\u001B[38;5;33m           Labels           \u001B[0m\u001B[38;5;33m \u001B[0m│\u001B[38;5;128m \u001B[0m\u001B[38;5;128m  1  \u001B[0m\u001B[38;5;128m \u001B[0m│\n│\u001B[38;5;33m \u001B[0m\u001B[38;5;33m          Batches           \u001B[0m\u001B[38;5;33m \u001B[0m│\u001B[38;5;128m \u001B[0m\u001B[38;5;128m  8  \u001B[0m\u001B[38;5;128m \u001B[0m│\n│\u001B[38;5;33m \u001B[0m\u001B[38;5;33m          Proteins          \u001B[0m\u001B[38;5;33m \u001B[0m│\u001B[38;5;128m \u001B[0m\u001B[38;5;128m 113 \u001B[0m\u001B[38;5;128m \u001B[0m│\n│\u001B[38;5;33m \u001B[0m\u001B[38;5;33mExtra Categorical Covariates\u001B[0m\u001B[38;5;33m \u001B[0m│\u001B[38;5;128m \u001B[0m\u001B[38;5;128m  0  \u001B[0m\u001B[38;5;128m \u001B[0m│\n│\u001B[38;5;33m \u001B[0m\u001B[38;5;33mExtra Continuous Covariates \u001B[0m\u001B[38;5;33m \u001B[0m│\u001B[38;5;128m \u001B[0m\u001B[38;5;128m  0  \u001B[0m\u001B[38;5;128m \u001B[0m│\n└──────────────────────────────┴───────┘\n",
      "text/html": "<pre style=\"white-space:pre;overflow-x:auto;line-height:normal;font-family:Menlo,'DejaVu Sans Mono',consolas,'Courier New',monospace\"><span style=\"font-style: italic\">              Data Summary              </span>\n┏━━━━━━━━━━━━━━━━━━━━━━━━━━━━━━┳━━━━━━━┓\n┃<span style=\"font-weight: bold\">             Data             </span>┃<span style=\"font-weight: bold\"> Count </span>┃\n┡━━━━━━━━━━━━━━━━━━━━━━━━━━━━━━╇━━━━━━━┩\n│<span style=\"color: #0087ff; text-decoration-color: #0087ff\">            Cells             </span>│<span style=\"color: #af00d7; text-decoration-color: #af00d7\"> 37018 </span>│\n│<span style=\"color: #0087ff; text-decoration-color: #0087ff\">             Vars             </span>│<span style=\"color: #af00d7; text-decoration-color: #af00d7\"> 1000  </span>│\n│<span style=\"color: #0087ff; text-decoration-color: #0087ff\">            Labels            </span>│<span style=\"color: #af00d7; text-decoration-color: #af00d7\">   1   </span>│\n│<span style=\"color: #0087ff; text-decoration-color: #0087ff\">           Batches            </span>│<span style=\"color: #af00d7; text-decoration-color: #af00d7\">   8   </span>│\n│<span style=\"color: #0087ff; text-decoration-color: #0087ff\">           Proteins           </span>│<span style=\"color: #af00d7; text-decoration-color: #af00d7\">  113  </span>│\n│<span style=\"color: #0087ff; text-decoration-color: #0087ff\"> Extra Categorical Covariates </span>│<span style=\"color: #af00d7; text-decoration-color: #af00d7\">   0   </span>│\n│<span style=\"color: #0087ff; text-decoration-color: #0087ff\"> Extra Continuous Covariates  </span>│<span style=\"color: #af00d7; text-decoration-color: #af00d7\">   0   </span>│\n└──────────────────────────────┴───────┘\n</pre>\n"
     },
     "metadata": {},
     "output_type": "display_data"
    },
    {
     "data": {
      "text/plain": "\u001B[3m                   SCVI Data Registry                    \u001B[0m\n┏━━━━━━━━━━━━━━━━━━━━┳━━━━━━━━━━━━━━━━━━━━━━━━━━━━━━━━━━┓\n┃\u001B[1m \u001B[0m\u001B[1m       Data       \u001B[0m\u001B[1m \u001B[0m┃\u001B[1m \u001B[0m\u001B[1m      scvi-tools Location       \u001B[0m\u001B[1m \u001B[0m┃\n┡━━━━━━━━━━━━━━━━━━━━╇━━━━━━━━━━━━━━━━━━━━━━━━━━━━━━━━━━┩\n│\u001B[38;5;33m \u001B[0m\u001B[38;5;33m        X         \u001B[0m\u001B[38;5;33m \u001B[0m│\u001B[38;5;128m \u001B[0m\u001B[38;5;128m            adata.X             \u001B[0m\u001B[38;5;128m \u001B[0m│\n│\u001B[38;5;33m \u001B[0m\u001B[38;5;33m  batch_indices   \u001B[0m\u001B[38;5;33m \u001B[0m│\u001B[38;5;128m \u001B[0m\u001B[38;5;128m    adata.obs['_scvi_batch']    \u001B[0m\u001B[38;5;128m \u001B[0m│\n│\u001B[38;5;33m \u001B[0m\u001B[38;5;33m   local_l_mean   \u001B[0m\u001B[38;5;33m \u001B[0m│\u001B[38;5;128m \u001B[0m\u001B[38;5;128madata.obs['_scvi_local_l_mean'] \u001B[0m\u001B[38;5;128m \u001B[0m│\n│\u001B[38;5;33m \u001B[0m\u001B[38;5;33m   local_l_var    \u001B[0m\u001B[38;5;33m \u001B[0m│\u001B[38;5;128m \u001B[0m\u001B[38;5;128m adata.obs['_scvi_local_l_var'] \u001B[0m\u001B[38;5;128m \u001B[0m│\n│\u001B[38;5;33m \u001B[0m\u001B[38;5;33m      labels      \u001B[0m\u001B[38;5;33m \u001B[0m│\u001B[38;5;128m \u001B[0m\u001B[38;5;128m   adata.obs['_scvi_labels']    \u001B[0m\u001B[38;5;128m \u001B[0m│\n│\u001B[38;5;33m \u001B[0m\u001B[38;5;33mprotein_expression\u001B[0m\u001B[38;5;33m \u001B[0m│\u001B[38;5;128m \u001B[0m\u001B[38;5;128madata.obsm['protein_expression']\u001B[0m\u001B[38;5;128m \u001B[0m│\n└────────────────────┴──────────────────────────────────┘\n",
      "text/html": "<pre style=\"white-space:pre;overflow-x:auto;line-height:normal;font-family:Menlo,'DejaVu Sans Mono',consolas,'Courier New',monospace\"><span style=\"font-style: italic\">                   SCVI Data Registry                    </span>\n┏━━━━━━━━━━━━━━━━━━━━┳━━━━━━━━━━━━━━━━━━━━━━━━━━━━━━━━━━┓\n┃<span style=\"font-weight: bold\">        Data        </span>┃<span style=\"font-weight: bold\">       scvi-tools Location        </span>┃\n┡━━━━━━━━━━━━━━━━━━━━╇━━━━━━━━━━━━━━━━━━━━━━━━━━━━━━━━━━┩\n│<span style=\"color: #0087ff; text-decoration-color: #0087ff\">         X          </span>│<span style=\"color: #af00d7; text-decoration-color: #af00d7\">             adata.X              </span>│\n│<span style=\"color: #0087ff; text-decoration-color: #0087ff\">   batch_indices    </span>│<span style=\"color: #af00d7; text-decoration-color: #af00d7\">     adata.obs['_scvi_batch']     </span>│\n│<span style=\"color: #0087ff; text-decoration-color: #0087ff\">    local_l_mean    </span>│<span style=\"color: #af00d7; text-decoration-color: #af00d7\"> adata.obs['_scvi_local_l_mean']  </span>│\n│<span style=\"color: #0087ff; text-decoration-color: #0087ff\">    local_l_var     </span>│<span style=\"color: #af00d7; text-decoration-color: #af00d7\">  adata.obs['_scvi_local_l_var']  </span>│\n│<span style=\"color: #0087ff; text-decoration-color: #0087ff\">       labels       </span>│<span style=\"color: #af00d7; text-decoration-color: #af00d7\">    adata.obs['_scvi_labels']     </span>│\n│<span style=\"color: #0087ff; text-decoration-color: #0087ff\"> protein_expression </span>│<span style=\"color: #af00d7; text-decoration-color: #af00d7\"> adata.obsm['protein_expression'] </span>│\n└────────────────────┴──────────────────────────────────┘\n</pre>\n"
     },
     "metadata": {},
     "output_type": "display_data"
    },
    {
     "data": {
      "text/plain": "\u001B[3m                        Label Categories                        \u001B[0m\n┏━━━━━━━━━━━━━━━━━━━━━━━━━━━┳━━━━━━━━━━━━┳━━━━━━━━━━━━━━━━━━━━━┓\n┃\u001B[1m \u001B[0m\u001B[1m     Source Location     \u001B[0m\u001B[1m \u001B[0m┃\u001B[1m \u001B[0m\u001B[1mCategories\u001B[0m\u001B[1m \u001B[0m┃\u001B[1m \u001B[0m\u001B[1mscvi-tools Encoding\u001B[0m\u001B[1m \u001B[0m┃\n┡━━━━━━━━━━━━━━━━━━━━━━━━━━━╇━━━━━━━━━━━━╇━━━━━━━━━━━━━━━━━━━━━┩\n│\u001B[38;5;33m \u001B[0m\u001B[38;5;33madata.obs['_scvi_labels']\u001B[0m\u001B[38;5;33m \u001B[0m│\u001B[32m \u001B[0m\u001B[32m    0     \u001B[0m\u001B[32m \u001B[0m│\u001B[38;5;128m \u001B[0m\u001B[38;5;128m         0         \u001B[0m\u001B[38;5;128m \u001B[0m│\n└───────────────────────────┴────────────┴─────────────────────┘\n",
      "text/html": "<pre style=\"white-space:pre;overflow-x:auto;line-height:normal;font-family:Menlo,'DejaVu Sans Mono',consolas,'Courier New',monospace\"><span style=\"font-style: italic\">                        Label Categories                        </span>\n┏━━━━━━━━━━━━━━━━━━━━━━━━━━━┳━━━━━━━━━━━━┳━━━━━━━━━━━━━━━━━━━━━┓\n┃<span style=\"font-weight: bold\">      Source Location      </span>┃<span style=\"font-weight: bold\"> Categories </span>┃<span style=\"font-weight: bold\"> scvi-tools Encoding </span>┃\n┡━━━━━━━━━━━━━━━━━━━━━━━━━━━╇━━━━━━━━━━━━╇━━━━━━━━━━━━━━━━━━━━━┩\n│<span style=\"color: #0087ff; text-decoration-color: #0087ff\"> adata.obs['_scvi_labels'] </span>│<span style=\"color: #008000; text-decoration-color: #008000\">     0      </span>│<span style=\"color: #af00d7; text-decoration-color: #af00d7\">          0          </span>│\n└───────────────────────────┴────────────┴─────────────────────┘\n</pre>\n"
     },
     "metadata": {},
     "output_type": "display_data"
    },
    {
     "data": {
      "text/plain": "\u001B[3m                     Batch Categories                      \u001B[0m\n┏━━━━━━━━━━━━━━━━━━━━━━┳━━━━━━━━━━━━┳━━━━━━━━━━━━━━━━━━━━━┓\n┃\u001B[1m \u001B[0m\u001B[1m  Source Location   \u001B[0m\u001B[1m \u001B[0m┃\u001B[1m \u001B[0m\u001B[1mCategories\u001B[0m\u001B[1m \u001B[0m┃\u001B[1m \u001B[0m\u001B[1mscvi-tools Encoding\u001B[0m\u001B[1m \u001B[0m┃\n┡━━━━━━━━━━━━━━━━━━━━━━╇━━━━━━━━━━━━╇━━━━━━━━━━━━━━━━━━━━━┩\n│\u001B[38;5;33m \u001B[0m\u001B[38;5;33madata.obs['patient']\u001B[0m\u001B[38;5;33m \u001B[0m│\u001B[32m \u001B[0m\u001B[32m RPM211A  \u001B[0m\u001B[32m \u001B[0m│\u001B[38;5;128m \u001B[0m\u001B[38;5;128m         0         \u001B[0m\u001B[38;5;128m \u001B[0m│\n│\u001B[38;5;33m \u001B[0m\u001B[38;5;33m                    \u001B[0m\u001B[38;5;33m \u001B[0m│\u001B[32m \u001B[0m\u001B[32m RPM211B  \u001B[0m\u001B[32m \u001B[0m│\u001B[38;5;128m \u001B[0m\u001B[38;5;128m         1         \u001B[0m\u001B[38;5;128m \u001B[0m│\n│\u001B[38;5;33m \u001B[0m\u001B[38;5;33m                    \u001B[0m\u001B[38;5;33m \u001B[0m│\u001B[32m \u001B[0m\u001B[32m RPM215A  \u001B[0m\u001B[32m \u001B[0m│\u001B[38;5;128m \u001B[0m\u001B[38;5;128m         2         \u001B[0m\u001B[38;5;128m \u001B[0m│\n│\u001B[38;5;33m \u001B[0m\u001B[38;5;33m                    \u001B[0m\u001B[38;5;33m \u001B[0m│\u001B[32m \u001B[0m\u001B[32m RPM215B  \u001B[0m\u001B[32m \u001B[0m│\u001B[38;5;128m \u001B[0m\u001B[38;5;128m         3         \u001B[0m\u001B[38;5;128m \u001B[0m│\n│\u001B[38;5;33m \u001B[0m\u001B[38;5;33m                    \u001B[0m\u001B[38;5;33m \u001B[0m│\u001B[32m \u001B[0m\u001B[32m RPM218A  \u001B[0m\u001B[32m \u001B[0m│\u001B[38;5;128m \u001B[0m\u001B[38;5;128m         4         \u001B[0m\u001B[38;5;128m \u001B[0m│\n│\u001B[38;5;33m \u001B[0m\u001B[38;5;33m                    \u001B[0m\u001B[38;5;33m \u001B[0m│\u001B[32m \u001B[0m\u001B[32m RPM218B  \u001B[0m\u001B[32m \u001B[0m│\u001B[38;5;128m \u001B[0m\u001B[38;5;128m         5         \u001B[0m\u001B[38;5;128m \u001B[0m│\n│\u001B[38;5;33m \u001B[0m\u001B[38;5;33m                    \u001B[0m\u001B[38;5;33m \u001B[0m│\u001B[32m \u001B[0m\u001B[32m RPM232A  \u001B[0m\u001B[32m \u001B[0m│\u001B[38;5;128m \u001B[0m\u001B[38;5;128m         6         \u001B[0m\u001B[38;5;128m \u001B[0m│\n│\u001B[38;5;33m \u001B[0m\u001B[38;5;33m                    \u001B[0m\u001B[38;5;33m \u001B[0m│\u001B[32m \u001B[0m\u001B[32m RPM232B  \u001B[0m\u001B[32m \u001B[0m│\u001B[38;5;128m \u001B[0m\u001B[38;5;128m         7         \u001B[0m\u001B[38;5;128m \u001B[0m│\n└──────────────────────┴────────────┴─────────────────────┘\n",
      "text/html": "<pre style=\"white-space:pre;overflow-x:auto;line-height:normal;font-family:Menlo,'DejaVu Sans Mono',consolas,'Courier New',monospace\"><span style=\"font-style: italic\">                     Batch Categories                      </span>\n┏━━━━━━━━━━━━━━━━━━━━━━┳━━━━━━━━━━━━┳━━━━━━━━━━━━━━━━━━━━━┓\n┃<span style=\"font-weight: bold\">   Source Location    </span>┃<span style=\"font-weight: bold\"> Categories </span>┃<span style=\"font-weight: bold\"> scvi-tools Encoding </span>┃\n┡━━━━━━━━━━━━━━━━━━━━━━╇━━━━━━━━━━━━╇━━━━━━━━━━━━━━━━━━━━━┩\n│<span style=\"color: #0087ff; text-decoration-color: #0087ff\"> adata.obs['patient'] </span>│<span style=\"color: #008000; text-decoration-color: #008000\">  RPM211A   </span>│<span style=\"color: #af00d7; text-decoration-color: #af00d7\">          0          </span>│\n│<span style=\"color: #0087ff; text-decoration-color: #0087ff\">                      </span>│<span style=\"color: #008000; text-decoration-color: #008000\">  RPM211B   </span>│<span style=\"color: #af00d7; text-decoration-color: #af00d7\">          1          </span>│\n│<span style=\"color: #0087ff; text-decoration-color: #0087ff\">                      </span>│<span style=\"color: #008000; text-decoration-color: #008000\">  RPM215A   </span>│<span style=\"color: #af00d7; text-decoration-color: #af00d7\">          2          </span>│\n│<span style=\"color: #0087ff; text-decoration-color: #0087ff\">                      </span>│<span style=\"color: #008000; text-decoration-color: #008000\">  RPM215B   </span>│<span style=\"color: #af00d7; text-decoration-color: #af00d7\">          3          </span>│\n│<span style=\"color: #0087ff; text-decoration-color: #0087ff\">                      </span>│<span style=\"color: #008000; text-decoration-color: #008000\">  RPM218A   </span>│<span style=\"color: #af00d7; text-decoration-color: #af00d7\">          4          </span>│\n│<span style=\"color: #0087ff; text-decoration-color: #0087ff\">                      </span>│<span style=\"color: #008000; text-decoration-color: #008000\">  RPM218B   </span>│<span style=\"color: #af00d7; text-decoration-color: #af00d7\">          5          </span>│\n│<span style=\"color: #0087ff; text-decoration-color: #0087ff\">                      </span>│<span style=\"color: #008000; text-decoration-color: #008000\">  RPM232A   </span>│<span style=\"color: #af00d7; text-decoration-color: #af00d7\">          6          </span>│\n│<span style=\"color: #0087ff; text-decoration-color: #0087ff\">                      </span>│<span style=\"color: #008000; text-decoration-color: #008000\">  RPM232B   </span>│<span style=\"color: #af00d7; text-decoration-color: #af00d7\">          7          </span>│\n└──────────────────────┴────────────┴─────────────────────┘\n</pre>\n"
     },
     "metadata": {},
     "output_type": "display_data"
    }
   ],
   "source": [
    "scvi.data.view_anndata_setup(adata_final)"
   ]
  },
  {
   "cell_type": "code",
   "execution_count": 21,
   "metadata": {
    "ExecuteTime": {
     "start_time": "2024-03-25T22:41:03.140905Z",
     "end_time": "2024-03-25T22:41:06.547778Z"
    }
   },
   "outputs": [],
   "source": [
    "totalvae = scvi.model.TOTALVI(\n",
    "    adata_final,\n",
    "    latent_distribution = \"normal\",\n",
    "    n_layers_decoder = 2)"
   ]
  },
  {
   "cell_type": "code",
   "execution_count": 23,
   "metadata": {
    "ExecuteTime": {
     "start_time": "2024-03-25T22:43:08.691743Z",
     "end_time": "2024-03-25T23:38:47.808007Z"
    }
   },
   "outputs": [
    {
     "name": "stderr",
     "output_type": "stream",
     "text": [
      "GPU available: True, used: True\n",
      "TPU available: False, using: 0 TPU cores\n",
      "IPU available: False, using: 0 IPUs\n",
      "LOCAL_RANK: 0 - CUDA_VISIBLE_DEVICES: [0]\n"
     ]
    },
    {
     "name": "stdout",
     "output_type": "stream",
     "text": [
      "Epoch 1/400:  -0%|          | -1/400 [00:00<?, ?it/s]"
     ]
    },
    {
     "name": "stderr",
     "output_type": "stream",
     "text": [
      "/home/yychen/.conda/envs/scipenn_env/lib/python3.7/site-packages/tqdm/std.py:538: TqdmWarning: clamping frac to range [0, 1]\n",
      "  colour=colour)\n",
      "/home/yychen/.conda/envs/scipenn_env/lib/python3.7/site-packages/pytorch_lightning/trainer/connectors/logger_connector/result.py:406: LightningDeprecationWarning: One of the returned values {'kl_global', 'reconstruction_loss_sum', 'n_obs', 'kl_local_sum'} has a `grad_fn`. We will detach it automatically but this behaviour will change in v1.6. Please detach it manually: `return {'loss': ..., 'something': something.detach()}`\n",
      "  f\"One of the returned values {set(extra.keys())} has a `grad_fn`. We will detach it automatically\"\n"
     ]
    },
    {
     "name": "stdout",
     "output_type": "stream",
     "text": [
      "Epoch 2/400:   0%|          | 0/400 [00:10<1:08:25, 10.26s/it, loss=264, v_num=1]"
     ]
    },
    {
     "name": "stderr",
     "output_type": "stream",
     "text": [
      "/home/yychen/.conda/envs/scipenn_env/lib/python3.7/site-packages/pytorch_lightning/trainer/callback_hook.py:103: LightningDeprecationWarning: The signature of `Callback.on_train_epoch_end` has changed in v1.3. `outputs` parameter has been removed. Support for the old signature will be removed in v1.5\n",
      "  \"The signature of `Callback.on_train_epoch_end` has changed in v1.3.\"\n"
     ]
    },
    {
     "name": "stdout",
     "output_type": "stream",
     "text": [
      "Epoch 224/400:  56%|█████▌    | 223/400 [37:03<28:02,  9.50s/it, loss=271, v_num=1]Epoch 00224: reducing learning rate of group 0 to 2.4000e-03.\n",
      "Epoch 326/400:  81%|████████▏ | 325/400 [53:24<11:56,  9.56s/it, loss=271, v_num=1]Epoch 00326: reducing learning rate of group 0 to 1.4400e-03.\n",
      "Epoch 340/400:  85%|████████▍ | 339/400 [55:38<09:58,  9.82s/it, loss=272, v_num=1]\n"
     ]
    },
    {
     "data": {
      "text/plain": "<Figure size 400x400 with 1 Axes>",
      "image/png": "[encoded data removed]"
     },
     "metadata": {
      "image/png": {
       "width": 398,
       "height": 376
      },
      "needs_background": "light"
     },
     "output_type": "display_data"
    }
   ],
   "source": [
    "n_epochs = 400\n",
    "lr = 4e-3\n",
    "\n",
    "if os.path.isdir('weights_dir/totalvi_monocyte_to_monocyte'):\n",
    "    totalvae = totalvae.load(\"weights_dir/totalvi_monocyte_to_monocyte\", adata = adata_final)\n",
    "else:\n",
    "    totalvae.train(max_epochs=400)\n",
    "    plt.plot(totalvae.history[\"elbo_validation\"], label=\"test\")\n",
    "    plt.title(\"Negative ELBO over training epochs\")\n",
    "    plt.legend()\n",
    "    \n",
    "    totalvae.save(\"weights_dir/totalvi_monocyte_to_monocyte\")"
   ]
  },
  {
   "cell_type": "markdown",
   "metadata": {},
   "source": [
    "# Analyze output - Results on training data"
   ]
  },
  {
   "cell_type": "code",
   "execution_count": 24,
   "metadata": {
    "ExecuteTime": {
     "start_time": "2024-03-25T23:50:43.919608Z",
     "end_time": "2024-03-25T23:50:57.365246Z"
    }
   },
   "outputs": [],
   "source": [
    "_, protein_means = totalvae.get_normalized_expression(\n",
    "    transform_batch=train_patients,\n",
    "    include_protein_background=True,\n",
    "    sample_protein_mixing=False,\n",
    "    return_mean=True,\n",
    ")"
   ]
  },
  {
   "cell_type": "markdown",
   "metadata": {},
   "source": [
    "#### Note that: transform_batch is a power parameter. Setting this allows one to predict the expression of cells as if they came from the inputted batch. In this case, we’ve observed protein expression in the training batchs “RPM211 and RPM232” (batch categories from original adata object), but we have no protein expression in the test batchs “RPM215 and RPM218”. We’d like to take the cells of the trainig batch and make a counterfactual prediction: “What would the expression look like if my batch \"RPM211 and RPM232\" cells came from batch “RPM215 and RPM218”?”"
   ]
  },
  {
   "cell_type": "code",
   "execution_count": 25,
   "metadata": {
    "ExecuteTime": {
     "start_time": "2024-03-26T00:02:59.640544Z",
     "end_time": "2024-03-26T00:03:01.650924Z"
    }
   },
   "outputs": [],
   "source": [
    "X_totalVI = pd.DataFrame(totalvae.get_latent_representation(), index = adata_final.obs.index)\n",
    "X_totalVI.to_csv(\"totalvi_monocyteembedding.csv\")"
   ]
  },
  {
   "cell_type": "markdown",
   "metadata": {},
   "source": [
    "# Imputed protein expression: "
   ]
  },
  {
   "cell_type": "code",
   "execution_count": 26,
   "metadata": {
    "ExecuteTime": {
     "start_time": "2024-03-26T00:03:04.005325Z",
     "end_time": "2024-03-26T00:03:04.068250Z"
    }
   },
   "outputs": [],
   "source": [
    "true_protein_test = pd.DataFrame(held_out_proteins.X, index = held_out_proteins.obs.index, columns = held_out_proteins.var.index)"
   ]
  },
  {
   "cell_type": "code",
   "execution_count": 27,
   "metadata": {
    "ExecuteTime": {
     "start_time": "2024-03-26T00:03:05.972460Z",
     "end_time": "2024-03-26T00:03:06.050565Z"
    }
   },
   "outputs": [],
   "source": [
    "imputed_proteins_test = protein_means[adata_final.obs.patient.isin(test_patients)]\n",
    "\n",
    "pat_names = adata_final.obs['patient'].isin(test_patients)\n",
    "patients = adata_final.obs.patient[pat_names].values\n",
    "# imputed_proteins_test = imputed_pros[overlap_protein] # Subset totalvi output to only include overlapping proteins"
   ]
  },
  {
   "cell_type": "code",
   "execution_count": 28,
   "metadata": {
    "ExecuteTime": {
     "start_time": "2024-03-26T00:03:08.064770Z",
     "end_time": "2024-03-26T00:03:08.127333Z"
    }
   },
   "outputs": [],
   "source": [
    "def corr2_coeff(A, B, pearson = True):\n",
    "    if pearson:\n",
    "        # Rowwise mean of input arrays & subtract from input arrays themeselves\n",
    "        A_mA = A - A.mean(1)[:, None]\n",
    "        B_mB = B - B.mean(1)[:, None]\n",
    "\n",
    "        # Sum of squares across rows\n",
    "        ssA = (A_mA**2).sum(1)\n",
    "        ssB = (B_mB**2).sum(1)\n",
    "\n",
    "        # Finally get corr coeff\n",
    "        corr_mat = np.dot(A_mA, B_mB.T) / np.sqrt(np.dot(ssA[:, None],ssB[None]))\n",
    "        \n",
    "        return corr_mat[range(corr_mat.shape[0]), range(corr_mat.shape[0])]\n",
    "    \n",
    "    else:\n",
    "        corrs = [0.] * A.shape[0]\n",
    "        \n",
    "        for i in range(A.shape[0]):\n",
    "            corrs[i] = spearmanr(A[i], B[i])[0]\n",
    "            \n",
    "        return corrs"
   ]
  },
  {
   "cell_type": "code",
   "execution_count": 29,
   "metadata": {
    "ExecuteTime": {
     "start_time": "2024-03-26T00:03:09.872348Z",
     "end_time": "2024-03-26T00:03:09.966700Z"
    }
   },
   "outputs": [],
   "source": [
    "cells, proteins = imputed_proteins_test.index, imputed_proteins_test.columns"
   ]
  },
  {
   "cell_type": "code",
   "execution_count": 30,
   "metadata": {
    "ExecuteTime": {
     "start_time": "2024-03-26T00:03:13.570931Z",
     "end_time": "2024-03-26T00:03:14.006099Z"
    }
   },
   "outputs": [
    {
     "name": "stderr",
     "output_type": "stream",
     "text": [
      "/home/yychen/.conda/envs/scipenn_env/lib/python3.7/site-packages/scanpy/preprocessing/_simple.py:843: UserWarning: Revieved a view of an AnnData. Making a copy.\n",
      "  view_to_actual(adata)\n"
     ]
    }
   ],
   "source": [
    "# Normalize totalvi output, and gold standard counts\n",
    "\n",
    "true_protein_test = AnnData(true_protein_test)\n",
    "imputed_proteins_test = AnnData(imputed_proteins_test)\n",
    "\n",
    "sc.pp.normalize_total(true_protein_test)\n",
    "sc.pp.log1p(true_protein_test)\n",
    "\n",
    "sc.pp.normalize_total(imputed_proteins_test)\n",
    "sc.pp.log1p(imputed_proteins_test)\n",
    "\n",
    "for patient in test_patients:\n",
    "    indices = [x == patient for x in patients]\n",
    "    sub_adata = imputed_proteins_test[indices]\n",
    "    sc.pp.scale(sub_adata)\n",
    "    imputed_proteins_test[indices] = sub_adata.X\n",
    "    \n",
    "    sub_adata = true_protein_test[indices]\n",
    "    sc.pp.scale(sub_adata)\n",
    "    true_protein_test[indices] = sub_adata.X\n",
    "\n",
    "true_protein_test = pd.DataFrame(true_protein_test.X, index = cells, columns = proteins)\n",
    "imputed_proteins_test = pd.DataFrame(imputed_proteins_test[:, overlap_protein].X, index = cells, columns = proteins)"
   ]
  },
  {
   "cell_type": "code",
   "execution_count": 31,
   "metadata": {
    "ExecuteTime": {
     "start_time": "2024-03-26T00:03:16.562419Z",
     "end_time": "2024-03-26T00:03:16.637840Z"
    }
   },
   "outputs": [],
   "source": [
    "sq = lambda x, y: (x - y)**2"
   ]
  },
  {
   "cell_type": "code",
   "execution_count": 32,
   "metadata": {
    "ExecuteTime": {
     "start_time": "2024-03-26T00:03:18.856468Z",
     "end_time": "2024-03-26T00:03:19.077010Z"
    }
   },
   "outputs": [],
   "source": [
    "corrs_table = np.zeros((imputed_proteins_test.shape[1], len(np.unique(patients))))\n",
    "sq_table = corrs_table.copy()\n",
    "\n",
    "for i, patient in enumerate(np.unique(patients)):\n",
    "    truth = true_protein_test[patients == patient].to_numpy()\n",
    "    imputed = imputed_proteins_test[patients == patient].to_numpy()\n",
    "\n",
    "    corrs_table[:, i] = corr2_coeff(truth.T, imputed.T)\n",
    "    sq_table[:, i] = sq(truth, imputed).mean(axis = 0)\n",
    "    \n",
    "if np.isnan(corrs_table).sum() > 0:\n",
    "    corrs_table[np.isnan(corrs_table)] = 0\n",
    "    \n",
    "corrs_table = pd.DataFrame(corrs_table)\n",
    "sq_table = pd.DataFrame(sq_table)\n",
    "\n",
    "corrs_table.index, corrs_table.columns = imputed_proteins_test.columns, np.unique(patients)\n",
    "sq_table.index, sq_table.columns = imputed_proteins_test.columns, np.unique(patients)"
   ]
  },
  {
   "cell_type": "code",
   "execution_count": 33,
   "metadata": {
    "scrolled": true,
    "ExecuteTime": {
     "start_time": "2024-03-26T00:03:21.556809Z",
     "end_time": "2024-03-26T00:03:21.648550Z"
    }
   },
   "outputs": [
    {
     "data": {
      "text/plain": "RPM215A    0.335635\nRPM215B    0.504905\nRPM218A    0.355093\nRPM218B    0.465350\ndtype: float64"
     },
     "execution_count": 33,
     "metadata": {},
     "output_type": "execute_result"
    }
   ],
   "source": [
    "#here are correlations\n",
    "\n",
    "corrs_table.mean()"
   ]
  },
  {
   "cell_type": "code",
   "execution_count": 34,
   "metadata": {
    "scrolled": true,
    "ExecuteTime": {
     "start_time": "2024-03-26T00:03:24.900891Z",
     "end_time": "2024-03-26T00:03:24.973540Z"
    }
   },
   "outputs": [
    {
     "data": {
      "text/plain": "0.41524564016989507"
     },
     "execution_count": 34,
     "metadata": {},
     "output_type": "execute_result"
    }
   ],
   "source": [
    "#here are correlations\n",
    "\n",
    "corrs_table.mean().mean()"
   ]
  },
  {
   "cell_type": "code",
   "execution_count": 35,
   "metadata": {
    "ExecuteTime": {
     "start_time": "2024-03-26T00:03:29.475322Z",
     "end_time": "2024-03-26T00:03:29.544930Z"
    }
   },
   "outputs": [],
   "source": [
    "corrs_table.to_csv('corrs_results/totalvi_monocyte.csv')"
   ]
  },
  {
   "cell_type": "code",
   "execution_count": 36,
   "metadata": {
    "ExecuteTime": {
     "start_time": "2024-03-26T00:03:31.712627Z",
     "end_time": "2024-03-26T00:03:31.848779Z"
    }
   },
   "outputs": [
    {
     "data": {
      "text/plain": "RPM215A    1.328436\nRPM215B    0.989997\nRPM218A    1.289484\nRPM218B    1.069031\ndtype: float64"
     },
     "execution_count": 36,
     "metadata": {},
     "output_type": "execute_result"
    }
   ],
   "source": [
    "sq_table.mean(axis = 0)"
   ]
  },
  {
   "cell_type": "code",
   "execution_count": 37,
   "metadata": {
    "ExecuteTime": {
     "start_time": "2024-03-26T00:03:34.123413Z",
     "end_time": "2024-03-26T00:03:34.206680Z"
    }
   },
   "outputs": [
    {
     "data": {
      "text/plain": "1.169236657662993"
     },
     "execution_count": 37,
     "metadata": {},
     "output_type": "execute_result"
    }
   ],
   "source": [
    "sq_table.mean().mean()"
   ]
  },
  {
   "cell_type": "code",
   "execution_count": 38,
   "metadata": {
    "ExecuteTime": {
     "start_time": "2024-03-26T00:03:37.668875Z",
     "end_time": "2024-03-26T00:03:37.741634Z"
    }
   },
   "outputs": [],
   "source": [
    "sq_table.to_csv('mse_results/totalvi_monocyte.csv')"
   ]
  },
  {
   "cell_type": "code",
   "execution_count": 39,
   "metadata": {
    "ExecuteTime": {
     "start_time": "2024-03-26T00:03:39.101866Z",
     "end_time": "2024-03-26T00:03:41.588061Z"
    }
   },
   "outputs": [],
   "source": [
    "imputed_proteins_test.to_csv('totalvi_monocytefeatures.csv')"
   ]
  },
  {
   "cell_type": "code",
   "execution_count": 40,
   "metadata": {
    "ExecuteTime": {
     "start_time": "2024-03-26T00:03:42.685486Z",
     "end_time": "2024-03-26T00:03:42.769061Z"
    }
   },
   "outputs": [],
   "source": [
    "# Create empty vectors to store percentiles\n",
    "\n",
    "q10 = np.empty(shape = true_protein_test.shape)\n",
    "q90 = np.empty(shape = true_protein_test.shape)\n",
    "q25 = np.empty(shape = true_protein_test.shape)\n",
    "q75 = np.empty(shape = true_protein_test.shape)\n",
    "\n",
    "\n",
    "pat_names = adata_final.obs['patient'].isin(test_patients)\n",
    "patients = adata_final.obs.patient[pat_names].values"
   ]
  },
  {
   "cell_type": "code",
   "execution_count": 41,
   "metadata": {
    "ExecuteTime": {
     "start_time": "2024-03-26T00:03:44.916270Z",
     "end_time": "2024-03-26T00:03:44.975071Z"
    }
   },
   "outputs": [],
   "source": [
    "class generator:\n",
    "    def __init__(self, test_idx, batch_size, seed = 123):\n",
    "        self.test_idx = test_idx\n",
    "        self.batch_size = batch_size\n",
    "        self.seed = seed\n",
    "        \n",
    "    def __iter__(self):\n",
    "        np.random.seed(self.seed)\n",
    "        idx = np.random.choice(range(len(self.test_idx)), len(self.test_idx), False)\n",
    "        \n",
    "        batch, test_batch = [], []\n",
    "        \n",
    "        for index in idx:\n",
    "            batch.append(index)\n",
    "            test_batch.append(self.test_idx[index])\n",
    "            \n",
    "            if len(batch) == self.batch_size:\n",
    "                yield batch, test_batch\n",
    "                batch, test_batch = [], []\n",
    "                \n",
    "        if batch:\n",
    "            yield batch, test_batch\n",
    "    \n",
    "    def get(self):\n",
    "        return self"
   ]
  },
  {
   "cell_type": "code",
   "execution_count": 42,
   "metadata": {
    "ExecuteTime": {
     "start_time": "2024-03-26T00:03:47.663409Z",
     "end_time": "2024-03-26T00:03:47.735558Z"
    }
   },
   "outputs": [],
   "source": [
    "base_path = 'totalVI_quantiles_monocyte'\n",
    "\n",
    "if not os.path.isdir(base_path):\n",
    "    os.mkdir(base_path)"
   ]
  },
  {
   "cell_type": "code",
   "execution_count": 43,
   "metadata": {
    "scrolled": true,
    "ExecuteTime": {
     "start_time": "2024-03-26T00:09:35.017227Z",
     "end_time": "2024-03-26T00:27:15.921561Z"
    }
   },
   "outputs": [
    {
     "name": "stdout",
     "output_type": "stream",
     "text": [
      "Run time for loop: --- 299.84493136405945 seconds ---\n",
      "Run time for loop: --- 301.9956533908844 seconds ---\n",
      "Run time for loop: --- 300.3656852245331 seconds ---\n",
      "Run time for loop: --- 147.56454992294312 seconds ---\n"
     ]
    }
   ],
   "source": [
    "if all([os.path.isfile(os.path.join(base_path, path)) for path in ('q10.csv', 'q25.csv', 'q75.csv', 'q90.csv')]):\n",
    "    q10 = pd.read_csv(os.path.join(base_path, 'q10.csv'), index_col = 0)\n",
    "    q25 = pd.read_csv(os.path.join(base_path, 'q25.csv'), index_col = 0)\n",
    "    q75 = pd.read_csv(os.path.join(base_path, 'q75.csv'), index_col = 0)\n",
    "    q90 = pd.read_csv(os.path.join(base_path, 'q90.csv'), index_col = 0)\n",
    "    \n",
    "else:    \n",
    "    for idx, test_idx in generator(list(range(n, n + n_test)), 5000).get(): \n",
    "        start_time = time.time()\n",
    "\n",
    "        ######################################################\n",
    "        # (1) sequentially sample 5000 from the test index #\n",
    "        #####################################################\n",
    "\n",
    "        _, protein_means_samples = totalvae.get_normalized_expression(\n",
    "            transform_batch=train_patients,\n",
    "            n_samples=1000,\n",
    "            include_protein_background=True,\n",
    "            sample_protein_mixing=False,\n",
    "            return_mean = False,\n",
    "            indices = test_idx,\n",
    "        )\n",
    "\n",
    "        # Subset to overlapping proteins for evaluations\n",
    "\n",
    "        # index of overlaping_proteins\n",
    "        name_map = {protein: i for i, protein in enumerate(imputed_proteins_test.columns)}\n",
    "        index_overlap = [name_map[protein] for protein in overlap_protein]\n",
    "        # (2) normalize and scale samples #\n",
    "        ###################################\n",
    "\n",
    "        # normalize totalvi sample output\n",
    "        sf = protein_means_samples.sum(axis = 1)\n",
    "        sf = np.median(sf, axis = 0)[None, :]/sf\n",
    "\n",
    "        protein_means_samples_norm = protein_means_samples * sf[:, None, :]\n",
    "        protein_means_samples_norm = np.log(protein_means_samples_norm + 1)\n",
    "        protein_means_samples_norm = protein_means_samples_norm[:, index_overlap]\n",
    "        \n",
    "        patient_indices = patients[idx]\n",
    "        for patient in test_patients:\n",
    "            indices = [x == patient for x in patient_indices]\n",
    "            sub_data = protein_means_samples_norm[indices]\n",
    "            mean, sd = sub_data.mean(axis = 0), sub_data.std(axis = 0)\n",
    "            sub_data = (sub_data - mean)/sd\n",
    "            protein_means_samples_norm[indices] = sub_data\n",
    "\n",
    "        #########################################################\n",
    "        # (3) calculate percentiles 0.10, 0.90, 0.25, and 0.75 #\n",
    "        ########################################################\n",
    "\n",
    "        q10[idx] = np.percentile(protein_means_samples_norm, 10, axis = 2)\n",
    "        q90[idx] = np.percentile(protein_means_samples_norm, 90, axis = 2)\n",
    "        q25[idx] = np.percentile(protein_means_samples_norm, 25, axis = 2)\n",
    "        q75[idx] = np.percentile(protein_means_samples_norm, 75, axis = 2)\n",
    "\n",
    "\n",
    "        ##################################\n",
    "        # (4) remove samples from memory #\n",
    "        ###################################\n",
    "\n",
    "        del protein_means_samples\n",
    "        del protein_means_samples_norm\n",
    "\n",
    "        end_time = time.time()\n",
    "\n",
    "        print(\"Run time for loop: --- %s seconds ---\" % (end_time - start_time)) #\n",
    "\n",
    "    cols = imputed_proteins_test[overlap_protein].columns\n",
    "    names = imputed_proteins_test[overlap_protein].index\n",
    "    q10 = pd.DataFrame(q10, columns=cols, index = adata_final.obs.index[n:])\n",
    "    q90 = pd.DataFrame(q90, columns=cols, index = adata_final.obs.index[n:])\n",
    "    q25 = pd.DataFrame(q25, columns=cols, index = adata_final.obs.index[n:])\n",
    "    q75 = pd.DataFrame(q75, columns=cols, index = adata_final.obs.index[n:])\n",
    "\n",
    "    q10.to_csv(os.path.join(base_path, 'q10.csv'))\n",
    "    q25.to_csv(os.path.join(base_path, 'q25.csv'))\n",
    "    q75.to_csv(os.path.join(base_path, 'q75.csv'))\n",
    "    q90.to_csv(os.path.join(base_path, 'q90.csv'))"
   ]
  },
  {
   "cell_type": "code",
   "execution_count": 44,
   "metadata": {
    "ExecuteTime": {
     "start_time": "2024-03-26T00:36:45.931433Z",
     "end_time": "2024-03-26T00:36:48.149103Z"
    }
   },
   "outputs": [],
   "source": [
    "true_protein_test.to_csv(os.path.join(base_path, \"truth.csv\"))"
   ]
  },
  {
   "cell_type": "code",
   "execution_count": 45,
   "metadata": {
    "ExecuteTime": {
     "start_time": "2024-03-26T00:37:00.227674Z",
     "end_time": "2024-03-26T00:37:00.347803Z"
    }
   },
   "outputs": [
    {
     "name": "stdout",
     "output_type": "stream",
     "text": [
      "Effective Coverage Probability for Nominal 50% PIs: CD44                   0.126891\n",
      "CD11a                  0.089674\n",
      "CD48                   0.127233\n",
      "Beta2-microglobulin    0.156972\n",
      "CD162                  0.090302\n",
      "                         ...   \n",
      "CD303                  0.092357\n",
      "CD110                  0.122496\n",
      "CCR10                  0.042126\n",
      "CD271                  0.079057\n",
      "CD74                   0.115532\n",
      "Length: 113, dtype: float64\n",
      "Mean effective Coverage Probability for Nominal 50% PI: 0.11395668015560351\n"
     ]
    },
    {
     "name": "stderr",
     "output_type": "stream",
     "text": [
      "/home/yychen/.conda/envs/scipenn_env/lib/python3.7/site-packages/pandas/core/computation/expressions.py:204: UserWarning: evaluating in Python space because the '*' operator is not supported by numexpr for the bool dtype, use '&' instead\n",
      "  f\"evaluating in Python space because the {repr(op_str)} \"\n"
     ]
    }
   ],
   "source": [
    "r50 = (true_protein_test < q75)\n",
    "l50 = (true_protein_test > q25)\n",
    "\n",
    "print(f\"Effective Coverage Probability for Nominal 50% PIs: {(r50*l50).mean()}\")\n",
    "print(f\"Mean effective Coverage Probability for Nominal 50% PI: {(r50*l50).mean().mean()}\")"
   ]
  },
  {
   "cell_type": "code",
   "execution_count": 46,
   "metadata": {
    "ExecuteTime": {
     "start_time": "2024-03-26T00:37:06.572714Z",
     "end_time": "2024-03-26T00:37:06.682197Z"
    }
   },
   "outputs": [
    {
     "name": "stdout",
     "output_type": "stream",
     "text": [
      "Mean 50% interval lengths: CD44                   0.382297\n",
      "CD11a                  0.251717\n",
      "CD48                   0.365908\n",
      "Beta2-microglobulin    0.498369\n",
      "CD162                  0.182654\n",
      "                         ...   \n",
      "CD303                  0.235346\n",
      "CD110                  0.448270\n",
      "CCR10                  0.075722\n",
      "CD271                  0.161213\n",
      "CD74                   0.229986\n",
      "Length: 113, dtype: float64\n",
      "Overall mean 50% interval length: 0.2941462627704532\n"
     ]
    }
   ],
   "source": [
    "lengths = np.subtract(q75,q25)\n",
    "print(f\"Mean 50% interval lengths: {lengths.mean()}\")\n",
    "print(f\"Overall mean 50% interval length: {lengths.mean().mean()}\")"
   ]
  },
  {
   "cell_type": "code",
   "execution_count": 47,
   "metadata": {
    "ExecuteTime": {
     "start_time": "2024-03-26T00:37:11.151146Z",
     "end_time": "2024-03-26T00:37:11.259310Z"
    }
   },
   "outputs": [
    {
     "name": "stdout",
     "output_type": "stream",
     "text": [
      "Effective Coverage Probability for Nominal 80% PIs: CD44                   0.241738\n",
      "CD11a                  0.165592\n",
      "CD48                   0.234945\n",
      "Beta2-microglobulin    0.293967\n",
      "CD162                  0.170558\n",
      "                         ...   \n",
      "CD303                  0.171756\n",
      "CD110                  0.236829\n",
      "CCR10                  0.080484\n",
      "CD271                  0.152863\n",
      "CD74                   0.218905\n",
      "Length: 113, dtype: float64\n",
      "Mean effective Coverage Probability for Nominal 80% PI: 0.21530000045462652\n"
     ]
    },
    {
     "name": "stderr",
     "output_type": "stream",
     "text": [
      "/home/yychen/.conda/envs/scipenn_env/lib/python3.7/site-packages/pandas/core/computation/expressions.py:204: UserWarning: evaluating in Python space because the '*' operator is not supported by numexpr for the bool dtype, use '&' instead\n",
      "  f\"evaluating in Python space because the {repr(op_str)} \"\n"
     ]
    }
   ],
   "source": [
    "r80 = (true_protein_test < q90)\n",
    "l80 = (true_protein_test > q10)\n",
    "\n",
    "print(f\"Effective Coverage Probability for Nominal 80% PIs: {(r80*l80).mean()}\")\n",
    "print(f\"Mean effective Coverage Probability for Nominal 80% PI: {(r80*l80).mean().mean()}\")"
   ]
  },
  {
   "cell_type": "code",
   "execution_count": 48,
   "metadata": {
    "ExecuteTime": {
     "start_time": "2024-03-26T00:37:14.987180Z",
     "end_time": "2024-03-26T00:37:15.082602Z"
    }
   },
   "outputs": [
    {
     "name": "stdout",
     "output_type": "stream",
     "text": [
      "Mean 80% interval lengths: CD44                   0.726809\n",
      "CD11a                  0.479269\n",
      "CD48                   0.695636\n",
      "Beta2-microglobulin    0.947360\n",
      "CD162                  0.347606\n",
      "                         ...   \n",
      "CD303                  0.449352\n",
      "CD110                  0.851716\n",
      "CCR10                  0.145231\n",
      "CD271                  0.306985\n",
      "CD74                   0.436726\n",
      "Length: 113, dtype: float64\n",
      "Overall mean 80% interval length: 0.5595668160507261\n"
     ]
    }
   ],
   "source": [
    "lengths = np.subtract(q90,q10)\n",
    "print(f\"Mean 80% interval lengths: {lengths.mean()}\")\n",
    "print(f\"Overall mean 80% interval length: {lengths.mean().mean()}\")"
   ]
  },
  {
   "cell_type": "markdown",
   "metadata": {},
   "source": [
    "## Double checking intervals using the protein mean estimates from totalVI"
   ]
  },
  {
   "cell_type": "code",
   "execution_count": 49,
   "metadata": {
    "ExecuteTime": {
     "start_time": "2024-03-26T00:37:17.554085Z",
     "end_time": "2024-03-26T00:37:17.669541Z"
    }
   },
   "outputs": [
    {
     "name": "stdout",
     "output_type": "stream",
     "text": [
      "CD44                   0.494206\n",
      "CD11a                  0.492151\n",
      "CD48                   0.491181\n",
      "Beta2-microglobulin    0.503453\n",
      "CD162                  0.488213\n",
      "                         ...   \n",
      "CD303                  0.486900\n",
      "CD110                  0.496946\n",
      "CCR10                  0.443918\n",
      "CD271                  0.487927\n",
      "CD74                   0.485872\n",
      "Length: 113, dtype: float64\n",
      "Effective Coverage Probability for Nominal 50% PI: 0.48879219375979654\n"
     ]
    },
    {
     "name": "stderr",
     "output_type": "stream",
     "text": [
      "/home/yychen/.conda/envs/scipenn_env/lib/python3.7/site-packages/pandas/core/computation/expressions.py:204: UserWarning: evaluating in Python space because the '*' operator is not supported by numexpr for the bool dtype, use '&' instead\n",
      "  f\"evaluating in Python space because the {repr(op_str)} \"\n"
     ]
    }
   ],
   "source": [
    "imputed_proteins_test.columns = overlap_protein\n",
    "r50 = (imputed_proteins_test < q75)\n",
    "l50 = (imputed_proteins_test > q25)\n",
    "\n",
    "print((r50*l50).mean())\n",
    "print(f\"Effective Coverage Probability for Nominal 50% PI: {(r50*l50).mean().mean()}\")"
   ]
  },
  {
   "cell_type": "code",
   "execution_count": 50,
   "metadata": {
    "ExecuteTime": {
     "start_time": "2024-03-26T00:37:21.217547Z",
     "end_time": "2024-03-26T00:37:21.320646Z"
    }
   },
   "outputs": [
    {
     "name": "stdout",
     "output_type": "stream",
     "text": [
      "CD44                   0.792625\n",
      "CD11a                  0.790570\n",
      "CD48                   0.788401\n",
      "Beta2-microglobulin    0.804840\n",
      "CD162                  0.788287\n",
      "                         ...   \n",
      "CD303                  0.781494\n",
      "CD110                  0.791255\n",
      "CCR10                  0.729950\n",
      "CD271                  0.787374\n",
      "CD74                   0.784348\n",
      "Length: 113, dtype: float64\n",
      "Effective Coverage Probability for Nominal 80% PI: 0.7867796632429923\n"
     ]
    },
    {
     "name": "stderr",
     "output_type": "stream",
     "text": [
      "/home/yychen/.conda/envs/scipenn_env/lib/python3.7/site-packages/pandas/core/computation/expressions.py:204: UserWarning: evaluating in Python space because the '*' operator is not supported by numexpr for the bool dtype, use '&' instead\n",
      "  f\"evaluating in Python space because the {repr(op_str)} \"\n"
     ]
    }
   ],
   "source": [
    "r80 = (imputed_proteins_test < q90)\n",
    "l80 = (imputed_proteins_test > q10)\n",
    "\n",
    "print((r80*l80).mean())\n",
    "print(f\"Effective Coverage Probability for Nominal 80% PI: {(r80*l80).mean().mean()}\")"
   ]
  }
 ],
 "metadata": {
  "kernelspec": {
   "name": "python3",
   "language": "python",
   "display_name": "Python 3 (ipykernel)"
  },
  "language_info": {
   "codemirror_mode": {
    "name": "ipython",
    "version": 3
   },
   "file_extension": ".py",
   "mimetype": "text/x-python",
   "name": "python",
   "nbconvert_exporter": "python",
   "pygments_lexer": "ipython3",
   "version": "3.7.0"
  }
 },
 "nbformat": 4,
 "nbformat_minor": 4
}
