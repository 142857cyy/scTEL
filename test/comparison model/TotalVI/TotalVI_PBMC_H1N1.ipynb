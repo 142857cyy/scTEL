{
 "cells": [
  {
   "cell_type": "markdown",
   "metadata": {},
   "source": [
    "## Import packages"
   ]
  },
  {
   "cell_type": "code",
   "execution_count": 1,
   "metadata": {
    "ExecuteTime": {
     "start_time": "2024-03-03T10:58:55.660328Z",
     "end_time": "2024-03-03T10:58:58.646959Z"
    }
   },
   "outputs": [
    {
     "name": "stderr",
     "output_type": "stream",
     "text": [
      "Global seed set to 0\n"
     ]
    },
    {
     "name": "stdout",
     "output_type": "stream",
     "text": [
      "0.14.6\n"
     ]
    }
   ],
   "source": [
    "%load_ext autoreload\n",
    "%autoreload 2\n",
    "\n",
    "import sys\n",
    "import numpy as np\n",
    "import seaborn as sns\n",
    "import pandas as pd\n",
    "import pickle\n",
    "import scanpy as sc\n",
    "sc.set_figure_params(dpi=100, dpi_save=300)\n",
    "import scvi\n",
    "import anndata as ad\n",
    "from matplotlib import pyplot, cm\n",
    "import os\n",
    "from math import ceil\n",
    "from scipy.stats import spearmanr\n",
    "import math\n",
    "\n",
    "import leidenalg\n",
    "\n",
    "from anndata import AnnData\n",
    "import scanpy as sc\n",
    "from scanpy import read\n",
    "import pandas as pd\n",
    "from sciPENN.Preprocessing import preprocess\n",
    "\n",
    "import matplotlib.pyplot as plt\n",
    "print(scvi.__version__)"
   ]
  },
  {
   "cell_type": "markdown",
   "metadata": {},
   "source": [
    "# Read data: Pbmc (train), H1N1 (test)"
   ]
  },
  {
   "cell_type": "code",
   "execution_count": 2,
   "metadata": {
    "ExecuteTime": {
     "start_time": "2024-03-03T11:00:15.770788Z",
     "end_time": "2024-03-03T11:00:26.369008Z"
    }
   },
   "outputs": [],
   "source": [
    "adata_gene = sc.read(\"../Data/pbmc/pbmc_gene.h5ad\")\n",
    "adata_protein = sc.read(\"../Data/pbmc/pbmc_protein.h5ad\")"
   ]
  },
  {
   "cell_type": "code",
   "execution_count": 3,
   "metadata": {
    "ExecuteTime": {
     "start_time": "2024-03-03T11:00:31.120869Z",
     "end_time": "2024-03-03T11:01:19.301768Z"
    }
   },
   "outputs": [],
   "source": [
    "adata_gene_test = sc.read(\"../Data/H1N1/gene_data.mtx\").T\n",
    "adata_gene_test.var.index = pd.read_csv(\"../Data/H1N1/gene_names.txt\", index_col = 0).iloc[:, 0]\n",
    "adata_gene_test.obs = pd.read_csv(\"../Data/H1N1/meta_data.txt\", sep = ',', index_col = 0)"
   ]
  },
  {
   "cell_type": "code",
   "execution_count": 4,
   "metadata": {
    "ExecuteTime": {
     "start_time": "2024-03-03T11:12:39.915702Z",
     "end_time": "2024-03-03T11:12:45.799781Z"
    }
   },
   "outputs": [],
   "source": [
    "adata_protein_test = sc.read(\"../Data/H1N1/protein_data.mtx\").T\n",
    "adata_protein_test.var.index = [x[:len(x) - 5] for x in pd.read_csv(\"../Data/H1N1/protein_names.txt\", index_col = 0).iloc[:,0]]\n",
    "adata_protein_test.obs = pd.read_csv(\"../Data/H1N1/meta_data.txt\", sep = ',', index_col = 0)\n",
    "\n",
    "adata_protein_test.layers[\"raw\"] = adata_protein_test.X"
   ]
  },
  {
   "cell_type": "markdown",
   "metadata": {},
   "source": [
    "# Selecting highly variable genes - using gene expression measures from test data "
   ]
  },
  {
   "cell_type": "code",
   "execution_count": 5,
   "metadata": {
    "ExecuteTime": {
     "start_time": "2024-03-03T11:13:10.798707Z",
     "end_time": "2024-03-03T11:15:34.511445Z"
    }
   },
   "outputs": [
    {
     "name": "stdout",
     "output_type": "stream",
     "text": [
      "\n",
      "QC Filtering Training Cells\n",
      "QC Filtering Testing Cells\n",
      "\n",
      "QC Filtering Training Genes\n",
      "QC Filtering Testing Genes\n",
      "\n",
      "Normalizing Training Cells\n",
      "Normalizing Testing Cells\n",
      "\n",
      "Log-Normalizing Training Data\n",
      "Log-Normalizing Testing Data\n",
      "\n",
      "Finding HVGs\n"
     ]
    },
    {
     "name": "stderr",
     "output_type": "stream",
     "text": [
      "C:\\Users\\26074\\.conda\\envs\\sciPENN\\lib\\site-packages\\anndata\\_core\\anndata.py:1785: FutureWarning: X.dtype being converted to np.float32 from float64. In the next version of anndata (0.9) conversion will not be automatic. Pass dtype explicitly to avoid this warning. Pass `AnnData(X, dtype=X.dtype, ...)` to get the future behavour.\n",
      "  [AnnData(sparse.csr_matrix(a.shape), obs=a.obs) for a in all_adatas],\n",
      "C:\\Users\\26074\\.conda\\envs\\sciPENN\\lib\\site-packages\\pandas\\core\\indexing.py:1732: SettingWithCopyWarning: \n",
      "A value is trying to be set on a copy of a slice from a DataFrame\n",
      "\n",
      "See the caveats in the documentation: https://pandas.pydata.org/pandas-docs/stable/user_guide/indexing.html#returning-a-view-versus-a-copy\n",
      "  self._setitem_single_block(indexer, value, name)\n"
     ]
    },
    {
     "name": "stdout",
     "output_type": "stream",
     "text": [
      "\n",
      "Normalizing Gene Training Data by Batch\n"
     ]
    },
    {
     "name": "stderr",
     "output_type": "stream",
     "text": [
      "100%|██████████| 8/8 [00:07<00:00,  1.13it/s]\n"
     ]
    },
    {
     "name": "stdout",
     "output_type": "stream",
     "text": [
      "\n",
      "Normalizing Protein Training Data by Batch\n"
     ]
    },
    {
     "name": "stderr",
     "output_type": "stream",
     "text": [
      "100%|██████████| 8/8 [00:03<00:00,  2.39it/s]\n"
     ]
    },
    {
     "name": "stdout",
     "output_type": "stream",
     "text": [
      "\n",
      "Normalizing Gene Testing Data by Batch\n"
     ]
    },
    {
     "name": "stderr",
     "output_type": "stream",
     "text": [
      "100%|██████████| 20/20 [00:01<00:00, 11.79it/s]\n"
     ]
    }
   ],
   "source": [
    "gene_train, protein_train, gene_test, bools, train_keys, categories = preprocess([adata_gene], [adata_protein], adata_gene_test, train_batchkeys = [\"donor\"], test_batchkey = \"sample\", gene_list = [], select_hvg = True, cell_normalize = True, log_normalize = True, gene_normalize = True, min_cells = 30, min_genes = 200)"
   ]
  },
  {
   "cell_type": "code",
   "execution_count": 6,
   "metadata": {
    "ExecuteTime": {
     "start_time": "2024-03-03T11:17:39.354968Z",
     "end_time": "2024-03-03T11:17:39.596450Z"
    }
   },
   "outputs": [],
   "source": [
    "hvg = gene_test.var_names\n",
    "cells_test = gene_test.obs_names\n",
    "cells_train = gene_train.obs_names"
   ]
  },
  {
   "cell_type": "code",
   "execution_count": 7,
   "metadata": {
    "ExecuteTime": {
     "start_time": "2024-03-03T11:17:42.434308Z",
     "end_time": "2024-03-03T11:17:43.639163Z"
    }
   },
   "outputs": [
    {
     "data": {
      "text/plain": "4107"
     },
     "execution_count": 7,
     "metadata": {},
     "output_type": "execute_result"
    }
   ],
   "source": [
    "del gene_train\n",
    "del gene_test\n",
    "del protein_train\n",
    "\n",
    "import gc\n",
    "gc.collect()"
   ]
  },
  {
   "cell_type": "markdown",
   "metadata": {},
   "source": [
    "# Format data"
   ]
  },
  {
   "cell_type": "code",
   "execution_count": 8,
   "metadata": {
    "ExecuteTime": {
     "start_time": "2024-03-03T11:17:48.570285Z",
     "end_time": "2024-03-03T11:17:48.673284Z"
    }
   },
   "outputs": [],
   "source": [
    "# What proteins overlap between the test and train data?\n",
    "\n",
    "train_protein = adata_protein.var_names\n",
    "test_protein = adata_protein_test.var_names\n",
    "overlap_protein = train_protein[train_protein.isin(test_protein)]"
   ]
  },
  {
   "cell_type": "code",
   "execution_count": 9,
   "metadata": {
    "ExecuteTime": {
     "start_time": "2024-03-03T11:17:51.439469Z",
     "end_time": "2024-03-03T11:17:52.525920Z"
    }
   },
   "outputs": [],
   "source": [
    "## Subsetting the data by the HVG - pbmc\n",
    "\n",
    "adata_gene_pbmc_hvg = adata_gene[cells_train, hvg].copy()"
   ]
  },
  {
   "cell_type": "code",
   "execution_count": 10,
   "metadata": {
    "ExecuteTime": {
     "start_time": "2024-03-03T11:17:54.573200Z",
     "end_time": "2024-03-03T11:17:55.491553Z"
    }
   },
   "outputs": [],
   "source": [
    "\n",
    "## Subsetting the data by the HVG - h1n1\n",
    "\n",
    "adata_gene_h1n1_hvg = adata_gene_test[cells_test, hvg].copy()"
   ]
  },
  {
   "cell_type": "code",
   "execution_count": 11,
   "metadata": {
    "ExecuteTime": {
     "start_time": "2024-03-03T11:17:57.340209Z",
     "end_time": "2024-03-03T11:17:57.447386Z"
    }
   },
   "outputs": [
    {
     "data": {
      "text/plain": "1.0"
     },
     "execution_count": 11,
     "metadata": {},
     "output_type": "execute_result"
    }
   ],
   "source": [
    "(adata_gene_pbmc_hvg.var.index == adata_gene_h1n1_hvg.var.index).mean()"
   ]
  },
  {
   "cell_type": "code",
   "execution_count": 12,
   "metadata": {
    "ExecuteTime": {
     "start_time": "2024-03-03T11:18:01.183903Z",
     "end_time": "2024-03-03T11:18:02.429288Z"
    }
   },
   "outputs": [],
   "source": [
    "adata_protein = adata_protein[cells_train, :].copy()\n",
    "adata_protein_test = adata_protein_test[cells_test, :].copy()"
   ]
  },
  {
   "cell_type": "code",
   "execution_count": 13,
   "metadata": {
    "ExecuteTime": {
     "start_time": "2024-03-03T11:18:03.143102Z",
     "end_time": "2024-03-03T11:18:03.267575Z"
    }
   },
   "outputs": [],
   "source": [
    "# Batches (subject) in training data - pbmc (8 subjects)\n",
    "\n",
    "adata_gene_pbmc_hvg.obs['patient'] = pd.DataFrame(adata_gene_pbmc_hvg.obs['donor']).copy()\n",
    "adata_gene_pbmc_hvg.obs['patient'] = adata_gene_pbmc_hvg.obs['donor'].astype(\"str\")"
   ]
  },
  {
   "cell_type": "code",
   "execution_count": 14,
   "metadata": {
    "ExecuteTime": {
     "start_time": "2024-03-03T11:18:04.106802Z",
     "end_time": "2024-03-03T11:18:04.202093Z"
    }
   },
   "outputs": [],
   "source": [
    "# Batches (subject) in test data - h1n1 (20 subjects)\n",
    "\n",
    "adata_gene_h1n1_hvg.obs['patient'] = pd.DataFrame(adata_gene_h1n1_hvg.obs['sample']).copy()\n",
    "adata_gene_h1n1_hvg.obs['patient'] = adata_gene_h1n1_hvg.obs['patient'].astype(\"str\")"
   ]
  },
  {
   "cell_type": "code",
   "execution_count": 15,
   "metadata": {
    "ExecuteTime": {
     "start_time": "2024-03-03T11:18:05.071549Z",
     "end_time": "2024-03-03T11:18:07.051208Z"
    }
   },
   "outputs": [],
   "source": [
    "## Combine data\n",
    "\n",
    "adata = ad.concat([adata_gene_pbmc_hvg.copy(), adata_gene_h1n1_hvg.copy()],\n",
    "                     join='outer')"
   ]
  },
  {
   "cell_type": "markdown",
   "metadata": {},
   "source": [
    "### Note: Train on PBMC"
   ]
  },
  {
   "cell_type": "code",
   "execution_count": 16,
   "metadata": {
    "ExecuteTime": {
     "start_time": "2024-03-03T11:18:14.010102Z",
     "end_time": "2024-03-03T11:18:14.119883Z"
    }
   },
   "outputs": [],
   "source": [
    "train_patients = adata.obs[\"patient\"].unique()[0:8]"
   ]
  },
  {
   "cell_type": "code",
   "execution_count": 17,
   "metadata": {
    "ExecuteTime": {
     "start_time": "2024-03-03T11:18:14.918752Z",
     "end_time": "2024-03-03T11:18:15.032171Z"
    }
   },
   "outputs": [],
   "source": [
    "test_patients = adata.obs[\"patient\"].unique()[8:]"
   ]
  },
  {
   "cell_type": "markdown",
   "metadata": {},
   "source": [
    "# Subset data based on HVGs and Hold Out Test Protein Set"
   ]
  },
  {
   "cell_type": "code",
   "execution_count": 18,
   "metadata": {
    "ExecuteTime": {
     "start_time": "2024-03-03T11:18:19.871673Z",
     "end_time": "2024-03-03T11:18:20.169297Z"
    }
   },
   "outputs": [],
   "source": [
    "adata_final = adata.copy()"
   ]
  },
  {
   "cell_type": "code",
   "execution_count": 19,
   "metadata": {
    "ExecuteTime": {
     "start_time": "2024-03-03T11:18:20.966022Z",
     "end_time": "2024-03-03T11:18:21.139130Z"
    }
   },
   "outputs": [],
   "source": [
    "held_out_proteins = adata_protein_test[cells_test, overlap_protein].copy()"
   ]
  },
  {
   "cell_type": "markdown",
   "metadata": {},
   "source": [
    "### Now we hold-out the proteins for the test patients dataset. To do so, we can replace all the values with 0s. We will store the original values to validate after training."
   ]
  },
  {
   "cell_type": "code",
   "execution_count": 20,
   "metadata": {
    "ExecuteTime": {
     "start_time": "2024-03-03T11:18:29.702160Z",
     "end_time": "2024-03-03T11:18:29.969002Z"
    }
   },
   "outputs": [],
   "source": [
    "# Modified this code cell to predict all p = 224 proteins\n",
    "\n",
    "n, p = adata_protein.shape\n",
    "n_test, p_test = adata_protein_test.shape\n",
    "\n",
    "protein_dat = pd.DataFrame(np.zeros(shape = (n + n_test, p), dtype = 'float32'), \n",
    "                           index = list(adata_protein.obs_names) + list(adata_protein_test.obs_names),\n",
    "                           columns = adata_protein.var_names)\n",
    "\n",
    "protein_dat.iloc[:n] = adata_protein.X.toarray().copy() #fill the protein training data, leave test data as 0s\n",
    "\n",
    "adata_final.obsm[\"protein_expression\"] = protein_dat\n"
   ]
  },
  {
   "cell_type": "markdown",
   "metadata": {},
   "source": [
    "# Remove additional data from memory:"
   ]
  },
  {
   "cell_type": "code",
   "execution_count": 21,
   "metadata": {
    "ExecuteTime": {
     "start_time": "2024-03-03T11:18:33.029659Z",
     "end_time": "2024-03-03T11:18:33.135856Z"
    }
   },
   "outputs": [],
   "source": [
    "del adata_gene\n",
    "del adata_protein\n",
    "del adata_protein_test\n",
    "del adata_gene_test\n",
    "del adata_gene_pbmc_hvg\n",
    "del adata"
   ]
  },
  {
   "cell_type": "markdown",
   "metadata": {},
   "source": [
    "# Run TotalVI"
   ]
  },
  {
   "cell_type": "code",
   "execution_count": 22,
   "metadata": {
    "ExecuteTime": {
     "start_time": "2024-03-03T11:18:42.084786Z",
     "end_time": "2024-03-03T11:18:43.414090Z"
    }
   },
   "outputs": [
    {
     "name": "stdout",
     "output_type": "stream",
     "text": [
      "\u001B[34mINFO    \u001B[0m Using batches from adata.obs\u001B[1m[\u001B[0m\u001B[32m\"patient\"\u001B[0m\u001B[1m]\u001B[0m                                                                   \n",
      "\u001B[34mINFO    \u001B[0m No label_key inputted, assuming all cells have same label                                                 \n",
      "\u001B[34mINFO    \u001B[0m Using data from adata.X                                                                                   \n"
     ]
    },
    {
     "name": "stderr",
     "output_type": "stream",
     "text": [
      "C:\\Users\\26074\\.conda\\envs\\sciPENN\\lib\\site-packages\\sklearn\\utils\\deprecation.py:87: FutureWarning: Function setup_anndata is deprecated; Please use the model-specific setup_anndata methods instead. The global method will be removed in version 0.15.0.\n",
      "  warnings.warn(msg, category=FutureWarning)\n"
     ]
    },
    {
     "name": "stdout",
     "output_type": "stream",
     "text": [
      "\u001B[34mINFO    \u001B[0m Using protein expression from adata.obsm\u001B[1m[\u001B[0m\u001B[32m'protein_expression'\u001B[0m\u001B[1m]\u001B[0m                                            \n",
      "\u001B[34mINFO    \u001B[0m Using protein names from columns of adata.obsm\u001B[1m[\u001B[0m\u001B[32m'protein_expression'\u001B[0m\u001B[1m]\u001B[0m                                      \n",
      "\u001B[34mINFO    \u001B[0m Found batches with missing protein expression                                                             \n",
      "\u001B[34mINFO    \u001B[0m Successfully registered anndata object containing \u001B[1;36m214948\u001B[0m cells, \u001B[1;36m1000\u001B[0m vars, \u001B[1;36m28\u001B[0m batches, \u001B[1;36m1\u001B[0m labels, and \u001B[1;36m224\u001B[0m  \n",
      "         proteins. Also registered \u001B[1;36m0\u001B[0m extra categorical covariates and \u001B[1;36m0\u001B[0m extra continuous covariates.               \n",
      "\u001B[34mINFO    \u001B[0m Please do not further modify adata until model is trained.                                                \n"
     ]
    }
   ],
   "source": [
    "scvi.data.setup_anndata(adata_final, batch_key=\"patient\", \n",
    "                        protein_expression_obsm_key=\"protein_expression\")"
   ]
  },
  {
   "cell_type": "code",
   "execution_count": 23,
   "metadata": {
    "ExecuteTime": {
     "start_time": "2024-03-03T11:18:47.163444Z",
     "end_time": "2024-03-03T11:18:47.310012Z"
    }
   },
   "outputs": [
    {
     "name": "stderr",
     "output_type": "stream",
     "text": [
      "C:\\Users\\26074\\.conda\\envs\\sciPENN\\lib\\site-packages\\sklearn\\utils\\deprecation.py:87: FutureWarning: Function view_anndata_setup is deprecated; This method will be removed in 0.15.0. Please avoid building any new dependencies on it.\n",
      "  warnings.warn(msg, category=FutureWarning)\n"
     ]
    },
    {
     "data": {
      "text/plain": "Anndata setup with scvi-tools version \u001B[1;36m0.14\u001B[0m.\u001B[1;36m6\u001B[0m.\n",
      "text/html": "<pre style=\"white-space:pre;overflow-x:auto;line-height:normal;font-family:Menlo,'DejaVu Sans Mono',consolas,'Courier New',monospace\">Anndata setup with scvi-tools version <span style=\"color: #008080; text-decoration-color: #008080; font-weight: bold\">0.14</span>.<span style=\"color: #008080; text-decoration-color: #008080; font-weight: bold\">6</span>.\n</pre>\n"
     },
     "metadata": {},
     "output_type": "display_data"
    },
    {
     "data": {
      "text/plain": "\u001B[3m              Data Summary               \u001B[0m\n┏━━━━━━━━━━━━━━━━━━━━━━━━━━━━━━┳━━━━━━━━┓\n┃\u001B[1m \u001B[0m\u001B[1m            Data            \u001B[0m\u001B[1m \u001B[0m┃\u001B[1m \u001B[0m\u001B[1mCount \u001B[0m\u001B[1m \u001B[0m┃\n┡━━━━━━━━━━━━━━━━━━━━━━━━━━━━━━╇━━━━━━━━┩\n│\u001B[38;5;33m \u001B[0m\u001B[38;5;33m           Cells            \u001B[0m\u001B[38;5;33m \u001B[0m│\u001B[38;5;128m \u001B[0m\u001B[38;5;128m214948\u001B[0m\u001B[38;5;128m \u001B[0m│\n│\u001B[38;5;33m \u001B[0m\u001B[38;5;33m            Vars            \u001B[0m\u001B[38;5;33m \u001B[0m│\u001B[38;5;128m \u001B[0m\u001B[38;5;128m 1000 \u001B[0m\u001B[38;5;128m \u001B[0m│\n│\u001B[38;5;33m \u001B[0m\u001B[38;5;33m           Labels           \u001B[0m\u001B[38;5;33m \u001B[0m│\u001B[38;5;128m \u001B[0m\u001B[38;5;128m  1   \u001B[0m\u001B[38;5;128m \u001B[0m│\n│\u001B[38;5;33m \u001B[0m\u001B[38;5;33m          Batches           \u001B[0m\u001B[38;5;33m \u001B[0m│\u001B[38;5;128m \u001B[0m\u001B[38;5;128m  28  \u001B[0m\u001B[38;5;128m \u001B[0m│\n│\u001B[38;5;33m \u001B[0m\u001B[38;5;33m          Proteins          \u001B[0m\u001B[38;5;33m \u001B[0m│\u001B[38;5;128m \u001B[0m\u001B[38;5;128m 224  \u001B[0m\u001B[38;5;128m \u001B[0m│\n│\u001B[38;5;33m \u001B[0m\u001B[38;5;33mExtra Categorical Covariates\u001B[0m\u001B[38;5;33m \u001B[0m│\u001B[38;5;128m \u001B[0m\u001B[38;5;128m  0   \u001B[0m\u001B[38;5;128m \u001B[0m│\n│\u001B[38;5;33m \u001B[0m\u001B[38;5;33mExtra Continuous Covariates \u001B[0m\u001B[38;5;33m \u001B[0m│\u001B[38;5;128m \u001B[0m\u001B[38;5;128m  0   \u001B[0m\u001B[38;5;128m \u001B[0m│\n└──────────────────────────────┴────────┘\n",
      "text/html": "<pre style=\"white-space:pre;overflow-x:auto;line-height:normal;font-family:Menlo,'DejaVu Sans Mono',consolas,'Courier New',monospace\"><span style=\"font-style: italic\">              Data Summary               </span>\n┏━━━━━━━━━━━━━━━━━━━━━━━━━━━━━━┳━━━━━━━━┓\n┃<span style=\"font-weight: bold\">             Data             </span>┃<span style=\"font-weight: bold\"> Count  </span>┃\n┡━━━━━━━━━━━━━━━━━━━━━━━━━━━━━━╇━━━━━━━━┩\n│<span style=\"color: #0087ff; text-decoration-color: #0087ff\">            Cells             </span>│<span style=\"color: #af00d7; text-decoration-color: #af00d7\"> 214948 </span>│\n│<span style=\"color: #0087ff; text-decoration-color: #0087ff\">             Vars             </span>│<span style=\"color: #af00d7; text-decoration-color: #af00d7\">  1000  </span>│\n│<span style=\"color: #0087ff; text-decoration-color: #0087ff\">            Labels            </span>│<span style=\"color: #af00d7; text-decoration-color: #af00d7\">   1    </span>│\n│<span style=\"color: #0087ff; text-decoration-color: #0087ff\">           Batches            </span>│<span style=\"color: #af00d7; text-decoration-color: #af00d7\">   28   </span>│\n│<span style=\"color: #0087ff; text-decoration-color: #0087ff\">           Proteins           </span>│<span style=\"color: #af00d7; text-decoration-color: #af00d7\">  224   </span>│\n│<span style=\"color: #0087ff; text-decoration-color: #0087ff\"> Extra Categorical Covariates </span>│<span style=\"color: #af00d7; text-decoration-color: #af00d7\">   0    </span>│\n│<span style=\"color: #0087ff; text-decoration-color: #0087ff\"> Extra Continuous Covariates  </span>│<span style=\"color: #af00d7; text-decoration-color: #af00d7\">   0    </span>│\n└──────────────────────────────┴────────┘\n</pre>\n"
     },
     "metadata": {},
     "output_type": "display_data"
    },
    {
     "data": {
      "text/plain": "\u001B[3m                   SCVI Data Registry                    \u001B[0m\n┏━━━━━━━━━━━━━━━━━━━━┳━━━━━━━━━━━━━━━━━━━━━━━━━━━━━━━━━━┓\n┃\u001B[1m \u001B[0m\u001B[1m       Data       \u001B[0m\u001B[1m \u001B[0m┃\u001B[1m \u001B[0m\u001B[1m      scvi-tools Location       \u001B[0m\u001B[1m \u001B[0m┃\n┡━━━━━━━━━━━━━━━━━━━━╇━━━━━━━━━━━━━━━━━━━━━━━━━━━━━━━━━━┩\n│\u001B[38;5;33m \u001B[0m\u001B[38;5;33m        X         \u001B[0m\u001B[38;5;33m \u001B[0m│\u001B[38;5;128m \u001B[0m\u001B[38;5;128m            adata.X             \u001B[0m\u001B[38;5;128m \u001B[0m│\n│\u001B[38;5;33m \u001B[0m\u001B[38;5;33m  batch_indices   \u001B[0m\u001B[38;5;33m \u001B[0m│\u001B[38;5;128m \u001B[0m\u001B[38;5;128m    adata.obs['_scvi_batch']    \u001B[0m\u001B[38;5;128m \u001B[0m│\n│\u001B[38;5;33m \u001B[0m\u001B[38;5;33m      labels      \u001B[0m\u001B[38;5;33m \u001B[0m│\u001B[38;5;128m \u001B[0m\u001B[38;5;128m   adata.obs['_scvi_labels']    \u001B[0m\u001B[38;5;128m \u001B[0m│\n│\u001B[38;5;33m \u001B[0m\u001B[38;5;33mprotein_expression\u001B[0m\u001B[38;5;33m \u001B[0m│\u001B[38;5;128m \u001B[0m\u001B[38;5;128madata.obsm['protein_expression']\u001B[0m\u001B[38;5;128m \u001B[0m│\n└────────────────────┴──────────────────────────────────┘\n",
      "text/html": "<pre style=\"white-space:pre;overflow-x:auto;line-height:normal;font-family:Menlo,'DejaVu Sans Mono',consolas,'Courier New',monospace\"><span style=\"font-style: italic\">                   SCVI Data Registry                    </span>\n┏━━━━━━━━━━━━━━━━━━━━┳━━━━━━━━━━━━━━━━━━━━━━━━━━━━━━━━━━┓\n┃<span style=\"font-weight: bold\">        Data        </span>┃<span style=\"font-weight: bold\">       scvi-tools Location        </span>┃\n┡━━━━━━━━━━━━━━━━━━━━╇━━━━━━━━━━━━━━━━━━━━━━━━━━━━━━━━━━┩\n│<span style=\"color: #0087ff; text-decoration-color: #0087ff\">         X          </span>│<span style=\"color: #af00d7; text-decoration-color: #af00d7\">             adata.X              </span>│\n│<span style=\"color: #0087ff; text-decoration-color: #0087ff\">   batch_indices    </span>│<span style=\"color: #af00d7; text-decoration-color: #af00d7\">     adata.obs['_scvi_batch']     </span>│\n│<span style=\"color: #0087ff; text-decoration-color: #0087ff\">       labels       </span>│<span style=\"color: #af00d7; text-decoration-color: #af00d7\">    adata.obs['_scvi_labels']     </span>│\n│<span style=\"color: #0087ff; text-decoration-color: #0087ff\"> protein_expression </span>│<span style=\"color: #af00d7; text-decoration-color: #af00d7\"> adata.obsm['protein_expression'] </span>│\n└────────────────────┴──────────────────────────────────┘\n</pre>\n"
     },
     "metadata": {},
     "output_type": "display_data"
    },
    {
     "data": {
      "text/plain": "\u001B[3m                        Label Categories                        \u001B[0m\n┏━━━━━━━━━━━━━━━━━━━━━━━━━━━┳━━━━━━━━━━━━┳━━━━━━━━━━━━━━━━━━━━━┓\n┃\u001B[1m \u001B[0m\u001B[1m     Source Location     \u001B[0m\u001B[1m \u001B[0m┃\u001B[1m \u001B[0m\u001B[1mCategories\u001B[0m\u001B[1m \u001B[0m┃\u001B[1m \u001B[0m\u001B[1mscvi-tools Encoding\u001B[0m\u001B[1m \u001B[0m┃\n┡━━━━━━━━━━━━━━━━━━━━━━━━━━━╇━━━━━━━━━━━━╇━━━━━━━━━━━━━━━━━━━━━┩\n│\u001B[38;5;33m \u001B[0m\u001B[38;5;33madata.obs['_scvi_labels']\u001B[0m\u001B[38;5;33m \u001B[0m│\u001B[32m \u001B[0m\u001B[32m    0     \u001B[0m\u001B[32m \u001B[0m│\u001B[38;5;128m \u001B[0m\u001B[38;5;128m         0         \u001B[0m\u001B[38;5;128m \u001B[0m│\n└───────────────────────────┴────────────┴─────────────────────┘\n",
      "text/html": "<pre style=\"white-space:pre;overflow-x:auto;line-height:normal;font-family:Menlo,'DejaVu Sans Mono',consolas,'Courier New',monospace\"><span style=\"font-style: italic\">                        Label Categories                        </span>\n┏━━━━━━━━━━━━━━━━━━━━━━━━━━━┳━━━━━━━━━━━━┳━━━━━━━━━━━━━━━━━━━━━┓\n┃<span style=\"font-weight: bold\">      Source Location      </span>┃<span style=\"font-weight: bold\"> Categories </span>┃<span style=\"font-weight: bold\"> scvi-tools Encoding </span>┃\n┡━━━━━━━━━━━━━━━━━━━━━━━━━━━╇━━━━━━━━━━━━╇━━━━━━━━━━━━━━━━━━━━━┩\n│<span style=\"color: #0087ff; text-decoration-color: #0087ff\"> adata.obs['_scvi_labels'] </span>│<span style=\"color: #008000; text-decoration-color: #008000\">     0      </span>│<span style=\"color: #af00d7; text-decoration-color: #af00d7\">          0          </span>│\n└───────────────────────────┴────────────┴─────────────────────┘\n</pre>\n"
     },
     "metadata": {},
     "output_type": "display_data"
    },
    {
     "data": {
      "text/plain": "\u001B[3m                     Batch Categories                      \u001B[0m\n┏━━━━━━━━━━━━━━━━━━━━━━┳━━━━━━━━━━━━┳━━━━━━━━━━━━━━━━━━━━━┓\n┃\u001B[1m \u001B[0m\u001B[1m  Source Location   \u001B[0m\u001B[1m \u001B[0m┃\u001B[1m \u001B[0m\u001B[1mCategories\u001B[0m\u001B[1m \u001B[0m┃\u001B[1m \u001B[0m\u001B[1mscvi-tools Encoding\u001B[0m\u001B[1m \u001B[0m┃\n┡━━━━━━━━━━━━━━━━━━━━━━╇━━━━━━━━━━━━╇━━━━━━━━━━━━━━━━━━━━━┩\n│\u001B[38;5;33m \u001B[0m\u001B[38;5;33madata.obs['patient']\u001B[0m\u001B[38;5;33m \u001B[0m│\u001B[32m \u001B[0m\u001B[32m  200_d0  \u001B[0m\u001B[32m \u001B[0m│\u001B[38;5;128m \u001B[0m\u001B[38;5;128m         0         \u001B[0m\u001B[38;5;128m \u001B[0m│\n│\u001B[38;5;33m \u001B[0m\u001B[38;5;33m                    \u001B[0m\u001B[38;5;33m \u001B[0m│\u001B[32m \u001B[0m\u001B[32m  201_d0  \u001B[0m\u001B[32m \u001B[0m│\u001B[38;5;128m \u001B[0m\u001B[38;5;128m         1         \u001B[0m\u001B[38;5;128m \u001B[0m│\n│\u001B[38;5;33m \u001B[0m\u001B[38;5;33m                    \u001B[0m\u001B[38;5;33m \u001B[0m│\u001B[32m \u001B[0m\u001B[32m  205_d0  \u001B[0m\u001B[32m \u001B[0m│\u001B[38;5;128m \u001B[0m\u001B[38;5;128m         2         \u001B[0m\u001B[38;5;128m \u001B[0m│\n│\u001B[38;5;33m \u001B[0m\u001B[38;5;33m                    \u001B[0m\u001B[38;5;33m \u001B[0m│\u001B[32m \u001B[0m\u001B[32m  207_d0  \u001B[0m\u001B[32m \u001B[0m│\u001B[38;5;128m \u001B[0m\u001B[38;5;128m         3         \u001B[0m\u001B[38;5;128m \u001B[0m│\n│\u001B[38;5;33m \u001B[0m\u001B[38;5;33m                    \u001B[0m\u001B[38;5;33m \u001B[0m│\u001B[32m \u001B[0m\u001B[32m  209_d0  \u001B[0m\u001B[32m \u001B[0m│\u001B[38;5;128m \u001B[0m\u001B[38;5;128m         4         \u001B[0m\u001B[38;5;128m \u001B[0m│\n│\u001B[38;5;33m \u001B[0m\u001B[38;5;33m                    \u001B[0m\u001B[38;5;33m \u001B[0m│\u001B[32m \u001B[0m\u001B[32m  212_d0  \u001B[0m\u001B[32m \u001B[0m│\u001B[38;5;128m \u001B[0m\u001B[38;5;128m         5         \u001B[0m\u001B[38;5;128m \u001B[0m│\n│\u001B[38;5;33m \u001B[0m\u001B[38;5;33m                    \u001B[0m\u001B[38;5;33m \u001B[0m│\u001B[32m \u001B[0m\u001B[32m  215_d0  \u001B[0m\u001B[32m \u001B[0m│\u001B[38;5;128m \u001B[0m\u001B[38;5;128m         6         \u001B[0m\u001B[38;5;128m \u001B[0m│\n│\u001B[38;5;33m \u001B[0m\u001B[38;5;33m                    \u001B[0m\u001B[38;5;33m \u001B[0m│\u001B[32m \u001B[0m\u001B[32m  229_d0  \u001B[0m\u001B[32m \u001B[0m│\u001B[38;5;128m \u001B[0m\u001B[38;5;128m         7         \u001B[0m\u001B[38;5;128m \u001B[0m│\n│\u001B[38;5;33m \u001B[0m\u001B[38;5;33m                    \u001B[0m\u001B[38;5;33m \u001B[0m│\u001B[32m \u001B[0m\u001B[32m  233_d0  \u001B[0m\u001B[32m \u001B[0m│\u001B[38;5;128m \u001B[0m\u001B[38;5;128m         8         \u001B[0m\u001B[38;5;128m \u001B[0m│\n│\u001B[38;5;33m \u001B[0m\u001B[38;5;33m                    \u001B[0m\u001B[38;5;33m \u001B[0m│\u001B[32m \u001B[0m\u001B[32m  234_d0  \u001B[0m\u001B[32m \u001B[0m│\u001B[38;5;128m \u001B[0m\u001B[38;5;128m         9         \u001B[0m\u001B[38;5;128m \u001B[0m│\n│\u001B[38;5;33m \u001B[0m\u001B[38;5;33m                    \u001B[0m\u001B[38;5;33m \u001B[0m│\u001B[32m \u001B[0m\u001B[32m  236_d0  \u001B[0m\u001B[32m \u001B[0m│\u001B[38;5;128m \u001B[0m\u001B[38;5;128m        10         \u001B[0m\u001B[38;5;128m \u001B[0m│\n│\u001B[38;5;33m \u001B[0m\u001B[38;5;33m                    \u001B[0m\u001B[38;5;33m \u001B[0m│\u001B[32m \u001B[0m\u001B[32m  237_d0  \u001B[0m\u001B[32m \u001B[0m│\u001B[38;5;128m \u001B[0m\u001B[38;5;128m        11         \u001B[0m\u001B[38;5;128m \u001B[0m│\n│\u001B[38;5;33m \u001B[0m\u001B[38;5;33m                    \u001B[0m\u001B[38;5;33m \u001B[0m│\u001B[32m \u001B[0m\u001B[32m  245_d0  \u001B[0m\u001B[32m \u001B[0m│\u001B[38;5;128m \u001B[0m\u001B[38;5;128m        12         \u001B[0m\u001B[38;5;128m \u001B[0m│\n│\u001B[38;5;33m \u001B[0m\u001B[38;5;33m                    \u001B[0m\u001B[38;5;33m \u001B[0m│\u001B[32m \u001B[0m\u001B[32m  250_d0  \u001B[0m\u001B[32m \u001B[0m│\u001B[38;5;128m \u001B[0m\u001B[38;5;128m        13         \u001B[0m\u001B[38;5;128m \u001B[0m│\n│\u001B[38;5;33m \u001B[0m\u001B[38;5;33m                    \u001B[0m\u001B[38;5;33m \u001B[0m│\u001B[32m \u001B[0m\u001B[32m  256_d0  \u001B[0m\u001B[32m \u001B[0m│\u001B[38;5;128m \u001B[0m\u001B[38;5;128m        14         \u001B[0m\u001B[38;5;128m \u001B[0m│\n│\u001B[38;5;33m \u001B[0m\u001B[38;5;33m                    \u001B[0m\u001B[38;5;33m \u001B[0m│\u001B[32m \u001B[0m\u001B[32m  261_d0  \u001B[0m\u001B[32m \u001B[0m│\u001B[38;5;128m \u001B[0m\u001B[38;5;128m        15         \u001B[0m\u001B[38;5;128m \u001B[0m│\n│\u001B[38;5;33m \u001B[0m\u001B[38;5;33m                    \u001B[0m\u001B[38;5;33m \u001B[0m│\u001B[32m \u001B[0m\u001B[32m  268_d0  \u001B[0m\u001B[32m \u001B[0m│\u001B[38;5;128m \u001B[0m\u001B[38;5;128m        16         \u001B[0m\u001B[38;5;128m \u001B[0m│\n│\u001B[38;5;33m \u001B[0m\u001B[38;5;33m                    \u001B[0m\u001B[38;5;33m \u001B[0m│\u001B[32m \u001B[0m\u001B[32m  273_d0  \u001B[0m\u001B[32m \u001B[0m│\u001B[38;5;128m \u001B[0m\u001B[38;5;128m        17         \u001B[0m\u001B[38;5;128m \u001B[0m│\n│\u001B[38;5;33m \u001B[0m\u001B[38;5;33m                    \u001B[0m\u001B[38;5;33m \u001B[0m│\u001B[32m \u001B[0m\u001B[32m  277_d0  \u001B[0m\u001B[32m \u001B[0m│\u001B[38;5;128m \u001B[0m\u001B[38;5;128m        18         \u001B[0m\u001B[38;5;128m \u001B[0m│\n│\u001B[38;5;33m \u001B[0m\u001B[38;5;33m                    \u001B[0m\u001B[38;5;33m \u001B[0m│\u001B[32m \u001B[0m\u001B[32m  279_d0  \u001B[0m\u001B[32m \u001B[0m│\u001B[38;5;128m \u001B[0m\u001B[38;5;128m        19         \u001B[0m\u001B[38;5;128m \u001B[0m│\n│\u001B[38;5;33m \u001B[0m\u001B[38;5;33m                    \u001B[0m\u001B[38;5;33m \u001B[0m│\u001B[32m \u001B[0m\u001B[32m    P1    \u001B[0m\u001B[32m \u001B[0m│\u001B[38;5;128m \u001B[0m\u001B[38;5;128m        20         \u001B[0m\u001B[38;5;128m \u001B[0m│\n│\u001B[38;5;33m \u001B[0m\u001B[38;5;33m                    \u001B[0m\u001B[38;5;33m \u001B[0m│\u001B[32m \u001B[0m\u001B[32m    P2    \u001B[0m\u001B[32m \u001B[0m│\u001B[38;5;128m \u001B[0m\u001B[38;5;128m        21         \u001B[0m\u001B[38;5;128m \u001B[0m│\n│\u001B[38;5;33m \u001B[0m\u001B[38;5;33m                    \u001B[0m\u001B[38;5;33m \u001B[0m│\u001B[32m \u001B[0m\u001B[32m    P3    \u001B[0m\u001B[32m \u001B[0m│\u001B[38;5;128m \u001B[0m\u001B[38;5;128m        22         \u001B[0m\u001B[38;5;128m \u001B[0m│\n│\u001B[38;5;33m \u001B[0m\u001B[38;5;33m                    \u001B[0m\u001B[38;5;33m \u001B[0m│\u001B[32m \u001B[0m\u001B[32m    P4    \u001B[0m\u001B[32m \u001B[0m│\u001B[38;5;128m \u001B[0m\u001B[38;5;128m        23         \u001B[0m\u001B[38;5;128m \u001B[0m│\n│\u001B[38;5;33m \u001B[0m\u001B[38;5;33m                    \u001B[0m\u001B[38;5;33m \u001B[0m│\u001B[32m \u001B[0m\u001B[32m    P5    \u001B[0m\u001B[32m \u001B[0m│\u001B[38;5;128m \u001B[0m\u001B[38;5;128m        24         \u001B[0m\u001B[38;5;128m \u001B[0m│\n│\u001B[38;5;33m \u001B[0m\u001B[38;5;33m                    \u001B[0m\u001B[38;5;33m \u001B[0m│\u001B[32m \u001B[0m\u001B[32m    P6    \u001B[0m\u001B[32m \u001B[0m│\u001B[38;5;128m \u001B[0m\u001B[38;5;128m        25         \u001B[0m\u001B[38;5;128m \u001B[0m│\n│\u001B[38;5;33m \u001B[0m\u001B[38;5;33m                    \u001B[0m\u001B[38;5;33m \u001B[0m│\u001B[32m \u001B[0m\u001B[32m    P7    \u001B[0m\u001B[32m \u001B[0m│\u001B[38;5;128m \u001B[0m\u001B[38;5;128m        26         \u001B[0m\u001B[38;5;128m \u001B[0m│\n│\u001B[38;5;33m \u001B[0m\u001B[38;5;33m                    \u001B[0m\u001B[38;5;33m \u001B[0m│\u001B[32m \u001B[0m\u001B[32m    P8    \u001B[0m\u001B[32m \u001B[0m│\u001B[38;5;128m \u001B[0m\u001B[38;5;128m        27         \u001B[0m\u001B[38;5;128m \u001B[0m│\n└──────────────────────┴────────────┴─────────────────────┘\n",
      "text/html": "<pre style=\"white-space:pre;overflow-x:auto;line-height:normal;font-family:Menlo,'DejaVu Sans Mono',consolas,'Courier New',monospace\"><span style=\"font-style: italic\">                     Batch Categories                      </span>\n┏━━━━━━━━━━━━━━━━━━━━━━┳━━━━━━━━━━━━┳━━━━━━━━━━━━━━━━━━━━━┓\n┃<span style=\"font-weight: bold\">   Source Location    </span>┃<span style=\"font-weight: bold\"> Categories </span>┃<span style=\"font-weight: bold\"> scvi-tools Encoding </span>┃\n┡━━━━━━━━━━━━━━━━━━━━━━╇━━━━━━━━━━━━╇━━━━━━━━━━━━━━━━━━━━━┩\n│<span style=\"color: #0087ff; text-decoration-color: #0087ff\"> adata.obs['patient'] </span>│<span style=\"color: #008000; text-decoration-color: #008000\">   200_d0   </span>│<span style=\"color: #af00d7; text-decoration-color: #af00d7\">          0          </span>│\n│<span style=\"color: #0087ff; text-decoration-color: #0087ff\">                      </span>│<span style=\"color: #008000; text-decoration-color: #008000\">   201_d0   </span>│<span style=\"color: #af00d7; text-decoration-color: #af00d7\">          1          </span>│\n│<span style=\"color: #0087ff; text-decoration-color: #0087ff\">                      </span>│<span style=\"color: #008000; text-decoration-color: #008000\">   205_d0   </span>│<span style=\"color: #af00d7; text-decoration-color: #af00d7\">          2          </span>│\n│<span style=\"color: #0087ff; text-decoration-color: #0087ff\">                      </span>│<span style=\"color: #008000; text-decoration-color: #008000\">   207_d0   </span>│<span style=\"color: #af00d7; text-decoration-color: #af00d7\">          3          </span>│\n│<span style=\"color: #0087ff; text-decoration-color: #0087ff\">                      </span>│<span style=\"color: #008000; text-decoration-color: #008000\">   209_d0   </span>│<span style=\"color: #af00d7; text-decoration-color: #af00d7\">          4          </span>│\n│<span style=\"color: #0087ff; text-decoration-color: #0087ff\">                      </span>│<span style=\"color: #008000; text-decoration-color: #008000\">   212_d0   </span>│<span style=\"color: #af00d7; text-decoration-color: #af00d7\">          5          </span>│\n│<span style=\"color: #0087ff; text-decoration-color: #0087ff\">                      </span>│<span style=\"color: #008000; text-decoration-color: #008000\">   215_d0   </span>│<span style=\"color: #af00d7; text-decoration-color: #af00d7\">          6          </span>│\n│<span style=\"color: #0087ff; text-decoration-color: #0087ff\">                      </span>│<span style=\"color: #008000; text-decoration-color: #008000\">   229_d0   </span>│<span style=\"color: #af00d7; text-decoration-color: #af00d7\">          7          </span>│\n│<span style=\"color: #0087ff; text-decoration-color: #0087ff\">                      </span>│<span style=\"color: #008000; text-decoration-color: #008000\">   233_d0   </span>│<span style=\"color: #af00d7; text-decoration-color: #af00d7\">          8          </span>│\n│<span style=\"color: #0087ff; text-decoration-color: #0087ff\">                      </span>│<span style=\"color: #008000; text-decoration-color: #008000\">   234_d0   </span>│<span style=\"color: #af00d7; text-decoration-color: #af00d7\">          9          </span>│\n│<span style=\"color: #0087ff; text-decoration-color: #0087ff\">                      </span>│<span style=\"color: #008000; text-decoration-color: #008000\">   236_d0   </span>│<span style=\"color: #af00d7; text-decoration-color: #af00d7\">         10          </span>│\n│<span style=\"color: #0087ff; text-decoration-color: #0087ff\">                      </span>│<span style=\"color: #008000; text-decoration-color: #008000\">   237_d0   </span>│<span style=\"color: #af00d7; text-decoration-color: #af00d7\">         11          </span>│\n│<span style=\"color: #0087ff; text-decoration-color: #0087ff\">                      </span>│<span style=\"color: #008000; text-decoration-color: #008000\">   245_d0   </span>│<span style=\"color: #af00d7; text-decoration-color: #af00d7\">         12          </span>│\n│<span style=\"color: #0087ff; text-decoration-color: #0087ff\">                      </span>│<span style=\"color: #008000; text-decoration-color: #008000\">   250_d0   </span>│<span style=\"color: #af00d7; text-decoration-color: #af00d7\">         13          </span>│\n│<span style=\"color: #0087ff; text-decoration-color: #0087ff\">                      </span>│<span style=\"color: #008000; text-decoration-color: #008000\">   256_d0   </span>│<span style=\"color: #af00d7; text-decoration-color: #af00d7\">         14          </span>│\n│<span style=\"color: #0087ff; text-decoration-color: #0087ff\">                      </span>│<span style=\"color: #008000; text-decoration-color: #008000\">   261_d0   </span>│<span style=\"color: #af00d7; text-decoration-color: #af00d7\">         15          </span>│\n│<span style=\"color: #0087ff; text-decoration-color: #0087ff\">                      </span>│<span style=\"color: #008000; text-decoration-color: #008000\">   268_d0   </span>│<span style=\"color: #af00d7; text-decoration-color: #af00d7\">         16          </span>│\n│<span style=\"color: #0087ff; text-decoration-color: #0087ff\">                      </span>│<span style=\"color: #008000; text-decoration-color: #008000\">   273_d0   </span>│<span style=\"color: #af00d7; text-decoration-color: #af00d7\">         17          </span>│\n│<span style=\"color: #0087ff; text-decoration-color: #0087ff\">                      </span>│<span style=\"color: #008000; text-decoration-color: #008000\">   277_d0   </span>│<span style=\"color: #af00d7; text-decoration-color: #af00d7\">         18          </span>│\n│<span style=\"color: #0087ff; text-decoration-color: #0087ff\">                      </span>│<span style=\"color: #008000; text-decoration-color: #008000\">   279_d0   </span>│<span style=\"color: #af00d7; text-decoration-color: #af00d7\">         19          </span>│\n│<span style=\"color: #0087ff; text-decoration-color: #0087ff\">                      </span>│<span style=\"color: #008000; text-decoration-color: #008000\">     P1     </span>│<span style=\"color: #af00d7; text-decoration-color: #af00d7\">         20          </span>│\n│<span style=\"color: #0087ff; text-decoration-color: #0087ff\">                      </span>│<span style=\"color: #008000; text-decoration-color: #008000\">     P2     </span>│<span style=\"color: #af00d7; text-decoration-color: #af00d7\">         21          </span>│\n│<span style=\"color: #0087ff; text-decoration-color: #0087ff\">                      </span>│<span style=\"color: #008000; text-decoration-color: #008000\">     P3     </span>│<span style=\"color: #af00d7; text-decoration-color: #af00d7\">         22          </span>│\n│<span style=\"color: #0087ff; text-decoration-color: #0087ff\">                      </span>│<span style=\"color: #008000; text-decoration-color: #008000\">     P4     </span>│<span style=\"color: #af00d7; text-decoration-color: #af00d7\">         23          </span>│\n│<span style=\"color: #0087ff; text-decoration-color: #0087ff\">                      </span>│<span style=\"color: #008000; text-decoration-color: #008000\">     P5     </span>│<span style=\"color: #af00d7; text-decoration-color: #af00d7\">         24          </span>│\n│<span style=\"color: #0087ff; text-decoration-color: #0087ff\">                      </span>│<span style=\"color: #008000; text-decoration-color: #008000\">     P6     </span>│<span style=\"color: #af00d7; text-decoration-color: #af00d7\">         25          </span>│\n│<span style=\"color: #0087ff; text-decoration-color: #0087ff\">                      </span>│<span style=\"color: #008000; text-decoration-color: #008000\">     P7     </span>│<span style=\"color: #af00d7; text-decoration-color: #af00d7\">         26          </span>│\n│<span style=\"color: #0087ff; text-decoration-color: #0087ff\">                      </span>│<span style=\"color: #008000; text-decoration-color: #008000\">     P8     </span>│<span style=\"color: #af00d7; text-decoration-color: #af00d7\">         27          </span>│\n└──────────────────────┴────────────┴─────────────────────┘\n</pre>\n"
     },
     "metadata": {},
     "output_type": "display_data"
    }
   ],
   "source": [
    "scvi.data.view_anndata_setup(adata_final)"
   ]
  },
  {
   "cell_type": "code",
   "execution_count": 24,
   "metadata": {
    "ExecuteTime": {
     "start_time": "2024-03-03T11:18:59.797872Z",
     "end_time": "2024-03-03T11:19:07.247917Z"
    }
   },
   "outputs": [
    {
     "name": "stdout",
     "output_type": "stream",
     "text": [
      "\u001B[34mINFO    \u001B[0m Computing empirical prior initialization for protein background.                                          \n"
     ]
    },
    {
     "name": "stderr",
     "output_type": "stream",
     "text": [
      "C:\\Users\\26074\\.conda\\envs\\sciPENN\\lib\\site-packages\\scvi\\model\\_totalvi.py:124: UserWarning: Some proteins have all 0 counts in some batches. These proteins will be treated as missing measurements; however, this can occur due to experimental design/biology. Reinitialize the model with `override_missing_proteins=True`,to override this behavior.\n",
      "  warnings.warn(msg, UserWarning)\n"
     ]
    }
   ],
   "source": [
    "totalvae = scvi.model.TOTALVI(\n",
    "    adata_final,\n",
    "    latent_distribution = \"normal\",\n",
    "    n_layers_decoder = 2)"
   ]
  },
  {
   "cell_type": "code",
   "execution_count": 25,
   "metadata": {
    "ExecuteTime": {
     "start_time": "2024-03-03T11:19:26.269500Z",
     "end_time": "2024-03-03T15:07:31.146177Z"
    }
   },
   "outputs": [
    {
     "name": "stderr",
     "output_type": "stream",
     "text": [
      "GPU available: True, used: True\n",
      "TPU available: False, using: 0 TPU cores\n",
      "LOCAL_RANK: 0 - CUDA_VISIBLE_DEVICES: [0]\n"
     ]
    },
    {
     "name": "stdout",
     "output_type": "stream",
     "text": [
      "Epoch 245/400:  61%|██████▏   | 245/400 [2:59:31<1:16:10, 29.49s/it, loss=377, v_num=1]Epoch 00245: reducing learning rate of group 0 to 2.4000e-03.\n",
      "Epoch 332/400:  83%|████████▎ | 332/400 [3:41:18<31:51, 28.12s/it, loss=384, v_num=1]  Epoch 00332: reducing learning rate of group 0 to 1.4400e-03.\n",
      "Epoch 346/400:  86%|████████▋ | 346/400 [3:48:02<35:35, 39.55s/it, loss=388, v_num=1]\n"
     ]
    },
    {
     "data": {
      "text/plain": "<Figure size 400x400 with 1 Axes>",
      "image/png": "[encoded data removed]"
     },
     "metadata": {
      "image/png": {
       "width": 385,
       "height": 374
      }
     },
     "output_type": "display_data"
    }
   ],
   "source": [
    "# Training with the default number of epochs \n",
    "\n",
    "# Training with the default number of epochs \n",
    "n_epochs = 400\n",
    "lr = 4e-3\n",
    "\n",
    "if os.path.isdir('weights_dir/totalvi_seurattoh1n1'):\n",
    "    totalvae = totalvae.load(\"weights_dir/totalvi_seurattoh1n1\", adata = adata_final)\n",
    "else:\n",
    "    totalvae.train(max_epochs=400)\n",
    "    plt.plot(totalvae.history[\"elbo_validation\"], label=\"test\")\n",
    "    plt.title(\"Negative ELBO over training epochs\")\n",
    "    plt.legend()\n",
    "    \n",
    "    totalvae.save(\"weights_dir/totalvi_seurattoh1n1\")"
   ]
  },
  {
   "cell_type": "markdown",
   "metadata": {},
   "source": [
    "# Analyze output - Results on training data"
   ]
  },
  {
   "cell_type": "code",
   "execution_count": 26,
   "metadata": {
    "ExecuteTime": {
     "start_time": "2024-03-03T15:54:49.674768Z",
     "end_time": "2024-03-03T15:56:11.679134Z"
    }
   },
   "outputs": [],
   "source": [
    "_, protein_means = totalvae.get_normalized_expression(\n",
    "    transform_batch=train_patients,\n",
    "    include_protein_background=True,\n",
    "    sample_protein_mixing=False,\n",
    "    return_mean=True,\n",
    ")"
   ]
  },
  {
   "cell_type": "markdown",
   "metadata": {},
   "source": [
    "#### Note that: transform_batch is a power parameter. Setting this allows one to predict the expression of cells as if they came from the inputted batch. In this case, we’ve observed protein expression in the training batchs “RPM211 and RPM232” (batch categories from original adata object), but we have no protein expression in the test batchs “RPM215 and RPM218”. We’d like to take the cells of the trainig batch and make a counterfactual prediction: “What would the expression look like if my batch \"RPM211 and RPM232\" cells came from batch “RPM215 and RPM218”?”"
   ]
  },
  {
   "cell_type": "code",
   "execution_count": 27,
   "metadata": {
    "ExecuteTime": {
     "start_time": "2024-03-03T16:06:42.367641Z",
     "end_time": "2024-03-03T16:06:50.705289Z"
    }
   },
   "outputs": [],
   "source": [
    "X_totalVI = pd.DataFrame(totalvae.get_latent_representation(), index = adata_final.obs.index)\n",
    "X_totalVI.to_csv(\"totalvi_pbmctoh1n1embedding.csv\")"
   ]
  },
  {
   "cell_type": "markdown",
   "metadata": {},
   "source": [
    "# Imputed protein expression: "
   ]
  },
  {
   "cell_type": "code",
   "execution_count": 28,
   "metadata": {
    "ExecuteTime": {
     "start_time": "2024-03-03T16:06:58.232371Z",
     "end_time": "2024-03-03T16:06:58.342612Z"
    }
   },
   "outputs": [],
   "source": [
    "true_protein_test = pd.DataFrame(held_out_proteins.X.toarray(), index = held_out_proteins.obs.index, columns = held_out_proteins.var.index)"
   ]
  },
  {
   "cell_type": "code",
   "execution_count": 29,
   "metadata": {
    "ExecuteTime": {
     "start_time": "2024-03-03T16:07:00.109466Z",
     "end_time": "2024-03-03T16:07:00.263491Z"
    }
   },
   "outputs": [],
   "source": [
    "imputed_pros = protein_means[adata_final.obs.patient.isin(test_patients)]\n",
    "\n",
    "pat_names = adata_final.obs['patient'].isin(test_patients)\n",
    "patients = adata_final.obs.patient[pat_names].values\n",
    "imputed_proteins_test = imputed_pros[overlap_protein] # Subset totalvi output to only include overlapping proteins"
   ]
  },
  {
   "cell_type": "code",
   "execution_count": 30,
   "metadata": {
    "ExecuteTime": {
     "start_time": "2024-03-03T16:07:03.367312Z",
     "end_time": "2024-03-03T16:07:03.476116Z"
    }
   },
   "outputs": [],
   "source": [
    "def corr2_coeff(A, B, pearson = True):\n",
    "    if pearson:\n",
    "        # Rowwise mean of input arrays & subtract from input arrays themeselves\n",
    "        A_mA = A - A.mean(1)[:, None]\n",
    "        B_mB = B - B.mean(1)[:, None]\n",
    "\n",
    "        # Sum of squares across rows\n",
    "        ssA = (A_mA**2).sum(1)\n",
    "        ssB = (B_mB**2).sum(1)\n",
    "\n",
    "        # Finally get corr coeff\n",
    "        corr_mat = np.dot(A_mA, B_mB.T) / np.sqrt(np.dot(ssA[:, None],ssB[None]))\n",
    "        \n",
    "        return corr_mat[range(corr_mat.shape[0]), range(corr_mat.shape[0])]\n",
    "    \n",
    "    else:\n",
    "        corrs = [0.] * A.shape[0]\n",
    "        \n",
    "        for i in range(A.shape[0]):\n",
    "            corrs[i] = spearmanr(A[i], B[i])[0]\n",
    "            \n",
    "        return corrs"
   ]
  },
  {
   "cell_type": "code",
   "execution_count": 31,
   "metadata": {
    "ExecuteTime": {
     "start_time": "2024-03-03T16:07:04.313520Z",
     "end_time": "2024-03-03T16:07:04.416944Z"
    }
   },
   "outputs": [],
   "source": [
    "cells, proteins = imputed_proteins_test.index, imputed_proteins_test.columns"
   ]
  },
  {
   "cell_type": "code",
   "execution_count": 32,
   "metadata": {
    "ExecuteTime": {
     "start_time": "2024-03-03T16:07:08.086695Z",
     "end_time": "2024-03-03T16:07:08.542695Z"
    }
   },
   "outputs": [
    {
     "name": "stderr",
     "output_type": "stream",
     "text": [
      "C:\\Users\\26074\\.conda\\envs\\sciPENN\\lib\\site-packages\\scanpy\\preprocessing\\_simple.py:843: UserWarning: Revieved a view of an AnnData. Making a copy.\n",
      "  view_to_actual(adata)\n"
     ]
    }
   ],
   "source": [
    "# Normalize totalvi output, and gold standard counts\n",
    "\n",
    "true_protein_test = AnnData(true_protein_test)\n",
    "imputed_proteins_test = AnnData(imputed_proteins_test)\n",
    "\n",
    "sc.pp.normalize_total(true_protein_test)\n",
    "sc.pp.log1p(true_protein_test)\n",
    "\n",
    "sc.pp.normalize_total(imputed_proteins_test)\n",
    "sc.pp.log1p(imputed_proteins_test)\n",
    "\n",
    "for patient in test_patients:\n",
    "    indices = [x == patient for x in patients]\n",
    "    sub_adata = imputed_proteins_test[indices]\n",
    "    sc.pp.scale(sub_adata)\n",
    "    imputed_proteins_test[indices] = sub_adata.X\n",
    "    \n",
    "    sub_adata = true_protein_test[indices]\n",
    "    sc.pp.scale(sub_adata)\n",
    "    true_protein_test[indices] = sub_adata.X\n",
    "    \n",
    "true_protein_test = pd.DataFrame(true_protein_test.X, index = cells, columns = proteins)\n",
    "imputed_proteins_test = pd.DataFrame(imputed_proteins_test.X, index = cells, columns = proteins)"
   ]
  },
  {
   "cell_type": "code",
   "execution_count": 33,
   "metadata": {
    "ExecuteTime": {
     "start_time": "2024-03-03T16:07:09.502409Z",
     "end_time": "2024-03-03T16:07:09.605658Z"
    }
   },
   "outputs": [],
   "source": [
    "sq = lambda x, y: (x - y)**2"
   ]
  },
  {
   "cell_type": "code",
   "execution_count": 34,
   "metadata": {
    "ExecuteTime": {
     "start_time": "2024-03-03T16:07:17.126638Z",
     "end_time": "2024-03-03T16:07:17.369007Z"
    }
   },
   "outputs": [],
   "source": [
    "corrs_table = np.zeros((imputed_proteins_test.shape[1], len(np.unique(patients))))\n",
    "sq_table = corrs_table.copy()\n",
    "\n",
    "for i, patient in enumerate(np.unique(patients)):\n",
    "    truth = true_protein_test[patients == patient].to_numpy()\n",
    "    imputed = imputed_proteins_test[patients == patient].to_numpy()\n",
    "\n",
    "    corrs_table[:, i] = corr2_coeff(truth.T, imputed.T)\n",
    "    sq_table[:, i] = sq(truth, imputed).mean(axis = 0)\n",
    "\n",
    "if np.isnan(corrs_table).sum() > 0:\n",
    "    corrs_table[np.isnan(corrs_table)] = 0\n",
    "    \n",
    "corrs_table = pd.DataFrame(corrs_table)\n",
    "sq_table = pd.DataFrame(sq_table)\n",
    "corrs_table.index, corrs_table.columns = imputed_proteins_test.columns, np.unique(patients)\n",
    "sq_table.index, sq_table.columns = imputed_proteins_test.columns, np.unique(patients)"
   ]
  },
  {
   "cell_type": "code",
   "execution_count": 35,
   "metadata": {
    "scrolled": true,
    "ExecuteTime": {
     "start_time": "2024-03-03T16:07:18.418141Z",
     "end_time": "2024-03-03T16:07:18.525713Z"
    }
   },
   "outputs": [
    {
     "data": {
      "text/plain": "200_d0    0.529991\n201_d0    0.535947\n205_d0    0.541014\n207_d0    0.528321\n209_d0    0.537711\n212_d0    0.530270\n215_d0    0.549323\n229_d0    0.547819\n233_d0    0.535824\n234_d0    0.566805\n236_d0    0.519249\n237_d0    0.516355\n245_d0    0.515567\n250_d0    0.524233\n256_d0    0.553616\n261_d0    0.522329\n268_d0    0.548493\n273_d0    0.500887\n277_d0    0.532409\n279_d0    0.523650\ndtype: float64"
     },
     "execution_count": 35,
     "metadata": {},
     "output_type": "execute_result"
    }
   ],
   "source": [
    "#here are correlations\n",
    "\n",
    "corrs_table.mean()"
   ]
  },
  {
   "cell_type": "code",
   "execution_count": 36,
   "metadata": {
    "scrolled": true,
    "ExecuteTime": {
     "start_time": "2024-03-03T16:07:22.813120Z",
     "end_time": "2024-03-03T16:07:22.919218Z"
    }
   },
   "outputs": [
    {
     "data": {
      "text/plain": "0.532990590010494"
     },
     "execution_count": 36,
     "metadata": {},
     "output_type": "execute_result"
    }
   ],
   "source": [
    "#here are correlations\n",
    "corrs_table.mean().mean()"
   ]
  },
  {
   "cell_type": "code",
   "execution_count": 37,
   "metadata": {
    "ExecuteTime": {
     "start_time": "2024-03-03T16:08:04.539905Z",
     "end_time": "2024-03-03T16:08:04.646066Z"
    }
   },
   "outputs": [],
   "source": [
    "corrs_table.to_csv('corrs_results/totalvi_pbmctoh1n1.csv')"
   ]
  },
  {
   "cell_type": "code",
   "execution_count": 38,
   "metadata": {
    "ExecuteTime": {
     "start_time": "2024-03-03T16:08:05.935498Z",
     "end_time": "2024-03-03T16:08:06.051929Z"
    }
   },
   "outputs": [
    {
     "data": {
      "text/plain": "200_d0    0.939698\n201_d0    0.927669\n205_d0    0.917780\n207_d0    0.943028\n209_d0    0.924270\n212_d0    0.939181\n215_d0    0.901016\n229_d0    0.903860\n233_d0    0.927871\n234_d0    0.865977\n236_d0    0.960806\n237_d0    0.966936\n245_d0    0.968479\n250_d0    0.951081\n256_d0    0.892393\n261_d0    0.954920\n268_d0    0.902764\n273_d0    0.997928\n277_d0    0.934849\n279_d0    0.952322\ndtype: float64"
     },
     "execution_count": 38,
     "metadata": {},
     "output_type": "execute_result"
    }
   ],
   "source": [
    "sq_table.mean()"
   ]
  },
  {
   "cell_type": "code",
   "execution_count": 39,
   "metadata": {
    "ExecuteTime": {
     "start_time": "2024-03-03T16:08:08.268960Z",
     "end_time": "2024-03-03T16:08:08.363243Z"
    }
   },
   "outputs": [
    {
     "data": {
      "text/plain": "0.9336413932553793"
     },
     "execution_count": 39,
     "metadata": {},
     "output_type": "execute_result"
    }
   ],
   "source": [
    "sq_table.mean().mean()"
   ]
  },
  {
   "cell_type": "code",
   "execution_count": 40,
   "metadata": {
    "ExecuteTime": {
     "start_time": "2024-03-03T16:08:55.194749Z",
     "end_time": "2024-03-03T16:08:55.295778Z"
    }
   },
   "outputs": [],
   "source": [
    "sq_table.to_csv('mse_results/totalvi_pbmctoh1n1.csv')"
   ]
  },
  {
   "cell_type": "code",
   "execution_count": 41,
   "metadata": {
    "ExecuteTime": {
     "start_time": "2024-03-03T16:08:56.347098Z",
     "end_time": "2024-03-03T16:08:58.234996Z"
    }
   },
   "outputs": [],
   "source": [
    "imputed_proteins_test.to_csv('totalvi_pbmctoh1n1features.csv')"
   ]
  },
  {
   "cell_type": "code",
   "execution_count": null,
   "outputs": [],
   "source": [],
   "metadata": {
    "collapsed": false
   }
  }
 ],
 "metadata": {
  "kernelspec": {
   "name": "python3",
   "language": "python",
   "display_name": "Python 3 (ipykernel)"
  },
  "language_info": {
   "codemirror_mode": {
    "name": "ipython",
    "version": 3
   },
   "file_extension": ".py",
   "mimetype": "text/x-python",
   "name": "python",
   "nbconvert_exporter": "python",
   "pygments_lexer": "ipython3",
   "version": "3.7.0"
  }
 },
 "nbformat": 4,
 "nbformat_minor": 4
}
