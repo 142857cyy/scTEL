{
 "cells": [
  {
   "cell_type": "markdown",
   "metadata": {},
   "source": [
    "## Import packages"
   ]
  },
  {
   "cell_type": "code",
   "execution_count": 1,
   "metadata": {
    "ExecuteTime": {
     "start_time": "2024-01-15T20:12:00.435890Z",
     "end_time": "2024-01-15T20:12:03.558687Z"
    }
   },
   "outputs": [
    {
     "name": "stderr",
     "output_type": "stream",
     "text": [
      "Global seed set to 0\n"
     ]
    },
    {
     "name": "stdout",
     "output_type": "stream",
     "text": [
      "0.14.6\n"
     ]
    }
   ],
   "source": [
    "%load_ext autoreload\n",
    "%autoreload 2\n",
    "\n",
    "import sys\n",
    "import numpy as np\n",
    "import seaborn as sns\n",
    "import pandas as pd\n",
    "import pickle\n",
    "import scanpy as sc\n",
    "# sc.set_figure_params(dpi=100, dpi_save=300)\n",
    "import scvi\n",
    "import anndata as ad\n",
    "from matplotlib import pyplot, cm\n",
    "import os\n",
    "from math import ceil\n",
    "from scipy.stats import spearmanr\n",
    "import math\n",
    "\n",
    "import leidenalg\n",
    "\n",
    "from anndata import AnnData\n",
    "import scanpy as sc\n",
    "from scanpy import read\n",
    "import pandas as pd\n",
    "from sciPENN.Preprocessing import preprocess\n",
    "\n",
    "import matplotlib.pyplot as plt\n",
    "print(scvi.__version__)"
   ]
  },
  {
   "cell_type": "markdown",
   "metadata": {},
   "source": [
    "# Read data: Pbmc (train), H1N1 (test)"
   ]
  },
  {
   "cell_type": "code",
   "execution_count": 2,
   "metadata": {
    "ExecuteTime": {
     "start_time": "2024-01-15T20:13:11.409061Z",
     "end_time": "2024-01-15T20:13:28.403408Z"
    }
   },
   "outputs": [],
   "source": [
    "adata_gene = sc.read(\"../Data/pbmc/pbmc_gene.h5ad\")\n",
    "adata_protein = sc.read(\"../Data/pbmc/pbmc_protein.h5ad\")\n",
    "\n",
    "doublet_bool = (adata_gene.obs['celltype.l2'] != 'Doublet')\n",
    "\n",
    "adata_gene = adata_gene[doublet_bool].copy()\n",
    "adata_protein = adata_protein[doublet_bool].copy()\n",
    "\n",
    "train_patients = ['P1', 'P3', 'P4', 'P7']\n",
    "test_patients = np.setdiff1d(np.unique(adata_protein.obs['donor']), train_patients)\n",
    "\n",
    "train_bools = [x in train_patients for x in adata_gene.obs['donor']]\n",
    "test_bools = np.invert(train_bools)\n",
    "\n",
    "adata_gene_test = adata_gene[test_bools].copy()\n",
    "adata_protein_test = adata_protein[test_bools].copy()\n",
    "\n",
    "adata_gene = adata_gene[train_bools].copy()\n",
    "adata_protein = adata_protein[train_bools].copy()"
   ]
  },
  {
   "cell_type": "markdown",
   "metadata": {},
   "source": [
    "# Selecting highly variable genes - using gene expression measures from test data "
   ]
  },
  {
   "cell_type": "code",
   "execution_count": 3,
   "metadata": {
    "ExecuteTime": {
     "start_time": "2024-01-15T20:13:30.861524Z",
     "end_time": "2024-01-15T20:14:31.159788Z"
    }
   },
   "outputs": [
    {
     "name": "stdout",
     "output_type": "stream",
     "text": [
      "\n",
      "QC Filtering Training Cells\n",
      "QC Filtering Testing Cells\n",
      "\n",
      "QC Filtering Training Genes\n",
      "QC Filtering Testing Genes\n",
      "\n",
      "Normalizing Training Cells\n",
      "Normalizing Testing Cells\n",
      "\n",
      "Log-Normalizing Training Data\n",
      "Log-Normalizing Testing Data\n",
      "\n",
      "Finding HVGs\n"
     ]
    },
    {
     "name": "stderr",
     "output_type": "stream",
     "text": [
      "C:\\Users\\26074\\.conda\\envs\\sciPENN\\lib\\site-packages\\anndata\\_core\\anndata.py:1785: FutureWarning: X.dtype being converted to np.float32 from float64. In the next version of anndata (0.9) conversion will not be automatic. Pass dtype explicitly to avoid this warning. Pass `AnnData(X, dtype=X.dtype, ...)` to get the future behavour.\n",
      "  [AnnData(sparse.csr_matrix(a.shape), obs=a.obs) for a in all_adatas],\n",
      "C:\\Users\\26074\\.conda\\envs\\sciPENN\\lib\\site-packages\\pandas\\core\\indexing.py:1732: SettingWithCopyWarning: \n",
      "A value is trying to be set on a copy of a slice from a DataFrame\n",
      "\n",
      "See the caveats in the documentation: https://pandas.pydata.org/pandas-docs/stable/user_guide/indexing.html#returning-a-view-versus-a-copy\n",
      "  self._setitem_single_block(indexer, value, name)\n"
     ]
    },
    {
     "name": "stdout",
     "output_type": "stream",
     "text": [
      "\n",
      "Normalizing Gene Training Data by Batch\n"
     ]
    },
    {
     "name": "stderr",
     "output_type": "stream",
     "text": [
      "100%|██████████| 4/4 [00:01<00:00,  3.42it/s]\n"
     ]
    },
    {
     "name": "stdout",
     "output_type": "stream",
     "text": [
      "\n",
      "Normalizing Protein Training Data by Batch\n"
     ]
    },
    {
     "name": "stderr",
     "output_type": "stream",
     "text": [
      "100%|██████████| 4/4 [00:00<00:00,  6.49it/s]\n"
     ]
    },
    {
     "name": "stdout",
     "output_type": "stream",
     "text": [
      "\n",
      "Normalizing Gene Testing Data by Batch\n"
     ]
    },
    {
     "name": "stderr",
     "output_type": "stream",
     "text": [
      "100%|██████████| 4/4 [00:01<00:00,  3.04it/s]\n"
     ]
    }
   ],
   "source": [
    "gene_train, protein_train, gene_test, bools, train_keys, categories = preprocess([adata_gene], [adata_protein], adata_gene_test, train_batchkeys = [\"donor\"], test_batchkey = \"donor\", gene_list = [], select_hvg = True, cell_normalize = True, log_normalize = True, gene_normalize = True, min_cells = 30, min_genes = 200)"
   ]
  },
  {
   "cell_type": "code",
   "execution_count": 4,
   "metadata": {
    "ExecuteTime": {
     "start_time": "2024-01-15T20:14:34.668693Z",
     "end_time": "2024-01-15T20:14:34.778075Z"
    }
   },
   "outputs": [],
   "source": [
    "hvg = gene_test.var_names\n",
    "cells_test = gene_test.obs_names\n",
    "cells_train = gene_train.obs_names"
   ]
  },
  {
   "cell_type": "code",
   "execution_count": 5,
   "metadata": {
    "ExecuteTime": {
     "start_time": "2024-01-15T20:14:37.120658Z",
     "end_time": "2024-01-15T20:14:38.059715Z"
    }
   },
   "outputs": [
    {
     "data": {
      "text/plain": "3598"
     },
     "execution_count": 5,
     "metadata": {},
     "output_type": "execute_result"
    }
   ],
   "source": [
    "del gene_train\n",
    "del gene_test\n",
    "del protein_train\n",
    "\n",
    "import gc\n",
    "gc.collect()"
   ]
  },
  {
   "cell_type": "markdown",
   "metadata": {},
   "source": [
    "# Format data"
   ]
  },
  {
   "cell_type": "code",
   "execution_count": 6,
   "metadata": {
    "ExecuteTime": {
     "start_time": "2024-01-15T20:14:43.377977Z",
     "end_time": "2024-01-15T20:14:43.487502Z"
    }
   },
   "outputs": [],
   "source": [
    "# What proteins overlap between the test and train data?\n",
    "\n",
    "train_protein = adata_protein.var_names\n",
    "test_protein = adata_protein_test.var_names\n",
    "overlap_protein = train_protein[train_protein.isin(test_protein)]"
   ]
  },
  {
   "cell_type": "code",
   "execution_count": 7,
   "metadata": {
    "ExecuteTime": {
     "start_time": "2024-01-15T20:14:45.161755Z",
     "end_time": "2024-01-15T20:14:45.447559Z"
    }
   },
   "outputs": [],
   "source": [
    "## Subsetting the data by the HVG - pbmc\n",
    "\n",
    "adata_gene_pbmc_hvg = adata_gene[cells_train, hvg].copy()"
   ]
  },
  {
   "cell_type": "code",
   "execution_count": 8,
   "metadata": {
    "ExecuteTime": {
     "start_time": "2024-01-15T20:14:46.021552Z",
     "end_time": "2024-01-15T20:14:46.825320Z"
    }
   },
   "outputs": [],
   "source": [
    "\n",
    "## Subsetting the data by the HVG - h1n1\n",
    "\n",
    "adata_gene_h1n1_hvg = adata_gene_test[cells_test, hvg].copy()"
   ]
  },
  {
   "cell_type": "code",
   "execution_count": 9,
   "metadata": {
    "ExecuteTime": {
     "start_time": "2024-01-15T20:14:48.756052Z",
     "end_time": "2024-01-15T20:14:48.866422Z"
    }
   },
   "outputs": [
    {
     "data": {
      "text/plain": "1.0"
     },
     "execution_count": 9,
     "metadata": {},
     "output_type": "execute_result"
    }
   ],
   "source": [
    "(adata_gene_pbmc_hvg.var.index == adata_gene_h1n1_hvg.var.index).mean()"
   ]
  },
  {
   "cell_type": "code",
   "execution_count": 10,
   "metadata": {
    "ExecuteTime": {
     "start_time": "2024-01-15T20:14:50.554830Z",
     "end_time": "2024-01-15T20:14:51.748835Z"
    }
   },
   "outputs": [],
   "source": [
    "adata_protein = adata_protein[cells_train, :].copy()\n",
    "adata_protein_test = adata_protein_test[cells_test, :].copy()"
   ]
  },
  {
   "cell_type": "code",
   "execution_count": 11,
   "metadata": {
    "ExecuteTime": {
     "start_time": "2024-01-15T20:14:54.583936Z",
     "end_time": "2024-01-15T20:14:54.695225Z"
    }
   },
   "outputs": [],
   "source": [
    "# Batches (subject) in training data - pbmc (8 subjects)\n",
    "\n",
    "adata_gene_pbmc_hvg.obs['patient'] = pd.DataFrame(adata_gene_pbmc_hvg.obs['donor']).copy()\n",
    "adata_gene_pbmc_hvg.obs['patient'] = adata_gene_pbmc_hvg.obs['patient'].astype(\"str\")"
   ]
  },
  {
   "cell_type": "code",
   "execution_count": 12,
   "metadata": {
    "ExecuteTime": {
     "start_time": "2024-01-15T20:14:56.805764Z",
     "end_time": "2024-01-15T20:14:56.899989Z"
    }
   },
   "outputs": [],
   "source": [
    "# Batches (subject) in test data - h1n1 (20 subjects)\n",
    "\n",
    "adata_gene_h1n1_hvg.obs['patient'] = pd.DataFrame(adata_gene_h1n1_hvg.obs['donor']).copy()\n",
    "adata_gene_h1n1_hvg.obs['patient'] = adata_gene_h1n1_hvg.obs['patient'].astype(\"str\")"
   ]
  },
  {
   "cell_type": "code",
   "execution_count": 13,
   "metadata": {
    "ExecuteTime": {
     "start_time": "2024-01-15T20:14:58.005431Z",
     "end_time": "2024-01-15T20:14:58.858383Z"
    }
   },
   "outputs": [],
   "source": [
    "## Combine data\n",
    "\n",
    "adata = ad.concat([adata_gene_pbmc_hvg.copy(), adata_gene_h1n1_hvg.copy()],\n",
    "                     join='outer')"
   ]
  },
  {
   "cell_type": "markdown",
   "metadata": {},
   "source": [
    "### Note: Train on PBMC"
   ]
  },
  {
   "cell_type": "markdown",
   "metadata": {},
   "source": [
    "# Subset data based on HVGs and Hold Out Test Protein Set"
   ]
  },
  {
   "cell_type": "code",
   "execution_count": 14,
   "metadata": {
    "ExecuteTime": {
     "start_time": "2024-01-15T20:15:04.372946Z",
     "end_time": "2024-01-15T20:15:04.560836Z"
    }
   },
   "outputs": [],
   "source": [
    "adata_final = adata.copy()"
   ]
  },
  {
   "cell_type": "code",
   "execution_count": 15,
   "metadata": {
    "ExecuteTime": {
     "start_time": "2024-01-15T20:15:05.925268Z",
     "end_time": "2024-01-15T20:15:06.256909Z"
    }
   },
   "outputs": [],
   "source": [
    "held_out_proteins = adata_protein_test[cells_test, overlap_protein].copy()"
   ]
  },
  {
   "cell_type": "markdown",
   "metadata": {},
   "source": [
    "### Now we hold-out the proteins for the test patients dataset. To do so, we can replace all the values with 0s. We will store the original values to validate after training."
   ]
  },
  {
   "cell_type": "code",
   "execution_count": 16,
   "metadata": {
    "ExecuteTime": {
     "start_time": "2024-01-15T20:15:10.593180Z",
     "end_time": "2024-01-15T20:15:10.781091Z"
    }
   },
   "outputs": [],
   "source": [
    "n, p = adata_protein.shape\n",
    "n_test, p_test = adata_protein_test.shape\n",
    "\n",
    "protein_dat = pd.DataFrame(np.zeros(shape = (n + n_test, p), dtype = 'float32'), \n",
    "                           index = list(adata_protein.obs_names) + list(adata_protein_test.obs_names),\n",
    "                           columns = adata_protein.var_names)\n",
    "\n",
    "protein_dat.iloc[:n] = adata_protein.X.toarray().copy() #fill the protein training data, leave test data as 0s\n",
    "\n",
    "adata_final.obsm[\"protein_expression\"] = protein_dat\n",
    "\n",
    "meta_data = adata_protein_test.obs.copy()\n",
    "var_data = adata_protein_test.var.copy()"
   ]
  },
  {
   "cell_type": "markdown",
   "metadata": {},
   "source": [
    "# Remove additional data from memory:"
   ]
  },
  {
   "cell_type": "code",
   "execution_count": 17,
   "metadata": {
    "ExecuteTime": {
     "start_time": "2024-01-15T20:15:12.027798Z",
     "end_time": "2024-01-15T20:15:12.137676Z"
    }
   },
   "outputs": [],
   "source": [
    "del adata_gene\n",
    "del adata_protein\n",
    "del adata_protein_test\n",
    "del adata_gene_test\n",
    "del adata_gene_pbmc_hvg\n",
    "del adata"
   ]
  },
  {
   "cell_type": "markdown",
   "metadata": {},
   "source": [
    "# Run TotalVI"
   ]
  },
  {
   "cell_type": "code",
   "execution_count": 18,
   "metadata": {
    "ExecuteTime": {
     "start_time": "2024-01-15T20:15:15.284937Z",
     "end_time": "2024-01-15T20:15:16.013246Z"
    }
   },
   "outputs": [
    {
     "name": "stdout",
     "output_type": "stream",
     "text": [
      "\u001B[34mINFO    \u001B[0m Using batches from adata.obs\u001B[1m[\u001B[0m\u001B[32m\"patient\"\u001B[0m\u001B[1m]\u001B[0m                                                                   \n",
      "\u001B[34mINFO    \u001B[0m No label_key inputted, assuming all cells have same label                                                 \n",
      "\u001B[34mINFO    \u001B[0m Using data from adata.X                                                                                   \n"
     ]
    },
    {
     "name": "stderr",
     "output_type": "stream",
     "text": [
      "C:\\Users\\26074\\.conda\\envs\\sciPENN\\lib\\site-packages\\sklearn\\utils\\deprecation.py:87: FutureWarning: Function setup_anndata is deprecated; Please use the model-specific setup_anndata methods instead. The global method will be removed in version 0.15.0.\n",
      "  warnings.warn(msg, category=FutureWarning)\n"
     ]
    },
    {
     "name": "stdout",
     "output_type": "stream",
     "text": [
      "\u001B[34mINFO    \u001B[0m Using protein expression from adata.obsm\u001B[1m[\u001B[0m\u001B[32m'protein_expression'\u001B[0m\u001B[1m]\u001B[0m                                            \n",
      "\u001B[34mINFO    \u001B[0m Using protein names from columns of adata.obsm\u001B[1m[\u001B[0m\u001B[32m'protein_expression'\u001B[0m\u001B[1m]\u001B[0m                                      \n",
      "\u001B[34mINFO    \u001B[0m Found batches with missing protein expression                                                             \n",
      "\u001B[34mINFO    \u001B[0m Successfully registered anndata object containing \u001B[1;36m161143\u001B[0m cells, \u001B[1;36m1000\u001B[0m vars, \u001B[1;36m8\u001B[0m batches, \u001B[1;36m1\u001B[0m labels, and \u001B[1;36m224\u001B[0m   \n",
      "         proteins. Also registered \u001B[1;36m0\u001B[0m extra categorical covariates and \u001B[1;36m0\u001B[0m extra continuous covariates.               \n",
      "\u001B[34mINFO    \u001B[0m Please do not further modify adata until model is trained.                                                \n"
     ]
    }
   ],
   "source": [
    "scvi.data.setup_anndata(adata_final, batch_key=\"patient\", \n",
    "                        protein_expression_obsm_key=\"protein_expression\")"
   ]
  },
  {
   "cell_type": "code",
   "execution_count": 19,
   "metadata": {
    "ExecuteTime": {
     "start_time": "2024-01-15T20:15:17.153012Z",
     "end_time": "2024-01-15T20:15:17.335102Z"
    }
   },
   "outputs": [
    {
     "data": {
      "text/plain": "index                  CD80  CD86  CD274  CD273  CD275-1  CD11b-1  Galectin-9  \\\nL1_AAACCCAAGACATACA     0.0   6.0    1.0    2.0      7.0     61.0        16.0   \nL1_AAACCCACAACTGGTT     2.0   5.0    0.0    2.0     10.0     51.0         8.0   \nL1_AAACCCACACGTACTA     1.0   2.0    4.0    1.0      8.0     62.0         3.0   \nL1_AAACCCACAGCATACT     2.0   3.0    8.0    4.0      8.0     40.0        10.0   \nL1_AAACCCACATCAGTCA     1.0   3.0    2.0    1.0      3.0     47.0        12.0   \n...                     ...   ...    ...    ...      ...      ...         ...   \nE2L8_TTTGTTGGTCGTGATT   0.0   0.0    0.0    0.0      0.0      0.0         0.0   \nE2L8_TTTGTTGGTGTGCCTG   0.0   0.0    0.0    0.0      0.0      0.0         0.0   \nE2L8_TTTGTTGGTTAGTTCG   0.0   0.0    0.0    0.0      0.0      0.0         0.0   \nE2L8_TTTGTTGGTTGGCTAT   0.0   0.0    0.0    0.0      0.0      0.0         0.0   \nE2L8_TTTGTTGTCTCATGGA   0.0   0.0    0.0    0.0      0.0      0.0         0.0   \n\nindex                  CD270  CD252  CD155  ...  CD161  CCR10  CD271  GP130  \\\nL1_AAACCCAAGACATACA     13.0    4.0    2.0  ...   13.0   13.0    4.0    7.0   \nL1_AAACCCACAACTGGTT     10.0    1.0    6.0  ...    0.0   14.0    6.0    3.0   \nL1_AAACCCACACGTACTA      4.0    0.0    4.0  ...    8.0   19.0    4.0    2.0   \nL1_AAACCCACAGCATACT      8.0    3.0    4.0  ...    0.0   13.0    4.0   11.0   \nL1_AAACCCACATCAGTCA      9.0    1.0    2.0  ...    2.0   15.0    6.0    4.0   \n...                      ...    ...    ...  ...    ...    ...    ...    ...   \nE2L8_TTTGTTGGTCGTGATT    0.0    0.0    0.0  ...    0.0    0.0    0.0    0.0   \nE2L8_TTTGTTGGTGTGCCTG    0.0    0.0    0.0  ...    0.0    0.0    0.0    0.0   \nE2L8_TTTGTTGGTTAGTTCG    0.0    0.0    0.0  ...    0.0    0.0    0.0    0.0   \nE2L8_TTTGTTGGTTGGCTAT    0.0    0.0    0.0  ...    0.0    0.0    0.0    0.0   \nE2L8_TTTGTTGTCTCATGGA    0.0    0.0    0.0  ...    0.0    0.0    0.0    0.0   \n\nindex                  CD199  CD45RB  CD46  VEGFR-3  CLEC2  CD26-2  \nL1_AAACCCAAGACATACA      6.0    10.0  25.0      3.0   24.0    17.0  \nL1_AAACCCACAACTGGTT     16.0    27.0  27.0      6.0   27.0    17.0  \nL1_AAACCCACACGTACTA      6.0     2.0  10.0      4.0   27.0     6.0  \nL1_AAACCCACAGCATACT      5.0    35.0  35.0      1.0   41.0    13.0  \nL1_AAACCCACATCAGTCA     15.0    11.0  24.0      3.0   39.0    10.0  \n...                      ...     ...   ...      ...    ...     ...  \nE2L8_TTTGTTGGTCGTGATT    0.0     0.0   0.0      0.0    0.0     0.0  \nE2L8_TTTGTTGGTGTGCCTG    0.0     0.0   0.0      0.0    0.0     0.0  \nE2L8_TTTGTTGGTTAGTTCG    0.0     0.0   0.0      0.0    0.0     0.0  \nE2L8_TTTGTTGGTTGGCTAT    0.0     0.0   0.0      0.0    0.0     0.0  \nE2L8_TTTGTTGTCTCATGGA    0.0     0.0   0.0      0.0    0.0     0.0  \n\n[161143 rows x 224 columns]",
      "text/html": "<div>\n<style scoped>\n    .dataframe tbody tr th:only-of-type {\n        vertical-align: middle;\n    }\n\n    .dataframe tbody tr th {\n        vertical-align: top;\n    }\n\n    .dataframe thead th {\n        text-align: right;\n    }\n</style>\n<table border=\"1\" class=\"dataframe\">\n  <thead>\n    <tr style=\"text-align: right;\">\n      <th>index</th>\n      <th>CD80</th>\n      <th>CD86</th>\n      <th>CD274</th>\n      <th>CD273</th>\n      <th>CD275-1</th>\n      <th>CD11b-1</th>\n      <th>Galectin-9</th>\n      <th>CD270</th>\n      <th>CD252</th>\n      <th>CD155</th>\n      <th>...</th>\n      <th>CD161</th>\n      <th>CCR10</th>\n      <th>CD271</th>\n      <th>GP130</th>\n      <th>CD199</th>\n      <th>CD45RB</th>\n      <th>CD46</th>\n      <th>VEGFR-3</th>\n      <th>CLEC2</th>\n      <th>CD26-2</th>\n    </tr>\n  </thead>\n  <tbody>\n    <tr>\n      <th>L1_AAACCCAAGACATACA</th>\n      <td>0.0</td>\n      <td>6.0</td>\n      <td>1.0</td>\n      <td>2.0</td>\n      <td>7.0</td>\n      <td>61.0</td>\n      <td>16.0</td>\n      <td>13.0</td>\n      <td>4.0</td>\n      <td>2.0</td>\n      <td>...</td>\n      <td>13.0</td>\n      <td>13.0</td>\n      <td>4.0</td>\n      <td>7.0</td>\n      <td>6.0</td>\n      <td>10.0</td>\n      <td>25.0</td>\n      <td>3.0</td>\n      <td>24.0</td>\n      <td>17.0</td>\n    </tr>\n    <tr>\n      <th>L1_AAACCCACAACTGGTT</th>\n      <td>2.0</td>\n      <td>5.0</td>\n      <td>0.0</td>\n      <td>2.0</td>\n      <td>10.0</td>\n      <td>51.0</td>\n      <td>8.0</td>\n      <td>10.0</td>\n      <td>1.0</td>\n      <td>6.0</td>\n      <td>...</td>\n      <td>0.0</td>\n      <td>14.0</td>\n      <td>6.0</td>\n      <td>3.0</td>\n      <td>16.0</td>\n      <td>27.0</td>\n      <td>27.0</td>\n      <td>6.0</td>\n      <td>27.0</td>\n      <td>17.0</td>\n    </tr>\n    <tr>\n      <th>L1_AAACCCACACGTACTA</th>\n      <td>1.0</td>\n      <td>2.0</td>\n      <td>4.0</td>\n      <td>1.0</td>\n      <td>8.0</td>\n      <td>62.0</td>\n      <td>3.0</td>\n      <td>4.0</td>\n      <td>0.0</td>\n      <td>4.0</td>\n      <td>...</td>\n      <td>8.0</td>\n      <td>19.0</td>\n      <td>4.0</td>\n      <td>2.0</td>\n      <td>6.0</td>\n      <td>2.0</td>\n      <td>10.0</td>\n      <td>4.0</td>\n      <td>27.0</td>\n      <td>6.0</td>\n    </tr>\n    <tr>\n      <th>L1_AAACCCACAGCATACT</th>\n      <td>2.0</td>\n      <td>3.0</td>\n      <td>8.0</td>\n      <td>4.0</td>\n      <td>8.0</td>\n      <td>40.0</td>\n      <td>10.0</td>\n      <td>8.0</td>\n      <td>3.0</td>\n      <td>4.0</td>\n      <td>...</td>\n      <td>0.0</td>\n      <td>13.0</td>\n      <td>4.0</td>\n      <td>11.0</td>\n      <td>5.0</td>\n      <td>35.0</td>\n      <td>35.0</td>\n      <td>1.0</td>\n      <td>41.0</td>\n      <td>13.0</td>\n    </tr>\n    <tr>\n      <th>L1_AAACCCACATCAGTCA</th>\n      <td>1.0</td>\n      <td>3.0</td>\n      <td>2.0</td>\n      <td>1.0</td>\n      <td>3.0</td>\n      <td>47.0</td>\n      <td>12.0</td>\n      <td>9.0</td>\n      <td>1.0</td>\n      <td>2.0</td>\n      <td>...</td>\n      <td>2.0</td>\n      <td>15.0</td>\n      <td>6.0</td>\n      <td>4.0</td>\n      <td>15.0</td>\n      <td>11.0</td>\n      <td>24.0</td>\n      <td>3.0</td>\n      <td>39.0</td>\n      <td>10.0</td>\n    </tr>\n    <tr>\n      <th>...</th>\n      <td>...</td>\n      <td>...</td>\n      <td>...</td>\n      <td>...</td>\n      <td>...</td>\n      <td>...</td>\n      <td>...</td>\n      <td>...</td>\n      <td>...</td>\n      <td>...</td>\n      <td>...</td>\n      <td>...</td>\n      <td>...</td>\n      <td>...</td>\n      <td>...</td>\n      <td>...</td>\n      <td>...</td>\n      <td>...</td>\n      <td>...</td>\n      <td>...</td>\n      <td>...</td>\n    </tr>\n    <tr>\n      <th>E2L8_TTTGTTGGTCGTGATT</th>\n      <td>0.0</td>\n      <td>0.0</td>\n      <td>0.0</td>\n      <td>0.0</td>\n      <td>0.0</td>\n      <td>0.0</td>\n      <td>0.0</td>\n      <td>0.0</td>\n      <td>0.0</td>\n      <td>0.0</td>\n      <td>...</td>\n      <td>0.0</td>\n      <td>0.0</td>\n      <td>0.0</td>\n      <td>0.0</td>\n      <td>0.0</td>\n      <td>0.0</td>\n      <td>0.0</td>\n      <td>0.0</td>\n      <td>0.0</td>\n      <td>0.0</td>\n    </tr>\n    <tr>\n      <th>E2L8_TTTGTTGGTGTGCCTG</th>\n      <td>0.0</td>\n      <td>0.0</td>\n      <td>0.0</td>\n      <td>0.0</td>\n      <td>0.0</td>\n      <td>0.0</td>\n      <td>0.0</td>\n      <td>0.0</td>\n      <td>0.0</td>\n      <td>0.0</td>\n      <td>...</td>\n      <td>0.0</td>\n      <td>0.0</td>\n      <td>0.0</td>\n      <td>0.0</td>\n      <td>0.0</td>\n      <td>0.0</td>\n      <td>0.0</td>\n      <td>0.0</td>\n      <td>0.0</td>\n      <td>0.0</td>\n    </tr>\n    <tr>\n      <th>E2L8_TTTGTTGGTTAGTTCG</th>\n      <td>0.0</td>\n      <td>0.0</td>\n      <td>0.0</td>\n      <td>0.0</td>\n      <td>0.0</td>\n      <td>0.0</td>\n      <td>0.0</td>\n      <td>0.0</td>\n      <td>0.0</td>\n      <td>0.0</td>\n      <td>...</td>\n      <td>0.0</td>\n      <td>0.0</td>\n      <td>0.0</td>\n      <td>0.0</td>\n      <td>0.0</td>\n      <td>0.0</td>\n      <td>0.0</td>\n      <td>0.0</td>\n      <td>0.0</td>\n      <td>0.0</td>\n    </tr>\n    <tr>\n      <th>E2L8_TTTGTTGGTTGGCTAT</th>\n      <td>0.0</td>\n      <td>0.0</td>\n      <td>0.0</td>\n      <td>0.0</td>\n      <td>0.0</td>\n      <td>0.0</td>\n      <td>0.0</td>\n      <td>0.0</td>\n      <td>0.0</td>\n      <td>0.0</td>\n      <td>...</td>\n      <td>0.0</td>\n      <td>0.0</td>\n      <td>0.0</td>\n      <td>0.0</td>\n      <td>0.0</td>\n      <td>0.0</td>\n      <td>0.0</td>\n      <td>0.0</td>\n      <td>0.0</td>\n      <td>0.0</td>\n    </tr>\n    <tr>\n      <th>E2L8_TTTGTTGTCTCATGGA</th>\n      <td>0.0</td>\n      <td>0.0</td>\n      <td>0.0</td>\n      <td>0.0</td>\n      <td>0.0</td>\n      <td>0.0</td>\n      <td>0.0</td>\n      <td>0.0</td>\n      <td>0.0</td>\n      <td>0.0</td>\n      <td>...</td>\n      <td>0.0</td>\n      <td>0.0</td>\n      <td>0.0</td>\n      <td>0.0</td>\n      <td>0.0</td>\n      <td>0.0</td>\n      <td>0.0</td>\n      <td>0.0</td>\n      <td>0.0</td>\n      <td>0.0</td>\n    </tr>\n  </tbody>\n</table>\n<p>161143 rows × 224 columns</p>\n</div>"
     },
     "execution_count": 19,
     "metadata": {},
     "output_type": "execute_result"
    }
   ],
   "source": [
    "adata_final.obsm[\"protein_expression\"]"
   ]
  },
  {
   "cell_type": "code",
   "execution_count": 20,
   "metadata": {
    "ExecuteTime": {
     "start_time": "2024-01-15T20:15:21.294821Z",
     "end_time": "2024-01-15T20:15:21.420174Z"
    }
   },
   "outputs": [
    {
     "name": "stderr",
     "output_type": "stream",
     "text": [
      "C:\\Users\\26074\\.conda\\envs\\sciPENN\\lib\\site-packages\\sklearn\\utils\\deprecation.py:87: FutureWarning: Function view_anndata_setup is deprecated; This method will be removed in 0.15.0. Please avoid building any new dependencies on it.\n",
      "  warnings.warn(msg, category=FutureWarning)\n"
     ]
    },
    {
     "data": {
      "text/plain": "Anndata setup with scvi-tools version \u001B[1;36m0.14\u001B[0m.\u001B[1;36m6\u001B[0m.\n",
      "text/html": "<pre style=\"white-space:pre;overflow-x:auto;line-height:normal;font-family:Menlo,'DejaVu Sans Mono',consolas,'Courier New',monospace\">Anndata setup with scvi-tools version <span style=\"color: #008080; text-decoration-color: #008080; font-weight: bold\">0.14</span>.<span style=\"color: #008080; text-decoration-color: #008080; font-weight: bold\">6</span>.\n</pre>\n"
     },
     "metadata": {},
     "output_type": "display_data"
    },
    {
     "data": {
      "text/plain": "\u001B[3m              Data Summary               \u001B[0m\n┏━━━━━━━━━━━━━━━━━━━━━━━━━━━━━━┳━━━━━━━━┓\n┃\u001B[1m \u001B[0m\u001B[1m            Data            \u001B[0m\u001B[1m \u001B[0m┃\u001B[1m \u001B[0m\u001B[1mCount \u001B[0m\u001B[1m \u001B[0m┃\n┡━━━━━━━━━━━━━━━━━━━━━━━━━━━━━━╇━━━━━━━━┩\n│\u001B[38;5;33m \u001B[0m\u001B[38;5;33m           Cells            \u001B[0m\u001B[38;5;33m \u001B[0m│\u001B[38;5;128m \u001B[0m\u001B[38;5;128m161143\u001B[0m\u001B[38;5;128m \u001B[0m│\n│\u001B[38;5;33m \u001B[0m\u001B[38;5;33m            Vars            \u001B[0m\u001B[38;5;33m \u001B[0m│\u001B[38;5;128m \u001B[0m\u001B[38;5;128m 1000 \u001B[0m\u001B[38;5;128m \u001B[0m│\n│\u001B[38;5;33m \u001B[0m\u001B[38;5;33m           Labels           \u001B[0m\u001B[38;5;33m \u001B[0m│\u001B[38;5;128m \u001B[0m\u001B[38;5;128m  1   \u001B[0m\u001B[38;5;128m \u001B[0m│\n│\u001B[38;5;33m \u001B[0m\u001B[38;5;33m          Batches           \u001B[0m\u001B[38;5;33m \u001B[0m│\u001B[38;5;128m \u001B[0m\u001B[38;5;128m  8   \u001B[0m\u001B[38;5;128m \u001B[0m│\n│\u001B[38;5;33m \u001B[0m\u001B[38;5;33m          Proteins          \u001B[0m\u001B[38;5;33m \u001B[0m│\u001B[38;5;128m \u001B[0m\u001B[38;5;128m 224  \u001B[0m\u001B[38;5;128m \u001B[0m│\n│\u001B[38;5;33m \u001B[0m\u001B[38;5;33mExtra Categorical Covariates\u001B[0m\u001B[38;5;33m \u001B[0m│\u001B[38;5;128m \u001B[0m\u001B[38;5;128m  0   \u001B[0m\u001B[38;5;128m \u001B[0m│\n│\u001B[38;5;33m \u001B[0m\u001B[38;5;33mExtra Continuous Covariates \u001B[0m\u001B[38;5;33m \u001B[0m│\u001B[38;5;128m \u001B[0m\u001B[38;5;128m  0   \u001B[0m\u001B[38;5;128m \u001B[0m│\n└──────────────────────────────┴────────┘\n",
      "text/html": "<pre style=\"white-space:pre;overflow-x:auto;line-height:normal;font-family:Menlo,'DejaVu Sans Mono',consolas,'Courier New',monospace\"><span style=\"font-style: italic\">              Data Summary               </span>\n┏━━━━━━━━━━━━━━━━━━━━━━━━━━━━━━┳━━━━━━━━┓\n┃<span style=\"font-weight: bold\">             Data             </span>┃<span style=\"font-weight: bold\"> Count  </span>┃\n┡━━━━━━━━━━━━━━━━━━━━━━━━━━━━━━╇━━━━━━━━┩\n│<span style=\"color: #0087ff; text-decoration-color: #0087ff\">            Cells             </span>│<span style=\"color: #af00d7; text-decoration-color: #af00d7\"> 161143 </span>│\n│<span style=\"color: #0087ff; text-decoration-color: #0087ff\">             Vars             </span>│<span style=\"color: #af00d7; text-decoration-color: #af00d7\">  1000  </span>│\n│<span style=\"color: #0087ff; text-decoration-color: #0087ff\">            Labels            </span>│<span style=\"color: #af00d7; text-decoration-color: #af00d7\">   1    </span>│\n│<span style=\"color: #0087ff; text-decoration-color: #0087ff\">           Batches            </span>│<span style=\"color: #af00d7; text-decoration-color: #af00d7\">   8    </span>│\n│<span style=\"color: #0087ff; text-decoration-color: #0087ff\">           Proteins           </span>│<span style=\"color: #af00d7; text-decoration-color: #af00d7\">  224   </span>│\n│<span style=\"color: #0087ff; text-decoration-color: #0087ff\"> Extra Categorical Covariates </span>│<span style=\"color: #af00d7; text-decoration-color: #af00d7\">   0    </span>│\n│<span style=\"color: #0087ff; text-decoration-color: #0087ff\"> Extra Continuous Covariates  </span>│<span style=\"color: #af00d7; text-decoration-color: #af00d7\">   0    </span>│\n└──────────────────────────────┴────────┘\n</pre>\n"
     },
     "metadata": {},
     "output_type": "display_data"
    },
    {
     "data": {
      "text/plain": "\u001B[3m                   SCVI Data Registry                    \u001B[0m\n┏━━━━━━━━━━━━━━━━━━━━┳━━━━━━━━━━━━━━━━━━━━━━━━━━━━━━━━━━┓\n┃\u001B[1m \u001B[0m\u001B[1m       Data       \u001B[0m\u001B[1m \u001B[0m┃\u001B[1m \u001B[0m\u001B[1m      scvi-tools Location       \u001B[0m\u001B[1m \u001B[0m┃\n┡━━━━━━━━━━━━━━━━━━━━╇━━━━━━━━━━━━━━━━━━━━━━━━━━━━━━━━━━┩\n│\u001B[38;5;33m \u001B[0m\u001B[38;5;33m        X         \u001B[0m\u001B[38;5;33m \u001B[0m│\u001B[38;5;128m \u001B[0m\u001B[38;5;128m            adata.X             \u001B[0m\u001B[38;5;128m \u001B[0m│\n│\u001B[38;5;33m \u001B[0m\u001B[38;5;33m  batch_indices   \u001B[0m\u001B[38;5;33m \u001B[0m│\u001B[38;5;128m \u001B[0m\u001B[38;5;128m    adata.obs['_scvi_batch']    \u001B[0m\u001B[38;5;128m \u001B[0m│\n│\u001B[38;5;33m \u001B[0m\u001B[38;5;33m      labels      \u001B[0m\u001B[38;5;33m \u001B[0m│\u001B[38;5;128m \u001B[0m\u001B[38;5;128m   adata.obs['_scvi_labels']    \u001B[0m\u001B[38;5;128m \u001B[0m│\n│\u001B[38;5;33m \u001B[0m\u001B[38;5;33mprotein_expression\u001B[0m\u001B[38;5;33m \u001B[0m│\u001B[38;5;128m \u001B[0m\u001B[38;5;128madata.obsm['protein_expression']\u001B[0m\u001B[38;5;128m \u001B[0m│\n└────────────────────┴──────────────────────────────────┘\n",
      "text/html": "<pre style=\"white-space:pre;overflow-x:auto;line-height:normal;font-family:Menlo,'DejaVu Sans Mono',consolas,'Courier New',monospace\"><span style=\"font-style: italic\">                   SCVI Data Registry                    </span>\n┏━━━━━━━━━━━━━━━━━━━━┳━━━━━━━━━━━━━━━━━━━━━━━━━━━━━━━━━━┓\n┃<span style=\"font-weight: bold\">        Data        </span>┃<span style=\"font-weight: bold\">       scvi-tools Location        </span>┃\n┡━━━━━━━━━━━━━━━━━━━━╇━━━━━━━━━━━━━━━━━━━━━━━━━━━━━━━━━━┩\n│<span style=\"color: #0087ff; text-decoration-color: #0087ff\">         X          </span>│<span style=\"color: #af00d7; text-decoration-color: #af00d7\">             adata.X              </span>│\n│<span style=\"color: #0087ff; text-decoration-color: #0087ff\">   batch_indices    </span>│<span style=\"color: #af00d7; text-decoration-color: #af00d7\">     adata.obs['_scvi_batch']     </span>│\n│<span style=\"color: #0087ff; text-decoration-color: #0087ff\">       labels       </span>│<span style=\"color: #af00d7; text-decoration-color: #af00d7\">    adata.obs['_scvi_labels']     </span>│\n│<span style=\"color: #0087ff; text-decoration-color: #0087ff\"> protein_expression </span>│<span style=\"color: #af00d7; text-decoration-color: #af00d7\"> adata.obsm['protein_expression'] </span>│\n└────────────────────┴──────────────────────────────────┘\n</pre>\n"
     },
     "metadata": {},
     "output_type": "display_data"
    },
    {
     "data": {
      "text/plain": "\u001B[3m                        Label Categories                        \u001B[0m\n┏━━━━━━━━━━━━━━━━━━━━━━━━━━━┳━━━━━━━━━━━━┳━━━━━━━━━━━━━━━━━━━━━┓\n┃\u001B[1m \u001B[0m\u001B[1m     Source Location     \u001B[0m\u001B[1m \u001B[0m┃\u001B[1m \u001B[0m\u001B[1mCategories\u001B[0m\u001B[1m \u001B[0m┃\u001B[1m \u001B[0m\u001B[1mscvi-tools Encoding\u001B[0m\u001B[1m \u001B[0m┃\n┡━━━━━━━━━━━━━━━━━━━━━━━━━━━╇━━━━━━━━━━━━╇━━━━━━━━━━━━━━━━━━━━━┩\n│\u001B[38;5;33m \u001B[0m\u001B[38;5;33madata.obs['_scvi_labels']\u001B[0m\u001B[38;5;33m \u001B[0m│\u001B[32m \u001B[0m\u001B[32m    0     \u001B[0m\u001B[32m \u001B[0m│\u001B[38;5;128m \u001B[0m\u001B[38;5;128m         0         \u001B[0m\u001B[38;5;128m \u001B[0m│\n└───────────────────────────┴────────────┴─────────────────────┘\n",
      "text/html": "<pre style=\"white-space:pre;overflow-x:auto;line-height:normal;font-family:Menlo,'DejaVu Sans Mono',consolas,'Courier New',monospace\"><span style=\"font-style: italic\">                        Label Categories                        </span>\n┏━━━━━━━━━━━━━━━━━━━━━━━━━━━┳━━━━━━━━━━━━┳━━━━━━━━━━━━━━━━━━━━━┓\n┃<span style=\"font-weight: bold\">      Source Location      </span>┃<span style=\"font-weight: bold\"> Categories </span>┃<span style=\"font-weight: bold\"> scvi-tools Encoding </span>┃\n┡━━━━━━━━━━━━━━━━━━━━━━━━━━━╇━━━━━━━━━━━━╇━━━━━━━━━━━━━━━━━━━━━┩\n│<span style=\"color: #0087ff; text-decoration-color: #0087ff\"> adata.obs['_scvi_labels'] </span>│<span style=\"color: #008000; text-decoration-color: #008000\">     0      </span>│<span style=\"color: #af00d7; text-decoration-color: #af00d7\">          0          </span>│\n└───────────────────────────┴────────────┴─────────────────────┘\n</pre>\n"
     },
     "metadata": {},
     "output_type": "display_data"
    },
    {
     "data": {
      "text/plain": "\u001B[3m                     Batch Categories                      \u001B[0m\n┏━━━━━━━━━━━━━━━━━━━━━━┳━━━━━━━━━━━━┳━━━━━━━━━━━━━━━━━━━━━┓\n┃\u001B[1m \u001B[0m\u001B[1m  Source Location   \u001B[0m\u001B[1m \u001B[0m┃\u001B[1m \u001B[0m\u001B[1mCategories\u001B[0m\u001B[1m \u001B[0m┃\u001B[1m \u001B[0m\u001B[1mscvi-tools Encoding\u001B[0m\u001B[1m \u001B[0m┃\n┡━━━━━━━━━━━━━━━━━━━━━━╇━━━━━━━━━━━━╇━━━━━━━━━━━━━━━━━━━━━┩\n│\u001B[38;5;33m \u001B[0m\u001B[38;5;33madata.obs['patient']\u001B[0m\u001B[38;5;33m \u001B[0m│\u001B[32m \u001B[0m\u001B[32m    P1    \u001B[0m\u001B[32m \u001B[0m│\u001B[38;5;128m \u001B[0m\u001B[38;5;128m         0         \u001B[0m\u001B[38;5;128m \u001B[0m│\n│\u001B[38;5;33m \u001B[0m\u001B[38;5;33m                    \u001B[0m\u001B[38;5;33m \u001B[0m│\u001B[32m \u001B[0m\u001B[32m    P2    \u001B[0m\u001B[32m \u001B[0m│\u001B[38;5;128m \u001B[0m\u001B[38;5;128m         1         \u001B[0m\u001B[38;5;128m \u001B[0m│\n│\u001B[38;5;33m \u001B[0m\u001B[38;5;33m                    \u001B[0m\u001B[38;5;33m \u001B[0m│\u001B[32m \u001B[0m\u001B[32m    P3    \u001B[0m\u001B[32m \u001B[0m│\u001B[38;5;128m \u001B[0m\u001B[38;5;128m         2         \u001B[0m\u001B[38;5;128m \u001B[0m│\n│\u001B[38;5;33m \u001B[0m\u001B[38;5;33m                    \u001B[0m\u001B[38;5;33m \u001B[0m│\u001B[32m \u001B[0m\u001B[32m    P4    \u001B[0m\u001B[32m \u001B[0m│\u001B[38;5;128m \u001B[0m\u001B[38;5;128m         3         \u001B[0m\u001B[38;5;128m \u001B[0m│\n│\u001B[38;5;33m \u001B[0m\u001B[38;5;33m                    \u001B[0m\u001B[38;5;33m \u001B[0m│\u001B[32m \u001B[0m\u001B[32m    P5    \u001B[0m\u001B[32m \u001B[0m│\u001B[38;5;128m \u001B[0m\u001B[38;5;128m         4         \u001B[0m\u001B[38;5;128m \u001B[0m│\n│\u001B[38;5;33m \u001B[0m\u001B[38;5;33m                    \u001B[0m\u001B[38;5;33m \u001B[0m│\u001B[32m \u001B[0m\u001B[32m    P6    \u001B[0m\u001B[32m \u001B[0m│\u001B[38;5;128m \u001B[0m\u001B[38;5;128m         5         \u001B[0m\u001B[38;5;128m \u001B[0m│\n│\u001B[38;5;33m \u001B[0m\u001B[38;5;33m                    \u001B[0m\u001B[38;5;33m \u001B[0m│\u001B[32m \u001B[0m\u001B[32m    P7    \u001B[0m\u001B[32m \u001B[0m│\u001B[38;5;128m \u001B[0m\u001B[38;5;128m         6         \u001B[0m\u001B[38;5;128m \u001B[0m│\n│\u001B[38;5;33m \u001B[0m\u001B[38;5;33m                    \u001B[0m\u001B[38;5;33m \u001B[0m│\u001B[32m \u001B[0m\u001B[32m    P8    \u001B[0m\u001B[32m \u001B[0m│\u001B[38;5;128m \u001B[0m\u001B[38;5;128m         7         \u001B[0m\u001B[38;5;128m \u001B[0m│\n└──────────────────────┴────────────┴─────────────────────┘\n",
      "text/html": "<pre style=\"white-space:pre;overflow-x:auto;line-height:normal;font-family:Menlo,'DejaVu Sans Mono',consolas,'Courier New',monospace\"><span style=\"font-style: italic\">                     Batch Categories                      </span>\n┏━━━━━━━━━━━━━━━━━━━━━━┳━━━━━━━━━━━━┳━━━━━━━━━━━━━━━━━━━━━┓\n┃<span style=\"font-weight: bold\">   Source Location    </span>┃<span style=\"font-weight: bold\"> Categories </span>┃<span style=\"font-weight: bold\"> scvi-tools Encoding </span>┃\n┡━━━━━━━━━━━━━━━━━━━━━━╇━━━━━━━━━━━━╇━━━━━━━━━━━━━━━━━━━━━┩\n│<span style=\"color: #0087ff; text-decoration-color: #0087ff\"> adata.obs['patient'] </span>│<span style=\"color: #008000; text-decoration-color: #008000\">     P1     </span>│<span style=\"color: #af00d7; text-decoration-color: #af00d7\">          0          </span>│\n│<span style=\"color: #0087ff; text-decoration-color: #0087ff\">                      </span>│<span style=\"color: #008000; text-decoration-color: #008000\">     P2     </span>│<span style=\"color: #af00d7; text-decoration-color: #af00d7\">          1          </span>│\n│<span style=\"color: #0087ff; text-decoration-color: #0087ff\">                      </span>│<span style=\"color: #008000; text-decoration-color: #008000\">     P3     </span>│<span style=\"color: #af00d7; text-decoration-color: #af00d7\">          2          </span>│\n│<span style=\"color: #0087ff; text-decoration-color: #0087ff\">                      </span>│<span style=\"color: #008000; text-decoration-color: #008000\">     P4     </span>│<span style=\"color: #af00d7; text-decoration-color: #af00d7\">          3          </span>│\n│<span style=\"color: #0087ff; text-decoration-color: #0087ff\">                      </span>│<span style=\"color: #008000; text-decoration-color: #008000\">     P5     </span>│<span style=\"color: #af00d7; text-decoration-color: #af00d7\">          4          </span>│\n│<span style=\"color: #0087ff; text-decoration-color: #0087ff\">                      </span>│<span style=\"color: #008000; text-decoration-color: #008000\">     P6     </span>│<span style=\"color: #af00d7; text-decoration-color: #af00d7\">          5          </span>│\n│<span style=\"color: #0087ff; text-decoration-color: #0087ff\">                      </span>│<span style=\"color: #008000; text-decoration-color: #008000\">     P7     </span>│<span style=\"color: #af00d7; text-decoration-color: #af00d7\">          6          </span>│\n│<span style=\"color: #0087ff; text-decoration-color: #0087ff\">                      </span>│<span style=\"color: #008000; text-decoration-color: #008000\">     P8     </span>│<span style=\"color: #af00d7; text-decoration-color: #af00d7\">          7          </span>│\n└──────────────────────┴────────────┴─────────────────────┘\n</pre>\n"
     },
     "metadata": {},
     "output_type": "display_data"
    }
   ],
   "source": [
    "scvi.data.view_anndata_setup(adata_final)"
   ]
  },
  {
   "cell_type": "code",
   "execution_count": 21,
   "metadata": {
    "ExecuteTime": {
     "start_time": "2024-01-15T20:15:27.218020Z",
     "end_time": "2024-01-15T20:15:30.778892Z"
    }
   },
   "outputs": [
    {
     "name": "stdout",
     "output_type": "stream",
     "text": [
      "\u001B[34mINFO    \u001B[0m Computing empirical prior initialization for protein background.                                          \n"
     ]
    },
    {
     "name": "stderr",
     "output_type": "stream",
     "text": [
      "C:\\Users\\26074\\.conda\\envs\\sciPENN\\lib\\site-packages\\scvi\\model\\_totalvi.py:124: UserWarning: Some proteins have all 0 counts in some batches. These proteins will be treated as missing measurements; however, this can occur due to experimental design/biology. Reinitialize the model with `override_missing_proteins=True`,to override this behavior.\n",
      "  warnings.warn(msg, UserWarning)\n"
     ]
    }
   ],
   "source": [
    "totalvae = scvi.model.TOTALVI(\n",
    "    adata_final,\n",
    "    latent_distribution = \"normal\",\n",
    "    n_layers_decoder = 2)"
   ]
  },
  {
   "cell_type": "code",
   "execution_count": 22,
   "metadata": {},
   "outputs": [
    {
     "name": "stderr",
     "output_type": "stream",
     "text": [
      "GPU available: True, used: True\n",
      "TPU available: False, using: 0 TPU cores\n",
      "LOCAL_RANK: 0 - CUDA_VISIBLE_DEVICES: [0]\n"
     ]
    },
    {
     "name": "stdout",
     "output_type": "stream",
     "text": [
      "Epoch 173/400:  43%|████▎     | 173/400 [1:05:06<1:21:37, 21.57s/it, loss=235, v_num=1]Epoch 00173: reducing learning rate of group 0 to 2.4000e-03.\n",
      "Epoch 215/400:  54%|█████▍    | 215/400 [1:20:29<1:55:38, 37.51s/it, loss=225, v_num=1]Epoch 00215: reducing learning rate of group 0 to 1.4400e-03.\n",
      "Epoch 282/400:  70%|███████   | 282/400 [1:58:13<1:06:12, 33.67s/it, loss=233, v_num=1]Epoch 00282: reducing learning rate of group 0 to 8.6400e-04.\n",
      "Epoch 323/400:  81%|████████  | 323/400 [2:15:10<24:24, 19.02s/it, loss=236, v_num=1]  Epoch 00323: reducing learning rate of group 0 to 5.1840e-04.\n",
      "Epoch 372/400:  93%|█████████▎| 372/400 [2:30:53<08:48, 18.87s/it, loss=233, v_num=1]Epoch 00372: reducing learning rate of group 0 to 3.1104e-04.\n",
      "Epoch 386/400:  96%|█████████▋| 386/400 [2:35:21<05:38, 24.15s/it, loss=233, v_num=1]\n"
     ]
    },
    {
     "data": {
      "text/plain": "<Figure size 640x480 with 1 Axes>",
      "image/png": "[encoded data removed]"
     },
     "metadata": {},
     "output_type": "display_data"
    }
   ],
   "source": [
    "# Training with the default number of epochs \n",
    "\n",
    "# Training with the default number of epochs \n",
    "n_epochs = 400\n",
    "lr = 4e-3\n",
    "\n",
    "if os.path.isdir('weights_dir/totalvi_seurattoseurat'):\n",
    "    totalvae = totalvae.load(\"weights_dir/totalvi_seurattoseurat\", adata = adata_final)\n",
    "else:\n",
    "    totalvae.train(max_epochs=400)\n",
    "    plt.plot(totalvae.history[\"elbo_validation\"], label=\"test\")\n",
    "    plt.title(\"Negative ELBO over training epochs\")\n",
    "    plt.legend()\n",
    "    \n",
    "    totalvae.save(\"weights_dir/totalvi_seurattoseurat\")"
   ]
  },
  {
   "cell_type": "markdown",
   "metadata": {},
   "source": [
    "# Analyze output - Results on training data"
   ]
  },
  {
   "cell_type": "code",
   "execution_count": 23,
   "metadata": {
    "ExecuteTime": {
     "start_time": "2024-01-15T22:50:54.395218Z",
     "end_time": "2024-01-15T22:51:24.323937Z"
    }
   },
   "outputs": [],
   "source": [
    "_, protein_means = totalvae.get_normalized_expression(\n",
    "    transform_batch=train_patients,\n",
    "    include_protein_background=True,\n",
    "    sample_protein_mixing=False,\n",
    "    return_mean=True,\n",
    ")"
   ]
  },
  {
   "cell_type": "markdown",
   "metadata": {},
   "source": [
    "#### Note that: transform_batch is a power parameter. Setting this allows one to predict the expression of cells as if they came from the inputted batch. In this case, we’ve observed protein expression in the training batchs “RPM211 and RPM232” (batch categories from original adata object), but we have no protein expression in the test batchs “RPM215 and RPM218”. We’d like to take the cells of the trainig batch and make a counterfactual prediction: “What would the expression look like if my batch \"RPM211 and RPM232\" cells came from batch “RPM215 and RPM218”?”"
   ]
  },
  {
   "cell_type": "markdown",
   "metadata": {},
   "source": [
    "# Imputed protein expression: "
   ]
  },
  {
   "cell_type": "code",
   "execution_count": 24,
   "metadata": {
    "ExecuteTime": {
     "start_time": "2024-01-16T09:11:26.651880Z",
     "end_time": "2024-01-16T09:11:27.129815Z"
    }
   },
   "outputs": [],
   "source": [
    "true_protein_test = pd.DataFrame(held_out_proteins.X.toarray(), index = held_out_proteins.obs.index, columns = held_out_proteins.var.index)"
   ]
  },
  {
   "cell_type": "code",
   "execution_count": 25,
   "metadata": {
    "ExecuteTime": {
     "start_time": "2024-01-16T09:11:28.557027Z",
     "end_time": "2024-01-16T09:11:28.732412Z"
    }
   },
   "outputs": [],
   "source": [
    "imputed_pros = protein_means[adata_final.obs.patient.isin(test_patients)]\n",
    "\n",
    "pat_names = adata_final.obs['patient'].isin(test_patients)\n",
    "patients = adata_final.obs.patient[pat_names].values\n",
    "imputed_proteins_test = imputed_pros[overlap_protein] # Subset totalvi output to only include overlapping proteins"
   ]
  },
  {
   "cell_type": "code",
   "execution_count": 26,
   "metadata": {
    "ExecuteTime": {
     "start_time": "2024-01-16T09:11:32.258616Z",
     "end_time": "2024-01-16T09:11:32.363456Z"
    }
   },
   "outputs": [],
   "source": [
    "def corr2_coeff(A, B, pearson = True):\n",
    "    if pearson:\n",
    "        # Rowwise mean of input arrays & subtract from input arrays themeselves\n",
    "        A_mA = A - A.mean(1)[:, None]\n",
    "        B_mB = B - B.mean(1)[:, None]\n",
    "\n",
    "        # Sum of squares across rows\n",
    "        ssA = (A_mA**2).sum(1)\n",
    "        ssB = (B_mB**2).sum(1)\n",
    "\n",
    "        # Finally get corr coeff\n",
    "        corr_mat = np.dot(A_mA, B_mB.T) / np.sqrt(np.dot(ssA[:, None],ssB[None]))\n",
    "        \n",
    "        return corr_mat[range(corr_mat.shape[0]), range(corr_mat.shape[0])]\n",
    "    \n",
    "    else:\n",
    "        corrs = [0.] * A.shape[0]\n",
    "        \n",
    "        for i in range(A.shape[0]):\n",
    "            corrs[i] = spearmanr(A[i], B[i])[0]\n",
    "            \n",
    "        return corrs"
   ]
  },
  {
   "cell_type": "code",
   "execution_count": 27,
   "metadata": {
    "ExecuteTime": {
     "start_time": "2024-01-16T09:11:35.561174Z",
     "end_time": "2024-01-16T09:11:36.459497Z"
    }
   },
   "outputs": [
    {
     "name": "stderr",
     "output_type": "stream",
     "text": [
      "C:\\Users\\26074\\.conda\\envs\\sciPENN\\lib\\site-packages\\scanpy\\preprocessing\\_simple.py:843: UserWarning: Revieved a view of an AnnData. Making a copy.\n",
      "  view_to_actual(adata)\n"
     ]
    }
   ],
   "source": [
    "# Normalize totalvi output, and gold standard counts\n",
    "\n",
    "true_protein_test = AnnData(true_protein_test)\n",
    "imputed_proteins_test = AnnData(imputed_proteins_test)\n",
    "\n",
    "sc.pp.normalize_total(true_protein_test)\n",
    "sc.pp.log1p(true_protein_test)\n",
    "\n",
    "sc.pp.normalize_total(imputed_proteins_test)\n",
    "sc.pp.log1p(imputed_proteins_test)\n",
    "\n",
    "for patient in test_patients:\n",
    "    indices = [x == patient for x in patients]\n",
    "    sub_adata = imputed_proteins_test[indices]\n",
    "    sc.pp.scale(sub_adata)\n",
    "    imputed_proteins_test[indices] = sub_adata.X\n",
    "    \n",
    "    sub_adata = true_protein_test[indices]\n",
    "    sc.pp.scale(sub_adata)\n",
    "    true_protein_test[indices] = sub_adata.X\n",
    "    \n",
    "cells, proteins = imputed_proteins_test.obs.index, imputed_proteins_test.var.index\n",
    "true_protein_test = pd.DataFrame(true_protein_test.X)\n",
    "imputed_proteins_test = pd.DataFrame(imputed_proteins_test.X, index = cells, columns = proteins)"
   ]
  },
  {
   "cell_type": "code",
   "execution_count": 28,
   "metadata": {
    "ExecuteTime": {
     "start_time": "2024-01-16T09:11:37.699187Z",
     "end_time": "2024-01-16T09:11:37.806997Z"
    }
   },
   "outputs": [],
   "source": [
    "sq = lambda x, y: (x - y)**2"
   ]
  },
  {
   "cell_type": "code",
   "execution_count": 29,
   "metadata": {
    "ExecuteTime": {
     "start_time": "2024-01-16T09:11:42.269037Z",
     "end_time": "2024-01-16T09:11:43.029333Z"
    }
   },
   "outputs": [],
   "source": [
    "corrs_table = np.zeros((imputed_proteins_test.shape[1], len(np.unique(patients))))\n",
    "sq_table = corrs_table.copy()\n",
    "\n",
    "for i, patient in enumerate(np.unique(patients)):\n",
    "    truth = true_protein_test[patients == patient].to_numpy()\n",
    "    imputed = imputed_proteins_test[patients == patient].to_numpy()\n",
    "\n",
    "    corrs_table[:, i] = corr2_coeff(truth.T, imputed.T)\n",
    "    sq_table[:, i] = sq(truth, imputed).mean(axis = 0)\n",
    "\n",
    "if np.isnan(corrs_table).sum() > 0:\n",
    "    corrs_table[np.isnan(corrs_table)] = 0\n",
    "    \n",
    "corrs_table = pd.DataFrame(corrs_table)\n",
    "sq_table = pd.DataFrame(sq_table)\n",
    "corrs_table.index, corrs_table.columns = imputed_proteins_test.columns, np.unique(patients)\n",
    "sq_table.index, sq_table.columns = imputed_proteins_test.columns, np.unique(patients)"
   ]
  },
  {
   "cell_type": "code",
   "execution_count": 30,
   "metadata": {
    "scrolled": true,
    "ExecuteTime": {
     "start_time": "2024-01-16T09:11:43.647465Z",
     "end_time": "2024-01-16T09:11:43.748290Z"
    }
   },
   "outputs": [
    {
     "data": {
      "text/plain": "P2    0.467619\nP5    0.471790\nP6    0.503800\nP8    0.454239\ndtype: float64"
     },
     "execution_count": 30,
     "metadata": {},
     "output_type": "execute_result"
    }
   ],
   "source": [
    "#here are correlations\n",
    "\n",
    "corrs_table.mean()"
   ]
  },
  {
   "cell_type": "code",
   "execution_count": 31,
   "metadata": {
    "scrolled": true,
    "ExecuteTime": {
     "start_time": "2024-01-16T09:11:48.453685Z",
     "end_time": "2024-01-16T09:11:48.559798Z"
    }
   },
   "outputs": [
    {
     "data": {
      "text/plain": "0.47436208452752127"
     },
     "execution_count": 31,
     "metadata": {},
     "output_type": "execute_result"
    }
   ],
   "source": [
    "#here are correlations\n",
    "\n",
    "corrs_table.mean().mean()"
   ]
  },
  {
   "cell_type": "code",
   "execution_count": 32,
   "metadata": {
    "ExecuteTime": {
     "start_time": "2024-01-16T09:13:17.955244Z",
     "end_time": "2024-01-16T09:13:18.049331Z"
    }
   },
   "outputs": [
    {
     "data": {
      "text/plain": "P2    1.064699\nP5    1.056369\nP6    0.992352\nP8    1.091478\ndtype: float64"
     },
     "execution_count": 32,
     "metadata": {},
     "output_type": "execute_result"
    }
   ],
   "source": [
    "sq_table.mean()"
   ]
  },
  {
   "cell_type": "code",
   "execution_count": 33,
   "metadata": {
    "ExecuteTime": {
     "start_time": "2024-01-16T09:13:19.436525Z",
     "end_time": "2024-01-16T09:13:19.546495Z"
    }
   },
   "outputs": [
    {
     "data": {
      "text/plain": "1.0512245340755078"
     },
     "execution_count": 33,
     "metadata": {},
     "output_type": "execute_result"
    }
   ],
   "source": [
    "sq_table.mean().mean()"
   ]
  },
  {
   "cell_type": "code",
   "execution_count": 34,
   "metadata": {
    "ExecuteTime": {
     "start_time": "2024-01-16T09:13:43.578208Z",
     "end_time": "2024-01-16T09:13:53.330732Z"
    }
   },
   "outputs": [],
   "source": [
    "imputed_proteins_test.to_csv('totalvi_protein_pbmctopbmc.csv')"
   ]
  },
  {
   "cell_type": "code",
   "execution_count": 35,
   "metadata": {
    "ExecuteTime": {
     "start_time": "2024-01-16T09:13:55.767907Z",
     "end_time": "2024-01-16T09:13:55.904430Z"
    }
   },
   "outputs": [],
   "source": [
    "def extract_vector(df, meta_data, protein, truth = True):\n",
    "    bools = [x in ['CD14 Mono', 'CD16 Mono', 'cDC2'] for x in meta_data['celltype.l2'].values]\n",
    "    tmp = df[bools].copy()\n",
    "    meta_data = meta_data[bools]\n",
    "    \n",
    "    vector = tmp[[protein]]\n",
    "    \n",
    "    out = [pd.DataFrame(x.copy()) for x in (vector, meta_data['celltype.l2'].cat.remove_unused_categories(), meta_data['time'].values)]\n",
    "    for i in range(len(out)):\n",
    "        out[i].index = meta_data.index\n",
    "        \n",
    "    res = pd.concat(out, axis = 1)\n",
    "    res.columns = [\"CD169 Expression\", \"Celltype\", \"Time\"]\n",
    "    \n",
    "    return res\n",
    "\n",
    "true_protein_test.columns = var_data.index\n",
    "df = extract_vector(true_protein_test, meta_data, 'CD169')"
   ]
  },
  {
   "cell_type": "code",
   "execution_count": 36,
   "metadata": {
    "ExecuteTime": {
     "start_time": "2024-01-16T09:13:58.735473Z",
     "end_time": "2024-01-16T09:13:59.056562Z"
    }
   },
   "outputs": [
    {
     "data": {
      "text/plain": "<Figure size 640x480 with 1 Axes>",
      "image/png": "[encoded data removed]"
     },
     "metadata": {},
     "output_type": "display_data"
    }
   ],
   "source": [
    "import seaborn as sns\n",
    "from matplotlib import pyplot\n",
    "\n",
    "sns.set(style=\"darkgrid\")\n",
    " \n",
    "# Grouped violinplot\n",
    "sns.violinplot(x = \"Celltype\", y = \"CD169 Expression\", hue = \"Time\", data = df, palette = \"Pastel1\")\n",
    "pyplot.show()"
   ]
  },
  {
   "cell_type": "code",
   "execution_count": 37,
   "metadata": {
    "ExecuteTime": {
     "start_time": "2024-01-16T09:14:07.961496Z",
     "end_time": "2024-01-16T09:14:08.356837Z"
    }
   },
   "outputs": [
    {
     "data": {
      "text/plain": "<Figure size 640x480 with 1 Axes>",
      "image/png": "[encoded data removed]"
     },
     "metadata": {},
     "output_type": "display_data"
    }
   ],
   "source": [
    "imputed_proteins_test.columns = var_data.index\n",
    "\n",
    "df = extract_vector(imputed_proteins_test, meta_data, 'CD169')\n",
    "\n",
    "sns.set(style=\"darkgrid\")\n",
    " \n",
    "# Grouped violinplot\n",
    "sns.violinplot(x = \"Celltype\", y = \"CD169 Expression\", hue = \"Time\", data = df, palette = \"Pastel1\")\n",
    "pyplot.show()\n",
    "\n",
    "df.to_csv(\"totalvi_CD169.csv\")"
   ]
  },
  {
   "cell_type": "code",
   "execution_count": 40,
   "metadata": {
    "ExecuteTime": {
     "start_time": "2024-01-16T09:21:35.218247Z",
     "end_time": "2024-01-16T09:21:35.312539Z"
    }
   },
   "outputs": [],
   "source": [
    "def get_groups(df, celltype):\n",
    "    df_sub = df[df['Celltype'] == celltype]\n",
    "    time0 = df_sub[df['Time'] == '0']\n",
    "    time3 = df_sub[df['Time'] == '3']\n",
    "    time7 = df_sub[df['Time'] == '7']\n",
    "    \n",
    "    return time0['CD169 Expression'], time3['CD169 Expression'], time7['CD169 Expression']"
   ]
  },
  {
   "cell_type": "code",
   "execution_count": 41,
   "metadata": {
    "ExecuteTime": {
     "start_time": "2024-01-16T09:21:36.597065Z",
     "end_time": "2024-01-16T09:21:36.709860Z"
    }
   },
   "outputs": [
    {
     "name": "stderr",
     "output_type": "stream",
     "text": [
      "C:\\Users\\26074\\.conda\\envs\\sciPENN\\lib\\site-packages\\ipykernel_launcher.py:3: UserWarning: Boolean Series key will be reindexed to match DataFrame index.\n",
      "  This is separate from the ipykernel package so we can avoid doing imports until\n",
      "C:\\Users\\26074\\.conda\\envs\\sciPENN\\lib\\site-packages\\ipykernel_launcher.py:4: UserWarning: Boolean Series key will be reindexed to match DataFrame index.\n",
      "  after removing the cwd from sys.path.\n",
      "C:\\Users\\26074\\.conda\\envs\\sciPENN\\lib\\site-packages\\ipykernel_launcher.py:5: UserWarning: Boolean Series key will be reindexed to match DataFrame index.\n",
      "  \"\"\"\n"
     ]
    },
    {
     "data": {
      "text/plain": "KruskalResult(statistic=745.6597659932618, pvalue=1.2079226528977476e-162)"
     },
     "execution_count": 41,
     "metadata": {},
     "output_type": "execute_result"
    }
   ],
   "source": [
    "from scipy.stats import kruskal\n",
    "\n",
    "kruskal(*get_groups(df, 'CD14 Mono'))"
   ]
  },
  {
   "cell_type": "code",
   "execution_count": 42,
   "metadata": {
    "ExecuteTime": {
     "start_time": "2024-01-16T09:21:40.592778Z",
     "end_time": "2024-01-16T09:21:40.691637Z"
    }
   },
   "outputs": [
    {
     "name": "stderr",
     "output_type": "stream",
     "text": [
      "C:\\Users\\26074\\.conda\\envs\\sciPENN\\lib\\site-packages\\ipykernel_launcher.py:3: UserWarning: Boolean Series key will be reindexed to match DataFrame index.\n",
      "  This is separate from the ipykernel package so we can avoid doing imports until\n",
      "C:\\Users\\26074\\.conda\\envs\\sciPENN\\lib\\site-packages\\ipykernel_launcher.py:4: UserWarning: Boolean Series key will be reindexed to match DataFrame index.\n",
      "  after removing the cwd from sys.path.\n",
      "C:\\Users\\26074\\.conda\\envs\\sciPENN\\lib\\site-packages\\ipykernel_launcher.py:5: UserWarning: Boolean Series key will be reindexed to match DataFrame index.\n",
      "  \"\"\"\n"
     ]
    },
    {
     "data": {
      "text/plain": "KruskalResult(statistic=65.0174141244861, pvalue=7.614614281999819e-15)"
     },
     "execution_count": 42,
     "metadata": {},
     "output_type": "execute_result"
    }
   ],
   "source": [
    "kruskal(*get_groups(df, 'CD16 Mono'))"
   ]
  },
  {
   "cell_type": "code",
   "execution_count": 43,
   "metadata": {
    "ExecuteTime": {
     "start_time": "2024-01-16T09:21:41.728057Z",
     "end_time": "2024-01-16T09:21:41.855593Z"
    }
   },
   "outputs": [
    {
     "name": "stderr",
     "output_type": "stream",
     "text": [
      "C:\\Users\\26074\\.conda\\envs\\sciPENN\\lib\\site-packages\\ipykernel_launcher.py:3: UserWarning: Boolean Series key will be reindexed to match DataFrame index.\n",
      "  This is separate from the ipykernel package so we can avoid doing imports until\n",
      "C:\\Users\\26074\\.conda\\envs\\sciPENN\\lib\\site-packages\\ipykernel_launcher.py:4: UserWarning: Boolean Series key will be reindexed to match DataFrame index.\n",
      "  after removing the cwd from sys.path.\n",
      "C:\\Users\\26074\\.conda\\envs\\sciPENN\\lib\\site-packages\\ipykernel_launcher.py:5: UserWarning: Boolean Series key will be reindexed to match DataFrame index.\n",
      "  \"\"\"\n"
     ]
    },
    {
     "data": {
      "text/plain": "KruskalResult(statistic=115.60701658909193, pvalue=7.875086141847914e-26)"
     },
     "execution_count": 43,
     "metadata": {},
     "output_type": "execute_result"
    }
   ],
   "source": [
    "kruskal(*get_groups(df, 'cDC2'))"
   ]
  },
  {
   "cell_type": "code",
   "execution_count": null,
   "outputs": [],
   "source": [],
   "metadata": {
    "collapsed": false
   }
  }
 ],
 "metadata": {
  "kernelspec": {
   "name": "scipenn",
   "language": "python",
   "display_name": "sciPENN"
  },
  "language_info": {
   "codemirror_mode": {
    "name": "ipython",
    "version": 3
   },
   "file_extension": ".py",
   "mimetype": "text/x-python",
   "name": "python",
   "nbconvert_exporter": "python",
   "pygments_lexer": "ipython3",
   "version": "3.10.13"
  }
 },
 "nbformat": 4,
 "nbformat_minor": 4
}
