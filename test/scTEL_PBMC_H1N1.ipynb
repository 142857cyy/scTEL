{
 "cells": [
  {
   "cell_type": "code",
   "execution_count": null,
   "metadata": {
    "ExecuteTime": {
     "start_time": "2024-03-03T23:25:39.997227Z",
     "end_time": "2024-03-03T23:25:40.772567Z"
    }
   },
   "outputs": [],
   "source": [
    "%load_ext autoreload\n",
    "%autoreload 2\n",
    "\n",
    "import numpy as np\n",
    "from scipy.stats import spearmanr\n",
    "import scanpy as sc\n",
    "import pandas as pd\n",
    "import torch,numpy,random\n",
    "from scTEL.scTEL_API import scTEL_API"
   ]
  },
  {
   "cell_type": "code",
   "execution_count": null,
   "outputs": [],
   "source": [
    "def setup_seed(seed):\n",
    "    torch.manual_seed(seed)\n",
    "    torch.cuda.manual_seed_all(seed)\n",
    "    numpy.random.seed(seed)\n",
    "    random.seed(seed)\n",
    "    if torch.cuda.is_available():\n",
    "        torch.cuda.manual_seed(seed)\n",
    "        torch.cuda.manual_seed_all(seed)\n",
    "\n",
    "\n",
    "setup_seed(2021)"
   ],
   "metadata": {
    "collapsed": false
   }
  },
  {
   "cell_type": "code",
   "execution_count": null,
   "metadata": {
    "scrolled": true,
    "ExecuteTime": {
     "start_time": "2024-03-03T23:25:40.772567Z",
     "end_time": "2024-03-03T23:26:40.202179Z"
    }
   },
   "outputs": [],
   "source": [
    "adata_gene = sc.read(\"./Data/pbmc/pbmc_gene.h5ad\")\n",
    "adata_protein = sc.read(\"./Data/pbmc/pbmc_protein.h5ad\")\n",
    "\n",
    "adata_gene_test = sc.read(\"./Data/H1N1/gene_data.mtx\").T\n",
    "adata_gene_test.var.index = pd.read_csv(\"./Data/H1N1/gene_names.txt\", index_col=0).iloc[:, 0]\n",
    "adata_gene_test.obs = pd.read_csv(\"./Data/H1N1/meta_data.txt\", sep=',', index_col=0)"
   ]
  },
  {
   "cell_type": "code",
   "execution_count": null,
   "outputs": [],
   "source": [
    "scTEL = scTEL_API([adata_gene], [adata_protein], adata_gene_test,\n",
    "                  train_batchkeys=['donor'], test_batchkey='sample',batch_size=32,h_size=512,\n",
    "                  min_cells=30, min_genes=200, h=4, drop_rate=0.15)"
   ],
   "metadata": {
    "collapsed": false,
    "ExecuteTime": {
     "start_time": "2024-03-03T23:26:40.202179Z",
     "end_time": "2024-03-03T23:28:07.339387Z"
    }
   }
  },
  {
   "cell_type": "code",
   "execution_count": null,
   "metadata": {
    "ExecuteTime": {
     "start_time": "2024-03-03T23:28:12.146541Z",
     "end_time": "2024-03-04T08:30:55.706623Z"
    }
   },
   "outputs": [],
   "source": [
    "scTEL.train(n_epochs=1000, ES_max=30, decay_max=10,\n",
    "            decay_step=0.1, lr=0.001, weights_dir=\"weights_dir/pbmc_to_h1n1_scTEL1\", load=True)"
   ]
  },
  {
   "cell_type": "code",
   "execution_count": null,
   "metadata": {
    "ExecuteTime": {
     "start_time": "2024-03-04T09:50:05.700005Z",
     "end_time": "2024-03-04T09:52:09.101637Z"
    }
   },
   "outputs": [],
   "source": [
    "imputed_test = scTEL.predict()"
   ]
  },
  {
   "cell_type": "code",
   "execution_count": null,
   "metadata": {
    "ExecuteTime": {
     "start_time": "2024-03-04T10:01:02.008173Z",
     "end_time": "2024-03-04T10:08:57.297279Z"
    }
   },
   "outputs": [],
   "source": [
    "embedding = scTEL.embed()\n",
    "embedding.write(\"sctel_pbmctoh1n1embedding.h5ad\")"
   ]
  },
  {
   "cell_type": "code",
   "execution_count": null,
   "metadata": {
    "ExecuteTime": {
     "start_time": "2024-03-04T10:15:17.336272Z",
     "end_time": "2024-03-04T10:15:22.756560Z"
    }
   },
   "outputs": [],
   "source": [
    "\"\"\"Get test data\"\"\"\n",
    "adata_protein_test = sc.read(\"./Data/H1N1/protein_data.mtx\").T\n",
    "adata_protein_test.var.index = [x[:len(x) - 5] for x in\n",
    "                                pd.read_csv(\"./Data/H1N1/protein_names.txt\", index_col=0).iloc[:, 0]]\n",
    "adata_protein_test.obs = pd.read_csv(\"./Data/H1N1/meta_data.txt\", sep=',', index_col=0)\n",
    "\n",
    "adata_protein_test.X = adata_protein_test.X.toarray()\n",
    "adata_protein_test.layers[\"raw\"] = adata_protein_test.X\n",
    "\n",
    "adata_protein_test = adata_protein_test[imputed_test.obs.index]\n",
    "\n",
    "sc.pp.normalize_total(adata_protein_test)\n",
    "sc.pp.log1p(adata_protein_test)\n",
    "\n",
    "common_proteins = np.intersect1d(imputed_test.var.index, adata_protein_test.var.index)\n",
    "\n",
    "adata_protein_test = adata_protein_test[:, common_proteins]\n",
    "adata_protein_test.layers['imputed'] = imputed_test[:, common_proteins].X\n",
    "adata_protein_test.layers.update(imputed_test[:, common_proteins].layers)\n",
    "\n",
    "patients = np.unique(adata_protein_test.obs['sample'].values)\n",
    "\n",
    "for patient in patients:\n",
    "    indices = [x == patient for x in adata_protein_test.obs['sample']]\n",
    "    sub_adata = adata_protein_test[indices]\n",
    "\n",
    "    sc.pp.scale(sub_adata)\n",
    "    adata_protein_test[indices] = sub_adata.X"
   ]
  },
  {
   "cell_type": "code",
   "execution_count": null,
   "metadata": {
    "ExecuteTime": {
     "start_time": "2024-03-04T10:15:27.485869Z",
     "end_time": "2024-03-04T10:15:27.564652Z"
    }
   },
   "outputs": [],
   "source": [
    "def corr2_coeff(A, B, pearson = True):\n",
    "    if pearson:\n",
    "        # Rowwise mean of input arrays & subtract from input arrays themeselves\n",
    "        A_mA = A - A.mean(1)[:, None]\n",
    "        B_mB = B - B.mean(1)[:, None]\n",
    "\n",
    "        # Sum of squares across rows\n",
    "        ssA = (A_mA**2).sum(1)\n",
    "        ssB = (B_mB**2).sum(1)\n",
    "\n",
    "        # Finally get corr coeff\n",
    "        corr_mat = np.dot(A_mA, B_mB.T) / np.sqrt(np.dot(ssA[:, None],ssB[None]))\n",
    "        \n",
    "        return corr_mat[range(corr_mat.shape[0]), range(corr_mat.shape[0])]\n",
    "    \n",
    "    else:\n",
    "        corrs = [0.] * A.shape[0]\n",
    "        \n",
    "        for i in range(A.shape[0]):\n",
    "            corrs[i] = spearmanr(A[i], B[i])[0]\n",
    "            \n",
    "        return corrs"
   ]
  },
  {
   "cell_type": "code",
   "execution_count": null,
   "metadata": {
    "ExecuteTime": {
     "start_time": "2024-03-04T10:15:31.904552Z",
     "end_time": "2024-03-04T10:15:32.011697Z"
    }
   },
   "outputs": [],
   "source": [
    "\"\"\"Compute correlation across patients\"\"\"\n",
    "corrs = corr2_coeff(adata_protein_test.layers[\"imputed\"].T, adata_protein_test.X.T)\n",
    "corrs = pd.DataFrame(corrs)\n",
    "corrs.index = adata_protein_test.var.index\n",
    "corrs = corrs.dropna()"
   ]
  },
  {
   "cell_type": "code",
   "execution_count": null,
   "metadata": {
    "ExecuteTime": {
     "start_time": "2024-03-04T10:15:36.458263Z",
     "end_time": "2024-03-04T10:15:36.545403Z"
    }
   },
   "outputs": [],
   "source": [
    "MSEs= ((adata_protein_test.X - adata_protein_test.layers[\"imputed\"])**2).mean(axis = 0)**(1/2)\n",
    "\n",
    "protein_table = pd.DataFrame(np.concatenate((corrs.to_numpy(), np.expand_dims(MSEs, axis = 1), adata_protein_test.layers[\"raw\"].mean(axis = 0, keepdims = True).T), axis = 1), \n",
    "                             index = corrs.index, columns = [\"Correlations\", \"RMSE\", \"Mean Expression\"])\n",
    "\n",
    "protein_table[\"Log-Mean Expression\"] = np.log(protein_table[\"Mean Expression\"])"
   ]
  },
  {
   "cell_type": "code",
   "execution_count": null,
   "metadata": {
    "ExecuteTime": {
     "start_time": "2024-03-04T10:15:39.148862Z",
     "end_time": "2024-03-04T10:15:39.228946Z"
    }
   },
   "outputs": [],
   "source": [
    "sq = lambda x, y: (x - y)**2"
   ]
  },
  {
   "cell_type": "code",
   "execution_count": null,
   "metadata": {
    "ExecuteTime": {
     "start_time": "2024-03-04T10:15:49.252057Z",
     "end_time": "2024-03-04T10:15:49.527005Z"
    }
   },
   "outputs": [],
   "source": [
    "\"\"\"Compute correlations within patient\"\"\"\n",
    "corrs_table = np.zeros((adata_protein_test.shape[1], len(np.unique(adata_protein_test.obs[\"sample\"]))))\n",
    "sq_table = corrs_table.copy()\n",
    "\n",
    "i = 0\n",
    "for patient in np.unique(adata_protein_test.obs[\"sample\"]):\n",
    "    truth = adata_protein_test[adata_protein_test.obs[\"sample\"] == patient].X.copy()\n",
    "    imputed = adata_protein_test.layers[\"imputed\"][adata_protein_test.obs[\"sample\"] == patient].copy()\n",
    "\n",
    "    corrs_table[:, i] = corr2_coeff(truth.T, imputed.T)\n",
    "    sq_table[:, i] = sq(truth, imputed).mean(axis = 0)\n",
    "    i += 1\n",
    "\n",
    "if np.isnan(corrs_table).sum() > 0:\n",
    "    corrs_table[np.isnan(corrs_table)] = 0"
   ]
  },
  {
   "cell_type": "code",
   "execution_count": null,
   "metadata": {
    "ExecuteTime": {
     "start_time": "2024-03-04T10:15:53.175187Z",
     "end_time": "2024-03-04T10:15:53.296946Z"
    }
   },
   "outputs": [],
   "source": [
    "corrs_table = pd.DataFrame(corrs_table)\n",
    "corrs_table.index, corrs_table.columns = adata_protein_test.var.index, np.unique(adata_protein_test.obs[\"sample\"])\n",
    "\n",
    "sq_table = pd.DataFrame(sq_table)\n",
    "sq_table.index, sq_table.columns = adata_protein_test.var.index, np.unique(adata_protein_test.obs[\"sample\"])"
   ]
  },
  {
   "cell_type": "code",
   "execution_count": null,
   "metadata": {
    "ExecuteTime": {
     "start_time": "2024-03-04T10:15:57.427725Z",
     "end_time": "2024-03-04T10:15:57.515897Z"
    }
   },
   "outputs": [],
   "source": [
    "corrs_table.mean(axis = 0)"
   ]
  },
  {
   "cell_type": "code",
   "execution_count": null,
   "metadata": {
    "ExecuteTime": {
     "start_time": "2024-03-04T10:16:02.579330Z",
     "end_time": "2024-03-04T10:16:02.657567Z"
    }
   },
   "outputs": [],
   "source": [
    "corrs_table.mean().mean()"
   ]
  },
  {
   "cell_type": "code",
   "execution_count": null,
   "metadata": {
    "ExecuteTime": {
     "start_time": "2024-03-04T10:16:12.430755Z",
     "end_time": "2024-03-04T10:16:12.508919Z"
    }
   },
   "outputs": [],
   "source": [
    "corrs_table.to_csv('corrs_results/sctel_pbmctoh1n1.csv')"
   ]
  },
  {
   "cell_type": "code",
   "execution_count": null,
   "metadata": {
    "ExecuteTime": {
     "start_time": "2024-03-04T10:16:15.138822Z",
     "end_time": "2024-03-04T10:16:15.234364Z"
    }
   },
   "outputs": [],
   "source": [
    "sq_table.mean(axis = 0)"
   ]
  },
  {
   "cell_type": "code",
   "execution_count": null,
   "metadata": {
    "ExecuteTime": {
     "start_time": "2024-03-04T10:16:19.118061Z",
     "end_time": "2024-03-04T10:16:19.209003Z"
    }
   },
   "outputs": [],
   "source": [
    "sq_table.mean().mean()"
   ]
  },
  {
   "cell_type": "code",
   "execution_count": null,
   "metadata": {
    "ExecuteTime": {
     "start_time": "2024-03-04T10:16:27.336947Z",
     "end_time": "2024-03-04T10:16:27.420103Z"
    }
   },
   "outputs": [],
   "source": [
    "sq_table.to_csv('mse_results/sctel_pbmctoh1n1.csv')"
   ]
  },
  {
   "cell_type": "code",
   "execution_count": null,
   "metadata": {
    "ExecuteTime": {
     "start_time": "2024-03-04T10:16:48.763652Z",
     "end_time": "2024-03-04T10:16:48.851886Z"
    }
   },
   "outputs": [],
   "source": [
    "r95 = (adata_protein_test.X < adata_protein_test.layers['q75'])\n",
    "l95 = (adata_protein_test.X > adata_protein_test.layers['q25'])\n",
    "print(f\"Effective Coverage Probability for Nominal 50% PI: {(r95*l95).mean():.3f}\")"
   ]
  },
  {
   "cell_type": "code",
   "execution_count": null,
   "metadata": {
    "ExecuteTime": {
     "start_time": "2024-03-04T10:16:50.125275Z",
     "end_time": "2024-03-04T10:16:50.210985Z"
    }
   },
   "outputs": [],
   "source": [
    "r95 = (adata_protein_test.X < adata_protein_test.layers['q90'])\n",
    "l95 = (adata_protein_test.X > adata_protein_test.layers['q10'])\n",
    "\n",
    "print(f\"Effective Coverage Probability for Nominal 80% PI: {(r95*l95).mean():.3f}\")"
   ]
  },
  {
   "cell_type": "code",
   "execution_count": null,
   "metadata": {
    "ExecuteTime": {
     "start_time": "2024-03-04T10:17:01.207149Z",
     "end_time": "2024-03-04T10:17:02.001729Z"
    }
   },
   "outputs": [],
   "source": [
    "adata_protein_test.write(\"sctel_pbmctoh1n1features.h5ad\")"
   ]
  },
  {
   "cell_type": "code",
   "execution_count": null,
   "outputs": [],
   "source": [],
   "metadata": {
    "collapsed": false
   }
  }
 ],
 "metadata": {
  "kernelspec": {
   "name": "python3",
   "language": "python",
   "display_name": "Python 3 (ipykernel)"
  },
  "language_info": {
   "codemirror_mode": {
    "name": "ipython",
    "version": 3
   },
   "file_extension": ".py",
   "mimetype": "text/x-python",
   "name": "python",
   "nbconvert_exporter": "python",
   "pygments_lexer": "ipython3",
   "version": "3.7.0"
  }
 },
 "nbformat": 4,
 "nbformat_minor": 4
}
